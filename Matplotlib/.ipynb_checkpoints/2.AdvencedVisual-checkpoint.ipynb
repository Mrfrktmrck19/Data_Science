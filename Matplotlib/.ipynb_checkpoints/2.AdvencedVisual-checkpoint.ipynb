{
 "cells": [
  {
   "cell_type": "markdown",
   "id": "8d2ed0d1",
   "metadata": {},
   "source": [
    "# Visual Improving/Enhancements"
   ]
  },
  {
   "cell_type": "code",
   "execution_count": 1,
   "id": "4cf47589",
   "metadata": {},
   "outputs": [],
   "source": [
    "import numpy as np\n",
    "import matplotlib.pyplot as plt"
   ]
  },
  {
   "cell_type": "code",
   "execution_count": 2,
   "id": "cc0c0b1c",
   "metadata": {},
   "outputs": [],
   "source": [
    "%matplotlib inline"
   ]
  },
  {
   "cell_type": "code",
   "execution_count": 4,
   "id": "077119ca",
   "metadata": {},
   "outputs": [
    {
     "data": {
      "text/plain": [
       "array([ 1. ,  1.5,  2. ,  2.5,  3. ,  3.5,  4. ,  4.5,  5. ,  5.5,  6. ,\n",
       "        6.5,  7. ,  7.5,  8. ,  8.5,  9. ,  9.5, 10. ])"
      ]
     },
     "execution_count": 4,
     "metadata": {},
     "output_type": "execute_result"
    }
   ],
   "source": [
    "numpArray1= np.linspace(1,10,19)\n",
    "numpArray1"
   ]
  },
  {
   "cell_type": "code",
   "execution_count": 5,
   "id": "f3de6985",
   "metadata": {},
   "outputs": [
    {
     "data": {
      "text/plain": [
       "array([   1.   ,    3.375,    8.   ,   15.625,   27.   ,   42.875,\n",
       "         64.   ,   91.125,  125.   ,  166.375,  216.   ,  274.625,\n",
       "        343.   ,  421.875,  512.   ,  614.125,  729.   ,  857.375,\n",
       "       1000.   ])"
      ]
     },
     "execution_count": 5,
     "metadata": {},
     "output_type": "execute_result"
    }
   ],
   "source": [
    "numpArray2 = numpArray1**3\n",
    "numpArray2"
   ]
  },
  {
   "cell_type": "code",
   "execution_count": 19,
   "id": "8a2b02cd",
   "metadata": {
    "scrolled": true
   },
   "outputs": [
    {
     "data": {
      "text/plain": [
       "<matplotlib.legend.Legend at 0x1be3cb4ee20>"
      ]
     },
     "execution_count": 19,
     "metadata": {},
     "output_type": "execute_result"
    },
    {
     "data": {
      "image/png": "[encoded data removed]",
      "text/plain": [
       "<Figure size 216x216 with 1 Axes>"
      ]
     },
     "metadata": {
      "needs_background": "light"
     },
     "output_type": "display_data"
    }
   ],
   "source": [
    "newFigure = plt.figure(figsize=(3,3)) #figure size override axes size\n",
    "newAxis = newFigure.add_axes([0.1,0.1,0.9,0.9])\n",
    "newAxis.plot(numpArray1,numpArray1**2,\"g\",label=\"NumpArray**2\")\n",
    "newAxis.plot(numpArray1,numpArray1**3,\"r\",label=\"NumpArray**2\")#\n",
    "newAxis.legend(loc=0) #loc =0 default value, you can assign 1,2,3..."
   ]
  },
  {
   "cell_type": "code",
   "execution_count": 23,
   "id": "f1c72ca4",
   "metadata": {},
   "outputs": [
    {
     "data": {
      "text/plain": [
       "<matplotlib.legend.Legend at 0x1be3c0cf460>"
      ]
     },
     "execution_count": 23,
     "metadata": {},
     "output_type": "execute_result"
    },
    {
     "data": {
      "image/png": "[encoded data removed]",
      "text/plain": [
       "<Figure size 300x200 with 1 Axes>"
      ]
     },
     "metadata": {
      "needs_background": "light"
     },
     "output_type": "display_data"
    }
   ],
   "source": [
    "newFigure = plt.figure(dpi=50) #size, both of x-y\n",
    "newAxis = newFigure.add_axes([0.1,0.1,0.9,0.9])\n",
    "newAxis.plot(numpArray1,numpArray1**2,\"g\",label=\"NumpArray**2\")\n",
    "newAxis.plot(numpArray1,numpArray1**3,\"r\",label=\"NumpArray**2\")#\n",
    "newAxis.legend(loc=0) #loc =0 default value, you can assign 1,2,3..."
   ]
  },
  {
   "cell_type": "code",
   "execution_count": 24,
   "id": "6052fa3b",
   "metadata": {},
   "outputs": [],
   "source": [
    "#newFigure.savefig(\"myFigure\",dpi=200)\n",
    "## download the figure to current file directory"
   ]
  },
  {
   "cell_type": "code",
   "execution_count": null,
   "id": "dadb6fe8",
   "metadata": {},
   "outputs": [],
   "source": []
  }
 ],
 "metadata": {
  "kernelspec": {
   "display_name": "Python 3",
   "language": "python",
   "name": "python3"
  },
  "language_info": {
   "codemirror_mode": {
    "name": "ipython",
    "version": 3
   },
   "file_extension": ".py",
   "mimetype": "text/x-python",
   "name": "python",
   "nbconvert_exporter": "python",
   "pygments_lexer": "ipython3",
   "version": "3.8.8"
  }
 },
 "nbformat": 4,
 "nbformat_minor": 5
}
