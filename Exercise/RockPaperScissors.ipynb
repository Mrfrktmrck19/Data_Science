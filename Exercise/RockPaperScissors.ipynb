{
  "nbformat": 4,
  "nbformat_minor": 0,
  "metadata": {
    "colab": {
      "provenance": [],
      "mount_file_id": "1ntwP0JIpGDukIPiWxBFMwe_uPXVWYUxP",
      "authorship_tag": "ABX9TyP82Wc0b/GGdsa/tc0MmP9X",
      "include_colab_link": true
    },
    "kernelspec": {
      "name": "python3",
      "display_name": "Python 3"
    },
    "language_info": {
      "name": "python"
    }
  },
  "cells": [
    {
      "cell_type": "markdown",
      "metadata": {
        "id": "view-in-github",
        "colab_type": "text"
      },
      "source": [
        "<a href=\"https://colab.research.google.com/github/Mrfrktmrck19/Data_Science/blob/master/Exercise/RockPaperScissors.ipynb\" target=\"_parent\"><img src=\"https://colab.research.google.com/assets/colab-badge.svg\" alt=\"Open In Colab\"/></a>"
      ]
    },
    {
      "cell_type": "markdown",
      "source": [
        "# Rock Paper Scissors"
      ],
      "metadata": {
        "id": "teZOWSYqfWsq"
      }
    },
    {
      "cell_type": "code",
      "source": [
        "import random"
      ],
      "metadata": {
        "id": "Jxqrl0pkTnuq"
      },
      "execution_count": null,
      "outputs": []
    },
    {
      "cell_type": "code",
      "source": [
        "def play():\n",
        "  laps = int(input(\"How many laps do you wanna play?\"))\n",
        "  type_list = [\"rock\",\"paper\",\"scissors\"]\n",
        "  your_score=0\n",
        "  pc_score=0\n",
        "\n",
        "  iteratorLaps=1\n",
        "  while laps != 0:\n",
        "    print(f\".....{iteratorLaps}. Lap.....\")\n",
        "    your_choice = input(\"Select your choise: \").lower()\n",
        "    pc_choice = type_list[random.randint(0,2)]\n",
        "    \n",
        "    if your_choice == \"rock\":\n",
        "      if pc_choice ==\"rock\":\n",
        "        print(f\"Pc Choice: {pc_choice}, Draw\")\n",
        "      elif pc_choice ==\"paper\":\n",
        "        print(f\"Pc Choice: {pc_choice}, Pc WON!\")\n",
        "        pc_score+=1\n",
        "      elif pc_choice == \"scissors\":\n",
        "        print(f\"Pc Choice: {pc_choice}, You WON!\")\n",
        "        your_score+=1\n",
        "\n",
        "    if your_choice == \"paper\":\n",
        "      if pc_choice ==\"paper\":\n",
        "        print(f\"Pc Choice: {pc_choice}, Draw\")\n",
        "      elif pc_choice ==\"scissors\":\n",
        "        print(f\"Pc Choice: {pc_choice}, Pc WON!\")\n",
        "        pc_score+=1\n",
        "      elif pc_choice == \"rock\":\n",
        "        print(f\"Pc Choice: {pc_choice}, You WON!\")\n",
        "        your_score+=1\n",
        "\n",
        "    if your_choice == \"scissors\":\n",
        "      if pc_choice ==\"scissors\":\n",
        "        print(f\"Pc Choice: {pc_choice}, Draw\")\n",
        "      elif pc_choice ==\"rock\":\n",
        "        print(f\"Pc Choice: {pc_choice}, Pc WON!\")\n",
        "        pc_score+=1\n",
        "      elif pc_choice == \"paper\":\n",
        "        print(f\"Pc Choice: {pc_choice}, You WON!\") \n",
        "        your_score+=1   \n",
        "    \n",
        "    iteratorLaps+=1\n",
        "    laps-=1\n",
        "\n",
        "  if your_score < pc_score:\n",
        "    print(\"PC WON THE CUP\")\n",
        "  elif your_score > pc_score:\n",
        "    print(\"YOU WON THE CUP\")\n",
        "  else:\n",
        "    print(\"Nobody won the cup.\")\n",
        "\n",
        "play()"
      ],
      "metadata": {
        "id": "VfR7R6PbT4Do",
        "colab": {
          "base_uri": "https://localhost:8080/"
        },
        "outputId": "c5a5f2e3-7c80-4807-e2fb-ac65b04985e1"
      },
      "execution_count": null,
      "outputs": [
        {
          "output_type": "stream",
          "name": "stdout",
          "text": [
            "How many laps do you wanna play?5\n",
            ".....1. Lap.....\n",
            "Select your choise: rock\n",
            "Pc Choice: scissors, You WON!\n",
            ".....2. Lap.....\n",
            "Select your choise: scissors\n",
            "Pc Choice: rock, Pc WON!\n",
            ".....3. Lap.....\n",
            "Select your choise: rock\n",
            "Pc Choice: rock, Draw\n",
            ".....4. Lap.....\n",
            "Select your choise: paper\n",
            "Pc Choice: rock, You WON!\n",
            ".....5. Lap.....\n",
            "Select your choise: paper\n",
            "Pc Choice: scissors, Pc WON!\n",
            "Nobody won the cup.\n"
          ]
        }
      ]
    },
    {
      "cell_type": "code",
      "source": [
        "import sys\n",
        "print(sys.version)\n",
        "# def http_status(status):\n",
        "#     match status:\n",
        "#         case 400:\n",
        "#             return \"Bad request\"\n",
        "#         case 401:\n",
        "#             return \"Unauthorized\"\n",
        "#         case 403:\n",
        "#             return \"Forbidden\"\n",
        "#         case 404:\n",
        "#             return \"Not found\"\n",
        "\n",
        "!sudo apt-get update -y\n",
        "!sudo apt-get install python3.11\n",
        " \n",
        "!sudo update-alternatives --install /usr/bin/python3 python3 /usr/bin/python3.7 1\n",
        "!sudo update-alternatives --install /usr/bin/python3 python3 /usr/bin/python3.11 2\n",
        " \n",
        "!python --version"
      ],
      "metadata": {
        "colab": {
          "base_uri": "https://localhost:8080/"
        },
        "id": "h8PoYA1DdONk",
        "outputId": "0ef99c50-bd3e-412e-f019-174fee989eca"
      },
      "execution_count": null,
      "outputs": [
        {
          "output_type": "stream",
          "name": "stdout",
          "text": [
            "3.8.10 (default, Nov 14 2022, 12:59:47) \n",
            "[GCC 9.4.0]\n",
            "Hit:1 https://cloud.r-project.org/bin/linux/ubuntu focal-cran40/ InRelease\n",
            "Hit:2 http://security.ubuntu.com/ubuntu focal-security InRelease\n",
            "Hit:3 http://ppa.launchpad.net/c2d4u.team/c2d4u4.0+/ubuntu focal InRelease\n",
            "Hit:4 http://archive.ubuntu.com/ubuntu focal InRelease\n",
            "Ign:5 https://developer.download.nvidia.com/compute/machine-learning/repos/ubuntu2004/x86_64  InRelease\n",
            "Hit:6 https://developer.download.nvidia.com/compute/cuda/repos/ubuntu2004/x86_64  InRelease\n",
            "Hit:7 https://developer.download.nvidia.com/compute/machine-learning/repos/ubuntu2004/x86_64  Release\n",
            "Hit:8 http://archive.ubuntu.com/ubuntu focal-updates InRelease\n",
            "Hit:9 http://ppa.launchpad.net/cran/libgit2/ubuntu focal InRelease\n",
            "Hit:10 http://archive.ubuntu.com/ubuntu focal-backports InRelease\n",
            "Hit:11 http://ppa.launchpad.net/deadsnakes/ppa/ubuntu focal InRelease\n",
            "Hit:12 http://ppa.launchpad.net/graphics-drivers/ppa/ubuntu focal InRelease\n",
            "Reading package lists... Done\n",
            "Reading package lists... Done\n",
            "Building dependency tree       \n",
            "Reading state information... Done\n",
            "python3.11 is already the newest version (3.11.1-1+focal2).\n",
            "0 upgraded, 0 newly installed, 0 to remove and 27 not upgraded.\n",
            "update-alternatives: error: alternative path /usr/bin/python3.7 doesn't exist\n",
            "update-alternatives: using /usr/bin/python3.11 to provide /usr/bin/python3 (python3) in auto mode\n",
            "Python 3.11.1\n"
          ]
        }
      ]
    },
    {
      "cell_type": "markdown",
      "source": [
        "We need to install python version 3.10 to be able to use match case statement."
      ],
      "metadata": {
        "id": "ogKtLsYOq7x8"
      }
    },
    {
      "cell_type": "code",
      "source": [
        "!sudo apt-get install python3-pip"
      ],
      "metadata": {
        "colab": {
          "base_uri": "https://localhost:8080/"
        },
        "id": "lCoRl3JfrJbq",
        "outputId": "4c221c76-2881-4621-b895-ac4d0c59cf7c"
      },
      "execution_count": null,
      "outputs": [
        {
          "output_type": "stream",
          "name": "stdout",
          "text": [
            "Reading package lists... Done\n",
            "Building dependency tree       \n",
            "Reading state information... Done\n",
            "The following additional packages will be installed:\n",
            "  python-pip-whl python3-setuptools python3-wheel\n",
            "Suggested packages:\n",
            "  python-setuptools-doc\n",
            "The following NEW packages will be installed:\n",
            "  python-pip-whl python3-pip python3-setuptools python3-wheel\n",
            "0 upgraded, 4 newly installed, 0 to remove and 27 not upgraded.\n",
            "Need to get 2,389 kB of archives.\n",
            "After this operation, 4,933 kB of additional disk space will be used.\n",
            "Get:1 http://archive.ubuntu.com/ubuntu focal-updates/universe amd64 python-pip-whl all 20.0.2-5ubuntu1.7 [1,805 kB]\n",
            "Get:2 http://archive.ubuntu.com/ubuntu focal-updates/main amd64 python3-setuptools all 45.2.0-1ubuntu0.1 [330 kB]\n",
            "Get:3 http://archive.ubuntu.com/ubuntu focal-updates/universe amd64 python3-wheel all 0.34.2-1ubuntu0.1 [23.9 kB]\n",
            "Get:4 http://archive.ubuntu.com/ubuntu focal-updates/universe amd64 python3-pip all 20.0.2-5ubuntu1.7 [230 kB]\n",
            "Fetched 2,389 kB in 1s (2,917 kB/s)\n",
            "debconf: unable to initialize frontend: Dialog\n",
            "debconf: (No usable dialog-like program is installed, so the dialog based frontend cannot be used. at /usr/share/perl5/Debconf/FrontEnd/Dialog.pm line 76, <> line 4.)\n",
            "debconf: falling back to frontend: Readline\n",
            "debconf: unable to initialize frontend: Readline\n",
            "debconf: (This frontend requires a controlling tty.)\n",
            "debconf: falling back to frontend: Teletype\n",
            "dpkg-preconfigure: unable to re-open stdin: \n",
            "Selecting previously unselected package python-pip-whl.\n",
            "(Reading database ... 130173 files and directories currently installed.)\n",
            "Preparing to unpack .../python-pip-whl_20.0.2-5ubuntu1.7_all.deb ...\n",
            "Unpacking python-pip-whl (20.0.2-5ubuntu1.7) ...\n",
            "Selecting previously unselected package python3-setuptools.\n",
            "Preparing to unpack .../python3-setuptools_45.2.0-1ubuntu0.1_all.deb ...\n",
            "Unpacking python3-setuptools (45.2.0-1ubuntu0.1) ...\n",
            "Selecting previously unselected package python3-wheel.\n",
            "Preparing to unpack .../python3-wheel_0.34.2-1ubuntu0.1_all.deb ...\n",
            "Unpacking python3-wheel (0.34.2-1ubuntu0.1) ...\n",
            "Selecting previously unselected package python3-pip.\n",
            "Preparing to unpack .../python3-pip_20.0.2-5ubuntu1.7_all.deb ...\n",
            "Unpacking python3-pip (20.0.2-5ubuntu1.7) ...\n",
            "Setting up python3-setuptools (45.2.0-1ubuntu0.1) ...\n",
            "Setting up python3-wheel (0.34.2-1ubuntu0.1) ...\n",
            "Setting up python-pip-whl (20.0.2-5ubuntu1.7) ...\n",
            "Setting up python3-pip (20.0.2-5ubuntu1.7) ...\n",
            "Processing triggers for man-db (2.9.1-1) ...\n"
          ]
        }
      ]
    },
    {
      "cell_type": "code",
      "source": [
        "print(sys.version)"
      ],
      "metadata": {
        "colab": {
          "base_uri": "https://localhost:8080/"
        },
        "id": "MY5wjtUurMZE",
        "outputId": "a255b422-493c-42c9-9194-e8e0587e6405"
      },
      "execution_count": null,
      "outputs": [
        {
          "output_type": "stream",
          "name": "stdout",
          "text": [
            "3.8.10 (default, Nov 14 2022, 12:59:47) \n",
            "[GCC 9.4.0]\n"
          ]
        }
      ]
    },
    {
      "cell_type": "code",
      "source": [
        "!sudo apt-get update -y\n",
        "!sudo apt-get install python3.11\n",
        " \n",
        "!sudo update-alternatives --install /usr/bin/python3 python3 /usr/bin/python3.7 1\n",
        "!sudo update-alternatives --install /usr/bin/python3 python3 /usr/bin/python3.11 2\n",
        " \n",
        "!python --version"
      ],
      "metadata": {
        "colab": {
          "base_uri": "https://localhost:8080/"
        },
        "id": "KJYyt_rarcfF",
        "outputId": "ba778e5b-6f5f-4980-abd1-676e152e4f72"
      },
      "execution_count": null,
      "outputs": [
        {
          "output_type": "stream",
          "name": "stdout",
          "text": [
            "\r0% [Working]\r            \rHit:1 https://cloud.r-project.org/bin/linux/ubuntu focal-cran40/ InRelease\n",
            "\r0% [Connecting to archive.ubuntu.com (185.125.190.36)] [Connecting to security.\r0% [Waiting for headers] [Waiting for headers] [Waiting for headers] [Waiting f\r                                                                               \rHit:2 http://archive.ubuntu.com/ubuntu focal InRelease\n",
            "\r                                                                               \r0% [Waiting for headers] [Waiting for headers] [Waiting for headers]\r                                                                    \rHit:3 http://security.ubuntu.com/ubuntu focal-security InRelease\n",
            "\r0% [Waiting for headers] [Waiting for headers] [Waiting for headers]\r                                                                    \rHit:4 http://ppa.launchpad.net/c2d4u.team/c2d4u4.0+/ubuntu focal InRelease\n",
            "\r0% [Waiting for headers] [Waiting for headers] [Connecting to ppa.launchpad.net\r                                                                               \rIgn:5 https://developer.download.nvidia.com/compute/machine-learning/repos/ubuntu2004/x86_64  InRelease\n",
            "Hit:6 https://developer.download.nvidia.com/compute/cuda/repos/ubuntu2004/x86_64  InRelease\n",
            "Hit:7 https://developer.download.nvidia.com/compute/machine-learning/repos/ubuntu2004/x86_64  Release\n",
            "Hit:8 http://archive.ubuntu.com/ubuntu focal-updates InRelease\n",
            "Hit:9 http://archive.ubuntu.com/ubuntu focal-backports InRelease\n",
            "Hit:10 http://ppa.launchpad.net/cran/libgit2/ubuntu focal InRelease\n",
            "Hit:11 http://ppa.launchpad.net/deadsnakes/ppa/ubuntu focal InRelease\n",
            "Hit:12 http://ppa.launchpad.net/graphics-drivers/ppa/ubuntu focal InRelease\n",
            "Reading package lists... Done\n",
            "Reading package lists... Done\n",
            "Building dependency tree       \n",
            "Reading state information... Done\n",
            "python3.11 is already the newest version (3.11.1-1+focal2).\n",
            "0 upgraded, 0 newly installed, 0 to remove and 27 not upgraded.\n",
            "update-alternatives: error: alternative path /usr/bin/python3.7 doesn't exist\n",
            "Python 3.11.1\n"
          ]
        }
      ]
    },
    {
      "cell_type": "code",
      "source": [],
      "metadata": {
        "id": "bfEVNurdrhi_"
      },
      "execution_count": null,
      "outputs": []
    }
  ]
}