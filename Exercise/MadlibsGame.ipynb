{
  "nbformat": 4,
  "nbformat_minor": 0,
  "metadata": {
    "colab": {
      "provenance": [],
      "mount_file_id": "1ntwP0JIpGDukIPiWxBFMwe_uPXVWYUxP",
      "authorship_tag": "ABX9TyNn+VHp5zrasA+3594Df+LZ",
      "include_colab_link": true
    },
    "kernelspec": {
      "name": "python3",
      "display_name": "Python 3"
    },
    "language_info": {
      "name": "python"
    }
  },
  "cells": [
    {
      "cell_type": "markdown",
      "metadata": {
        "id": "view-in-github",
        "colab_type": "text"
      },
      "source": [
        "<a href=\"https://colab.research.google.com/github/Mrfrktmrck19/Data_Science/blob/master/Exercise/MadlibsGame.ipynb\" target=\"_parent\"><img src=\"https://colab.research.google.com/assets/colab-badge.svg\" alt=\"Open In Colab\"/></a>"
      ]
    },
    {
      "cell_type": "markdown",
      "source": [
        "# Madlibs Game"
      ],
      "metadata": {
        "id": "aCF8G_eSHy6L"
      }
    },
    {
      "cell_type": "code",
      "source": [
        "def setAnswer(var=\"____\"):\n",
        "  return var\n",
        "subject = f\"An SSL certificate is a digital certificate that authenticates a website's identity and enables an encrypted connection. \\\n",
        "SSL stands for {setAnswer()}, a security protocol that creates an encrypted link between a web {setAnswer()} and a web {setAnswer()}.\""
      ],
      "metadata": {
        "id": "Y-mHfgJ9Hu3P"
      },
      "execution_count": null,
      "outputs": []
    },
    {
      "cell_type": "code",
      "source": [
        "print(subject)\n",
        "print(\"----->Fill the blanks!\")\n",
        "info1 = input(\"Info 1: \")\n",
        "info2 = input(\"Info 2: \")\n",
        "info3 = input(\"Info 3: \")\n",
        "\n",
        "subject = f\"An SSL certificate is a digital certificate that authenticates a website's identity and enables an encrypted connection. \\\n",
        "SSL stands for {setAnswer(info1)}, a security protocol that creates an encrypted link between a web {setAnswer(info2)} and a web {setAnswer(info3)}.\"\n",
        "print(subject)"
      ],
      "metadata": {
        "colab": {
          "base_uri": "https://localhost:8080/"
        },
        "id": "k8zYesmkIsnn",
        "outputId": "d47e0a09-a0f4-44f1-a6ea-efd528dd9f62"
      },
      "execution_count": null,
      "outputs": [
        {
          "output_type": "stream",
          "name": "stdout",
          "text": [
            "An SSL certificate is a digital certificate that authenticates a website's identity and enables an encrypted connection. SSL stands for ____, a security protocol that creates an encrypted link between a web ____ and a web ____.\n",
            "----->Fill the blanks!\n",
            "Info 1: Secure Socekt Level\n",
            "Info 2: server\n",
            "Info 3: browser\n",
            "An SSL certificate is a digital certificate that authenticates a website's identity and enables an encrypted connection. SSL stands for Secure Socekt Level, a security protocol that creates an encrypted link between a web server and a web browser.\n"
          ]
        }
      ]
    },
    {
      "cell_type": "code",
      "source": [
        "# better\n",
        "print(subject)\n",
        "print(\"----->Fill the blanks!\")\n",
        "\n",
        "info_list = []\n",
        "\n",
        "for item in list(range(0,3)):\n",
        "  info_list.append(input(f\"Info {item+1}: \"))\n",
        "\n",
        "subject = f\"An SSL certificate is a digital certificate that authenticates a website's identity and enables an encrypted connection. \\\n",
        "SSL stands for {info_list[0]}, a security protocol that creates an encrypted link between a web {info_list[1]} and a web {info_list[2]}.\"\n",
        "print(subject)"
      ],
      "metadata": {
        "colab": {
          "base_uri": "https://localhost:8080/"
        },
        "id": "07x5B-DVPlm3",
        "outputId": "fd7cba58-957b-4cf5-e124-6b04cdf6cf20"
      },
      "execution_count": null,
      "outputs": [
        {
          "output_type": "stream",
          "name": "stdout",
          "text": [
            "An SSL certificate is a digital certificate that authenticates a website's identity and enables an encrypted connection. SSL stands for AAAAA, a security protocol that creates an encrypted link between a web BBBBB and a web CCCCC.\n",
            "----->Fill the blanks!\n",
            "Info 1: aa\n",
            "Info 2: bbb\n",
            "Info 3: cccccc\n",
            "An SSL certificate is a digital certificate that authenticates a website's identity and enables an encrypted connection. SSL stands for aa, a security protocol that creates an encrypted link between a web bbb and a web cccccc.\n"
          ]
        }
      ]
    },
    {
      "cell_type": "code",
      "source": [],
      "metadata": {
        "id": "8XI3b7mbQX-O"
      },
      "execution_count": null,
      "outputs": []
    }
  ]
}