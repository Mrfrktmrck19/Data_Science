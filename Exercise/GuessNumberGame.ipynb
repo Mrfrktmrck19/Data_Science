{
  "nbformat": 4,
  "nbformat_minor": 0,
  "metadata": {
    "colab": {
      "provenance": [],
      "mount_file_id": "1ntwP0JIpGDukIPiWxBFMwe_uPXVWYUxP",
      "authorship_tag": "ABX9TyOjOc2EDQ2qCni8TjzyfsvY",
      "include_colab_link": true
    },
    "kernelspec": {
      "name": "python3",
      "display_name": "Python 3"
    },
    "language_info": {
      "name": "python"
    }
  },
  "cells": [
    {
      "cell_type": "markdown",
      "metadata": {
        "id": "view-in-github",
        "colab_type": "text"
      },
      "source": [
        "<a href=\"https://colab.research.google.com/github/Mrfrktmrck19/Data_Science/blob/master/Exercise/GuessNumberGame.ipynb\" target=\"_parent\"><img src=\"https://colab.research.google.com/assets/colab-badge.svg\" alt=\"Open In Colab\"/></a>"
      ]
    },
    {
      "cell_type": "markdown",
      "source": [
        "# Guess Number Game"
      ],
      "metadata": {
        "id": "aCF8G_eSHy6L"
      }
    },
    {
      "cell_type": "code",
      "source": [
        "import random"
      ],
      "metadata": {
        "id": "Jxqrl0pkTnuq"
      },
      "execution_count": 1,
      "outputs": []
    },
    {
      "cell_type": "code",
      "source": [
        "def guess(topLimit):\n",
        "  random_number = random.randint(1,topLimit) #from 1 to topLimit\n",
        "  my_guess = 0\n",
        "\n",
        "  while my_guess != random_number:\n",
        "    my_guess = int(input(\"Your guess: \"))\n",
        "    if my_guess< random_number:\n",
        "      print(\"False, too low\")\n",
        "    elif my_guess>random_number:\n",
        "      print(\"False, too high\")\n",
        "  print(\"Yo finded the correct number!\")\n",
        "\n",
        "guess(10)"
      ],
      "metadata": {
        "id": "VfR7R6PbT4Do",
        "colab": {
          "base_uri": "https://localhost:8080/"
        },
        "outputId": "05921a23-0bce-49e8-a986-0f396c1c6480"
      },
      "execution_count": 7,
      "outputs": [
        {
          "output_type": "stream",
          "name": "stdout",
          "text": [
            "Your guess: 5\n",
            "False, too low\n",
            "Your guess: 9\n",
            "False, too high\n",
            "Your guess: 7\n",
            "Yo finded the correct number!\n"
          ]
        }
      ]
    },
    {
      "cell_type": "code",
      "source": [],
      "metadata": {
        "id": "h8PoYA1DdONk"
      },
      "execution_count": null,
      "outputs": []
    }
  ]
}
