{
  "nbformat": 4,
  "nbformat_minor": 0,
  "metadata": {
    "colab": {
      "provenance": [],
      "authorship_tag": "ABX9TyNe1B5Ic0tX/RRw9RhwDkxU",
      "include_colab_link": true
    },
    "kernelspec": {
      "name": "python3",
      "display_name": "Python 3"
    },
    "language_info": {
      "name": "python"
    }
  },
  "cells": [
    {
      "cell_type": "markdown",
      "metadata": {
        "id": "view-in-github",
        "colab_type": "text"
      },
      "source": [
        "<a href=\"https://colab.research.google.com/github/Mrfrktmrck19/Data_Science/blob/master/DataSets/ML4.ipynb\" target=\"_parent\"><img src=\"https://colab.research.google.com/assets/colab-badge.svg\" alt=\"Open In Colab\"/></a>"
      ]
    },
    {
      "cell_type": "markdown",
      "source": [
        "# SINIFLANDIRMA MODELLERİ"
      ],
      "metadata": {
        "id": "pYMkPPwbWfGT"
      }
    },
    {
      "cell_type": "markdown",
      "source": [
        "* Lojistic Regression\n",
        "* Naive Bayes\n",
        "* K-Neirest Neighbors (K-NN)\n",
        "* Support Vector Regression (SVR)\n",
        "* Artiicial Neural Network (ANN)\n",
        "* Classification & Regression Trees (CART)\n",
        "* Bagging (Bootstrap Aggregation)\n",
        "* Random Forest (RF)\n",
        "* Gradient Boosting Machines (GBM)\n",
        "* Extreme Gradient Boosting (XGBosst)\n",
        "* LightGBM\n",
        "* CatBoost"
      ],
      "metadata": {
        "id": "Mu68IPiWxVla"
      }
    },
    {
      "cell_type": "markdown",
      "source": [
        "Sınıflandırma algoritmaların başarısı, yanlış/doğru sınıflandırma oranı ile ölçülür"
      ],
      "metadata": {
        "id": "ELbgk1rqzGCn"
      }
    },
    {
      "cell_type": "markdown",
      "source": [
        "## LOGISTIC REGRSSION"
      ],
      "metadata": {
        "id": "M1BUZEweyqMB"
      }
    },
    {
      "cell_type": "markdown",
      "source": [
        "### Teori"
      ],
      "metadata": {
        "id": "aL9cvfz5yteu"
      }
    },
    {
      "cell_type": "markdown",
      "source": [
        "Amaç, sınıflandırma problemi için bağımlı değişken ile bağımsız değişkenler arasındaki ilişkiyi tanımlayan doğrusal bir model kurmaktır."
      ],
      "metadata": {
        "id": "cDw6PBeJyxLq"
      }
    },
    {
      "cell_type": "code",
      "source": [],
      "metadata": {
        "id": "d6frtvl_Wj0F"
      },
      "execution_count": null,
      "outputs": []
    }
  ]
}