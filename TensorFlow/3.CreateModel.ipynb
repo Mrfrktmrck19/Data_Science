{
  "nbformat": 4,
  "nbformat_minor": 0,
  "metadata": {
    "colab": {
      "name": "3.CreateModel.ipynb",
      "provenance": [],
      "collapsed_sections": [],
      "mount_file_id": "1wpq96FxpIf1yuBTg2h8cRRMcc4Gb4q1E",
      "authorship_tag": "ABX9TyN9FnUzmorGqkHvIHTelbfN",
      "include_colab_link": true
    },
    "kernelspec": {
      "name": "python3",
      "display_name": "Python 3"
    },
    "language_info": {
      "name": "python"
    }
  },
  "cells": [
    {
      "cell_type": "markdown",
      "metadata": {
        "id": "view-in-github",
        "colab_type": "text"
      },
      "source": [
        "<a href=\"https://colab.research.google.com/github/Mrfrktmrck19/Data_Science/blob/master/TensorFlow/3.CreateModel.ipynb\" target=\"_parent\"><img src=\"https://colab.research.google.com/assets/colab-badge.svg\" alt=\"Open In Colab\"/></a>"
      ]
    },
    {
      "cell_type": "markdown",
      "source": [
        "After we splitted datas, we should create a model. But before we have to follow a few steps.\n",
        "1. Scaling data. we will change the size of ONE data. Because we want operations be faster."
      ],
      "metadata": {
        "id": "E2JlDNq76UOD"
      }
    },
    {
      "cell_type": "code",
      "source": [
        "import numpy as np\n",
        "import pandas as pd\n",
        "import tensorflow as ts\n",
        "from sklearn.model_selection import train_test_split"
      ],
      "metadata": {
        "id": "RCGbBmVS7vXl"
      },
      "execution_count": 1,
      "outputs": []
    },
    {
      "cell_type": "code",
      "source": [
        "df = pd.read_excel(\"/content/drive/MyDrive/Colab Notebooks/bisiklet_fiyatlari.xlsx\")"
      ],
      "metadata": {
        "id": "CpavcxIu8DND"
      },
      "execution_count": 2,
      "outputs": []
    },
    {
      "cell_type": "code",
      "source": [
        "df.head()"
      ],
      "metadata": {
        "colab": {
          "base_uri": "https://localhost:8080/",
          "height": 206
        },
        "id": "8akvVbv08Skj",
        "outputId": "5e0c52d8-782c-4d37-f8a1-8447f7aa98fe"
      },
      "execution_count": 3,
      "outputs": [
        {
          "output_type": "execute_result",
          "data": {
            "text/plain": [
              "        Fiyat  BisikletOzellik1  BisikletOzellik2\n",
              "0  807.673876       1749.628226       1749.590668\n",
              "1  959.227520       1748.007826       1751.824206\n",
              "2  718.020033       1750.122967       1747.977026\n",
              "3  945.668885       1749.916440       1750.771646\n",
              "4  955.542968       1750.780519       1750.592430"
            ],
            "text/html": [
              "\n",
              "  <div id=\"df-c721dc45-1414-451c-803d-cbc98bb68150\">\n",
              "    <div class=\"colab-df-container\">\n",
              "      <div>\n",
              "<style scoped>\n",
              "    .dataframe tbody tr th:only-of-type {\n",
              "        vertical-align: middle;\n",
              "    }\n",
              "\n",
              "    .dataframe tbody tr th {\n",
              "        vertical-align: top;\n",
              "    }\n",
              "\n",
              "    .dataframe thead th {\n",
              "        text-align: right;\n",
              "    }\n",
              "</style>\n",
              "<table border=\"1\" class=\"dataframe\">\n",
              "  <thead>\n",
              "    <tr style=\"text-align: right;\">\n",
              "      <th></th>\n",
              "      <th>Fiyat</th>\n",
              "      <th>BisikletOzellik1</th>\n",
              "      <th>BisikletOzellik2</th>\n",
              "    </tr>\n",
              "  </thead>\n",
              "  <tbody>\n",
              "    <tr>\n",
              "      <th>0</th>\n",
              "      <td>807.673876</td>\n",
              "      <td>1749.628226</td>\n",
              "      <td>1749.590668</td>\n",
              "    </tr>\n",
              "    <tr>\n",
              "      <th>1</th>\n",
              "      <td>959.227520</td>\n",
              "      <td>1748.007826</td>\n",
              "      <td>1751.824206</td>\n",
              "    </tr>\n",
              "    <tr>\n",
              "      <th>2</th>\n",
              "      <td>718.020033</td>\n",
              "      <td>1750.122967</td>\n",
              "      <td>1747.977026</td>\n",
              "    </tr>\n",
              "    <tr>\n",
              "      <th>3</th>\n",
              "      <td>945.668885</td>\n",
              "      <td>1749.916440</td>\n",
              "      <td>1750.771646</td>\n",
              "    </tr>\n",
              "    <tr>\n",
              "      <th>4</th>\n",
              "      <td>955.542968</td>\n",
              "      <td>1750.780519</td>\n",
              "      <td>1750.592430</td>\n",
              "    </tr>\n",
              "  </tbody>\n",
              "</table>\n",
              "</div>\n",
              "      <button class=\"colab-df-convert\" onclick=\"convertToInteractive('df-c721dc45-1414-451c-803d-cbc98bb68150')\"\n",
              "              title=\"Convert this dataframe to an interactive table.\"\n",
              "              style=\"display:none;\">\n",
              "        \n",
              "  <svg xmlns=\"http://www.w3.org/2000/svg\" height=\"24px\"viewBox=\"0 0 24 24\"\n",
              "       width=\"24px\">\n",
              "    <path d=\"M0 0h24v24H0V0z\" fill=\"none\"/>\n",
              "    <path d=\"M18.56 5.44l.94 2.06.94-2.06 2.06-.94-2.06-.94-.94-2.06-.94 2.06-2.06.94zm-11 1L8.5 8.5l.94-2.06 2.06-.94-2.06-.94L8.5 2.5l-.94 2.06-2.06.94zm10 10l.94 2.06.94-2.06 2.06-.94-2.06-.94-.94-2.06-.94 2.06-2.06.94z\"/><path d=\"M17.41 7.96l-1.37-1.37c-.4-.4-.92-.59-1.43-.59-.52 0-1.04.2-1.43.59L10.3 9.45l-7.72 7.72c-.78.78-.78 2.05 0 2.83L4 21.41c.39.39.9.59 1.41.59.51 0 1.02-.2 1.41-.59l7.78-7.78 2.81-2.81c.8-.78.8-2.07 0-2.86zM5.41 20L4 18.59l7.72-7.72 1.47 1.35L5.41 20z\"/>\n",
              "  </svg>\n",
              "      </button>\n",
              "      \n",
              "  <style>\n",
              "    .colab-df-container {\n",
              "      display:flex;\n",
              "      flex-wrap:wrap;\n",
              "      gap: 12px;\n",
              "    }\n",
              "\n",
              "    .colab-df-convert {\n",
              "      background-color: #E8F0FE;\n",
              "      border: none;\n",
              "      border-radius: 50%;\n",
              "      cursor: pointer;\n",
              "      display: none;\n",
              "      fill: #1967D2;\n",
              "      height: 32px;\n",
              "      padding: 0 0 0 0;\n",
              "      width: 32px;\n",
              "    }\n",
              "\n",
              "    .colab-df-convert:hover {\n",
              "      background-color: #E2EBFA;\n",
              "      box-shadow: 0px 1px 2px rgba(60, 64, 67, 0.3), 0px 1px 3px 1px rgba(60, 64, 67, 0.15);\n",
              "      fill: #174EA6;\n",
              "    }\n",
              "\n",
              "    [theme=dark] .colab-df-convert {\n",
              "      background-color: #3B4455;\n",
              "      fill: #D2E3FC;\n",
              "    }\n",
              "\n",
              "    [theme=dark] .colab-df-convert:hover {\n",
              "      background-color: #434B5C;\n",
              "      box-shadow: 0px 1px 3px 1px rgba(0, 0, 0, 0.15);\n",
              "      filter: drop-shadow(0px 1px 2px rgba(0, 0, 0, 0.3));\n",
              "      fill: #FFFFFF;\n",
              "    }\n",
              "  </style>\n",
              "\n",
              "      <script>\n",
              "        const buttonEl =\n",
              "          document.querySelector('#df-c721dc45-1414-451c-803d-cbc98bb68150 button.colab-df-convert');\n",
              "        buttonEl.style.display =\n",
              "          google.colab.kernel.accessAllowed ? 'block' : 'none';\n",
              "\n",
              "        async function convertToInteractive(key) {\n",
              "          const element = document.querySelector('#df-c721dc45-1414-451c-803d-cbc98bb68150');\n",
              "          const dataTable =\n",
              "            await google.colab.kernel.invokeFunction('convertToInteractive',\n",
              "                                                     [key], {});\n",
              "          if (!dataTable) return;\n",
              "\n",
              "          const docLinkHtml = 'Like what you see? Visit the ' +\n",
              "            '<a target=\"_blank\" href=https://colab.research.google.com/notebooks/data_table.ipynb>data table notebook</a>'\n",
              "            + ' to learn more about interactive tables.';\n",
              "          element.innerHTML = '';\n",
              "          dataTable['output_type'] = 'display_data';\n",
              "          await google.colab.output.renderOutput(dataTable, element);\n",
              "          const docLink = document.createElement('div');\n",
              "          docLink.innerHTML = docLinkHtml;\n",
              "          element.appendChild(docLink);\n",
              "        }\n",
              "      </script>\n",
              "    </div>\n",
              "  </div>\n",
              "  "
            ]
          },
          "metadata": {},
          "execution_count": 3
        }
      ]
    },
    {
      "cell_type": "code",
      "source": [
        "# Spit datas to x(features) and y(label)\n",
        "y = df[\"Fiyat\"].values\n",
        "x = df[[\"BisikletOzellik1\",\"BisikletOzellik2\"]].values"
      ],
      "metadata": {
        "id": "4By_PCMw8UtQ"
      },
      "execution_count": 8,
      "outputs": []
    },
    {
      "cell_type": "code",
      "source": [
        "y.shape # 1000,\n",
        "x.shape # 1000,2"
      ],
      "metadata": {
        "colab": {
          "base_uri": "https://localhost:8080/"
        },
        "id": "e-tkfCtg8wZW",
        "outputId": "a8c542af-9988-4506-867c-307b83a49e49"
      },
      "execution_count": 14,
      "outputs": [
        {
          "output_type": "execute_result",
          "data": {
            "text/plain": [
              "(1000, 2)"
            ]
          },
          "metadata": {},
          "execution_count": 14
        }
      ]
    },
    {
      "cell_type": "code",
      "source": [
        "# for i,j in x:\n",
        "#   print(i,\" \",j)"
      ],
      "metadata": {
        "id": "IXFdXPlf9PEb"
      },
      "execution_count": null,
      "outputs": []
    },
    {
      "cell_type": "code",
      "source": [
        "x_train, x_test, y_train, y_test = train_test_split(\n",
        "    x,\n",
        "    y,\n",
        "    test_size=0.33, #test size 0.33 train size #0.67\n",
        "    random_state=15\n",
        ")"
      ],
      "metadata": {
        "id": "XFCzohvO9r-l"
      },
      "execution_count": 16,
      "outputs": []
    },
    {
      "cell_type": "code",
      "source": [
        "print(type(x_train),type(x_test),type(y_train),type(y_test))"
      ],
      "metadata": {
        "colab": {
          "base_uri": "https://localhost:8080/"
        },
        "id": "2iRpLkID-Z1K",
        "outputId": "36a13cde-7ccc-4559-dbb3-9b600d97c3f3"
      },
      "execution_count": 17,
      "outputs": [
        {
          "output_type": "stream",
          "name": "stdout",
          "text": [
            "<class 'numpy.ndarray'> <class 'numpy.ndarray'> <class 'numpy.ndarray'> <class 'numpy.ndarray'>\n"
          ]
        }
      ]
    },
    {
      "cell_type": "code",
      "source": [
        "print(x_train.shape,x_test.shape,y_train.shape,y_test.shape)"
      ],
      "metadata": {
        "colab": {
          "base_uri": "https://localhost:8080/"
        },
        "id": "xx8UHfBj-j1s",
        "outputId": "9c3898a1-587e-478c-9e76-079e8afa2ced"
      },
      "execution_count": 20,
      "outputs": [
        {
          "output_type": "stream",
          "name": "stdout",
          "text": [
            "(670, 2) (330, 2) (670,) (330,)\n"
          ]
        }
      ]
    },
    {
      "cell_type": "code",
      "source": [
        "print(x_train[0:5],\"\\n\\n\\n\",x_test[:5],\"\\n\\n\\n\",y_train[0:5],\"\\n\\n\\n\",y_test[:5])"
      ],
      "metadata": {
        "colab": {
          "base_uri": "https://localhost:8080/"
        },
        "id": "YyIKgsUN-n_M",
        "outputId": "71120918-e1de-4ca1-affb-0327b6834da5"
      },
      "execution_count": 24,
      "outputs": [
        {
          "output_type": "stream",
          "name": "stdout",
          "text": [
            "[[1748.374239 1751.217187]\n",
            " [1751.580415 1753.658535]\n",
            " [1750.727042 1745.942278]\n",
            " [1747.083344 1751.701046]\n",
            " [1748.382781 1750.342128]] \n",
            "\n",
            "\n",
            " [[1751.019597 1751.83637 ]\n",
            " [1749.850949 1747.23938 ]\n",
            " [1750.837436 1749.641408]\n",
            " [1748.122661 1751.075311]\n",
            " [1747.681905 1751.334307]] \n",
            "\n",
            "\n",
            " [ 928.6952754 1263.961903   539.3910047  909.0602356  827.5599926] \n",
            "\n",
            "\n",
            " [1081.652164   622.6759897  889.3568099  902.8267326  897.6624037]\n"
          ]
        }
      ]
    },
    {
      "cell_type": "markdown",
      "source": [
        "## Scaling Data"
      ],
      "metadata": {
        "id": "vcutQ6YWAWQ0"
      }
    },
    {
      "cell_type": "code",
      "source": [
        "from sklearn.preprocessing import MinMaxScaler"
      ],
      "metadata": {
        "id": "QRD9bqjgAadw"
      },
      "execution_count": 26,
      "outputs": []
    },
    {
      "cell_type": "code",
      "source": [
        "scaler = MinMaxScaler() # generate an object"
      ],
      "metadata": {
        "id": "tW9sqCfXAov8"
      },
      "execution_count": 27,
      "outputs": []
    },
    {
      "cell_type": "code",
      "source": [
        "scaler.fit(x_train) #firstly,we need to make the data fit."
      ],
      "metadata": {
        "colab": {
          "base_uri": "https://localhost:8080/"
        },
        "id": "6WLH6N7GAtzc",
        "outputId": "4ad206ce-b36f-4f49-ee31-eeed9b2a35da"
      },
      "execution_count": 28,
      "outputs": [
        {
          "output_type": "execute_result",
          "data": {
            "text/plain": [
              "MinMaxScaler()"
            ]
          },
          "metadata": {},
          "execution_count": 28
        }
      ]
    },
    {
      "cell_type": "code",
      "source": [
        "x_train = scaler.transform(x_train) #then, resizing to [0:1]\n",
        "x_test = scaler.transform(x_test)"
      ],
      "metadata": {
        "id": "__Xp_zViA0Mw"
      },
      "execution_count": 29,
      "outputs": []
    },
    {
      "cell_type": "markdown",
      "source": [
        "The reason we do this is to process data easier and faster."
      ],
      "metadata": {
        "id": "7NIPiMVLBalT"
      }
    },
    {
      "cell_type": "code",
      "source": [
        "x_train[0:5],\"============================\",x_test[0:5]"
      ],
      "metadata": {
        "colab": {
          "base_uri": "https://localhost:8080/"
        },
        "id": "YAHK29qUBktv",
        "outputId": "c0fe0c45-222e-4d1d-c547-369b2e72d8b3"
      },
      "execution_count": 36,
      "outputs": [
        {
          "output_type": "execute_result",
          "data": {
            "text/plain": [
              "(array([[0.3177906 , 0.64341466],\n",
              "        [0.61991638, 0.89583174],\n",
              "        [0.53950097, 0.0980286 ],\n",
              "        [0.19614642, 0.69344205],\n",
              "        [0.31859554, 0.55294012]]),\n",
              " '============================',\n",
              " array([[0.56706914, 0.70743354],\n",
              "        [0.45694459, 0.23213923],\n",
              "        [0.54990366, 0.48049092],\n",
              "        [0.2940838 , 0.62874574],\n",
              "        [0.25255028, 0.65552399]]))"
            ]
          },
          "metadata": {},
          "execution_count": 36
        }
      ]
    },
    {
      "cell_type": "markdown",
      "source": [
        "Now, we can feed above datas to our model. For this, we will use tensorflow and keras.\n",
        "Sequential is class that our model. We generate our model from this class.We determine with which layers our model will work."
      ],
      "metadata": {
        "id": "S0IqklfFCQ61"
      }
    },
    {
      "cell_type": "code",
      "source": [
        "from tensorflow.keras.models import Sequential #generate a model\n",
        "from tensorflow.keras.layers import Dense   #generate a layers"
      ],
      "metadata": {
        "id": "c9_NdXtICdLN"
      },
      "execution_count": 38,
      "outputs": []
    },
    {
      "cell_type": "code",
      "source": [
        "model = Sequential() # we generated a model. :)The hard part is creating the layers.\n",
        "\n",
        "model.add(Dense(5,activation=\"relu\"))  #5 neuron\n",
        "model.add(Dense(5,activation=\"relu\"))  #5 neuron\n",
        "model.add(Dense(5,activation=\"relu\"))  #5 neuron\n",
        "# and three hidden layers\n",
        "model.add(Dense(1))  #output layer\n",
        "\n",
        "# We are combining our work so far.\n",
        "model.compile(optimizer =\"rmsprop\",loss=\"mse\")\n"
      ],
      "metadata": {
        "id": "RIS7P5y2GFeM"
      },
      "execution_count": 39,
      "outputs": []
    },
    {
      "cell_type": "code",
      "source": [
        ""
      ],
      "metadata": {
        "id": "zwSDKjRfH9B2"
      },
      "execution_count": null,
      "outputs": []
    }
  ]
}