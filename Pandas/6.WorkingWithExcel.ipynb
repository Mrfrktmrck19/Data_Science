{
 "cells": [
  {
   "cell_type": "code",
   "execution_count": null,
   "id": "70b67b27",
   "metadata": {},
   "outputs": [],
   "source": [
    "import numpy as np\n",
    "import pandas as pd"
   ]
  },
  {
   "cell_type": "code",
   "execution_count": null,
   "id": "28095f4a",
   "metadata": {},
   "outputs": [],
   "source": [
    "dataFrame = pd.read_excel(\"maas.xlsx\")"
   ]
  },
  {
   "cell_type": "code",
   "execution_count": null,
   "id": "306d1399",
   "metadata": {},
   "outputs": [],
   "source": [
    "doluDegerlerDataFrame = dataFrame.dropna()\n"
   ]
  },
  {
   "cell_type": "code",
   "execution_count": null,
   "id": "56203c17",
   "metadata": {},
   "outputs": [],
   "source": [
    "doluDegerlerDataFrame.to_excel(\"yenimaas.xlsx\")\n"
   ]
  },
  {
   "cell_type": "code",
   "execution_count": null,
   "id": "15b281f1",
   "metadata": {},
   "outputs": [],
   "source": [
    "## read_csv\n",
    "## to_csv"
   ]
  },
  {
   "cell_type": "code",
   "execution_count": null,
   "id": "930c1249",
   "metadata": {},
   "outputs": [],
   "source": []
  }
 ],
 "metadata": {
  "kernelspec": {
   "display_name": "Python 3",
   "language": "python",
   "name": "python3"
  },
  "language_info": {
   "codemirror_mode": {
    "name": "ipython",
    "version": 3
   },
   "file_extension": ".py",
   "mimetype": "text/x-python",
   "name": "python",
   "nbconvert_exporter": "python",
   "pygments_lexer": "ipython3",
   "version": "3.8.8"
  }
 },
 "nbformat": 4,
 "nbformat_minor": 5
}
