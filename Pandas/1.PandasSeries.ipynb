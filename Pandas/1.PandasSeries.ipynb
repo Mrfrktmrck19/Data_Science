{
 "cells": [
  {
   "cell_type": "markdown",
   "id": "446d5276",
   "metadata": {},
   "source": [
    "# Pandas Series"
   ]
  },
  {
   "cell_type": "code",
   "execution_count": 1,
   "id": "a9a4a1a0",
   "metadata": {},
   "outputs": [],
   "source": [
    "import numpy as np\n",
    "import pandas as pd"
   ]
  },
  {
   "cell_type": "markdown",
   "id": "256c0760",
   "metadata": {},
   "source": [
    "## Series"
   ]
  },
  {
   "cell_type": "code",
   "execution_count": 2,
   "id": "9450aac6",
   "metadata": {},
   "outputs": [],
   "source": [
    "myDictionary = {\"Omer\":23,\"Gamze\":24,\"Yasemin\":22}"
   ]
  },
  {
   "cell_type": "code",
   "execution_count": 6,
   "id": "d38a4358",
   "metadata": {},
   "outputs": [
    {
     "data": {
      "text/plain": [
       "pandas.core.series.Series"
      ]
     },
     "execution_count": 6,
     "metadata": {},
     "output_type": "execute_result"
    }
   ],
   "source": [
    "type(pd.Series(myDictionary))"
   ]
  },
  {
   "cell_type": "code",
   "execution_count": 4,
   "id": "00a8071e",
   "metadata": {},
   "outputs": [
    {
     "data": {
      "text/plain": [
       "Omer       23\n",
       "Gamze      24\n",
       "Yasemin    22\n",
       "dtype: int64"
      ]
     },
     "execution_count": 4,
     "metadata": {},
     "output_type": "execute_result"
    }
   ],
   "source": [
    "pd.Series(myDictionary)"
   ]
  },
  {
   "cell_type": "code",
   "execution_count": 8,
   "id": "8aeb908f",
   "metadata": {},
   "outputs": [],
   "source": [
    "ages=[50,40,30]\n",
    "people=[\"Ömer\",\"Yasemin\",\"Yaren\"]"
   ]
  },
  {
   "cell_type": "code",
   "execution_count": 9,
   "id": "94a4d837",
   "metadata": {},
   "outputs": [
    {
     "data": {
      "text/plain": [
       "0    50\n",
       "1    40\n",
       "2    30\n",
       "dtype: int64"
      ]
     },
     "execution_count": 9,
     "metadata": {},
     "output_type": "execute_result"
    }
   ],
   "source": [
    "pd.Series(ages)"
   ]
  },
  {
   "cell_type": "code",
   "execution_count": 14,
   "id": "ee8dbbda",
   "metadata": {},
   "outputs": [
    {
     "data": {
      "text/plain": [
       "Ömer       50\n",
       "Yasemin    40\n",
       "Yaren      30\n",
       "dtype: int64"
      ]
     },
     "execution_count": 14,
     "metadata": {},
     "output_type": "execute_result"
    }
   ],
   "source": [
    "pd.Series(ages,people)"
   ]
  },
  {
   "cell_type": "code",
   "execution_count": 13,
   "id": "ec8c9280",
   "metadata": {},
   "outputs": [
    {
     "data": {
      "text/plain": [
       "50       Ömer\n",
       "40    Yasemin\n",
       "30      Yaren\n",
       "dtype: object"
      ]
     },
     "execution_count": 13,
     "metadata": {},
     "output_type": "execute_result"
    }
   ],
   "source": [
    "pd.Series(people,ages)"
   ]
  },
  {
   "cell_type": "code",
   "execution_count": 15,
   "id": "12c3a9f6",
   "metadata": {},
   "outputs": [
    {
     "data": {
      "text/plain": [
       "Ömer       50\n",
       "Yasemin    40\n",
       "Yaren      30\n",
       "dtype: int64"
      ]
     },
     "execution_count": 15,
     "metadata": {},
     "output_type": "execute_result"
    }
   ],
   "source": [
    "pd.Series(index=people,data=ages)"
   ]
  },
  {
   "cell_type": "code",
   "execution_count": 16,
   "id": "5941dc86",
   "metadata": {},
   "outputs": [
    {
     "data": {
      "text/plain": [
       "0    10\n",
       "1    20\n",
       "2    30\n",
       "dtype: int32"
      ]
     },
     "execution_count": 16,
     "metadata": {},
     "output_type": "execute_result"
    }
   ],
   "source": [
    "numpyArray = np.array([10,20,30])\n",
    "pd.Series(numpyArray)   #you can convert numpyArra to Pandas Series"
   ]
  },
  {
   "cell_type": "markdown",
   "id": "bf92ca86",
   "metadata": {},
   "source": [
    "list,dict,array => pandas series"
   ]
  },
  {
   "cell_type": "code",
   "execution_count": null,
   "id": "3ee8b022",
   "metadata": {},
   "outputs": [],
   "source": []
  }
 ],
 "metadata": {
  "kernelspec": {
   "display_name": "Python 3",
   "language": "python",
   "name": "python3"
  },
  "language_info": {
   "codemirror_mode": {
    "name": "ipython",
    "version": 3
   },
   "file_extension": ".py",
   "mimetype": "text/x-python",
   "name": "python",
   "nbconvert_exporter": "python",
   "pygments_lexer": "ipython3",
   "version": "3.8.8"
  }
 },
 "nbformat": 4,
 "nbformat_minor": 5
}
