{
 "cells": [
  {
   "cell_type": "markdown",
   "id": "446d5276",
   "metadata": {},
   "source": [
    "# Pandas Series"
   ]
  },
  {
   "cell_type": "markdown",
   "id": "78839ef9",
   "metadata": {},
   "source": [
    "We are going to cover the followoing topics:\n",
    "-> Series\n",
    "-> Data Frame (moslty called Python's Excel)"
   ]
  },
  {
   "cell_type": "code",
   "execution_count": 1,
   "id": "a9a4a1a0",
   "metadata": {},
   "outputs": [],
   "source": [
    "import numpy as np\n",
    "import pandas as pd"
   ]
  },
  {
   "cell_type": "markdown",
   "id": "256c0760",
   "metadata": {},
   "source": [
    "## Series"
   ]
  },
  {
   "cell_type": "code",
   "execution_count": 2,
   "id": "9450aac6",
   "metadata": {},
   "outputs": [],
   "source": [
    "myDictionary = {\"Omer\":23,\"Gamze\":24,\"Yasemin\":22}"
   ]
  },
  {
   "cell_type": "code",
   "execution_count": 6,
   "id": "d38a4358",
   "metadata": {},
   "outputs": [
    {
     "data": {
      "text/plain": [
       "pandas.core.series.Series"
      ]
     },
     "execution_count": 6,
     "metadata": {},
     "output_type": "execute_result"
    }
   ],
   "source": [
    "type(pd.Series(myDictionary))"
   ]
  },
  {
   "cell_type": "code",
   "execution_count": 4,
   "id": "00a8071e",
   "metadata": {},
   "outputs": [
    {
     "data": {
      "text/plain": [
       "Omer       23\n",
       "Gamze      24\n",
       "Yasemin    22\n",
       "dtype: int64"
      ]
     },
     "execution_count": 4,
     "metadata": {},
     "output_type": "execute_result"
    }
   ],
   "source": [
    "pd.Series(myDictionary)"
   ]
  },
  {
   "cell_type": "code",
   "execution_count": 8,
   "id": "8aeb908f",
   "metadata": {},
   "outputs": [],
   "source": [
    "ages=[50,40,30]\n",
    "people=[\"Ömer\",\"Yasemin\",\"Yaren\"]"
   ]
  },
  {
   "cell_type": "code",
   "execution_count": 9,
   "id": "94a4d837",
   "metadata": {},
   "outputs": [
    {
     "data": {
      "text/plain": [
       "0    50\n",
       "1    40\n",
       "2    30\n",
       "dtype: int64"
      ]
     },
     "execution_count": 9,
     "metadata": {},
     "output_type": "execute_result"
    }
   ],
   "source": [
    "pd.Series(ages)"
   ]
  },
  {
   "cell_type": "code",
   "execution_count": 14,
   "id": "ee8dbbda",
   "metadata": {},
   "outputs": [
    {
     "data": {
      "text/plain": [
       "Ömer       50\n",
       "Yasemin    40\n",
       "Yaren      30\n",
       "dtype: int64"
      ]
     },
     "execution_count": 14,
     "metadata": {},
     "output_type": "execute_result"
    }
   ],
   "source": [
    "pd.Series(ages,people)"
   ]
  },
  {
   "cell_type": "code",
   "execution_count": 13,
   "id": "ec8c9280",
   "metadata": {},
   "outputs": [
    {
     "data": {
      "text/plain": [
       "50       Ömer\n",
       "40    Yasemin\n",
       "30      Yaren\n",
       "dtype: object"
      ]
     },
     "execution_count": 13,
     "metadata": {},
     "output_type": "execute_result"
    }
   ],
   "source": [
    "pd.Series(people,ages)"
   ]
  },
  {
   "cell_type": "code",
   "execution_count": 15,
   "id": "12c3a9f6",
   "metadata": {},
   "outputs": [
    {
     "data": {
      "text/plain": [
       "Ömer       50\n",
       "Yasemin    40\n",
       "Yaren      30\n",
       "dtype: int64"
      ]
     },
     "execution_count": 15,
     "metadata": {},
     "output_type": "execute_result"
    }
   ],
   "source": [
    "pd.Series(index=people,data=ages)"
   ]
  },
  {
   "cell_type": "code",
   "execution_count": 16,
   "id": "5941dc86",
   "metadata": {},
   "outputs": [
    {
     "data": {
      "text/plain": [
       "0    10\n",
       "1    20\n",
       "2    30\n",
       "dtype: int32"
      ]
     },
     "execution_count": 16,
     "metadata": {},
     "output_type": "execute_result"
    }
   ],
   "source": [
    "numpyArray = np.array([10,20,30])\n",
    "pd.Series(numpyArray)   #you can convert numpyArra to Pandas Series"
   ]
  },
  {
   "cell_type": "markdown",
   "id": "bf92ca86",
   "metadata": {},
   "source": [
    "list,dict,array => pandas series"
   ]
  },
  {
   "cell_type": "markdown",
   "id": "c5453d47",
   "metadata": {},
   "source": [
    "## Features of Series\n",
    "You can generate Pandas Series like this:"
   ]
  },
  {
   "cell_type": "code",
   "execution_count": 5,
   "id": "9c344cab",
   "metadata": {},
   "outputs": [
    {
     "data": {
      "text/plain": [
       "1       Ömer\n",
       "2       Ayşe\n",
       "3    Yasemin\n",
       "dtype: object"
      ]
     },
     "execution_count": 5,
     "metadata": {},
     "output_type": "execute_result"
    }
   ],
   "source": [
    "pd.Series(data=[\"Ömer\",\"Ayşe\",\"Yasemin\"],index=[1,2,3]) "
   ]
  },
  {
   "cell_type": "markdown",
   "id": "eca6efe0",
   "metadata": {},
   "source": [
    "Let's say, we are in a contest"
   ]
  },
  {
   "cell_type": "code",
   "execution_count": 7,
   "id": "5bd2135b",
   "metadata": {},
   "outputs": [
    {
     "data": {
      "text/plain": [
       "Ömer       10\n",
       "Ayşe        5\n",
       "Yasemin     1\n",
       "dtype: int64"
      ]
     },
     "execution_count": 7,
     "metadata": {},
     "output_type": "execute_result"
    }
   ],
   "source": [
    "contestResult = pd.Series([10,5,1],[\"Ömer\",\"Ayşe\",\"Yasemin\"])\n",
    "contestResult"
   ]
  },
  {
   "cell_type": "code",
   "execution_count": 8,
   "id": "b65931de",
   "metadata": {},
   "outputs": [
    {
     "data": {
      "text/plain": [
       "Ömer       20\n",
       "Ayşe        6\n",
       "Yasemin     5\n",
       "dtype: int64"
      ]
     },
     "execution_count": 8,
     "metadata": {},
     "output_type": "execute_result"
    }
   ],
   "source": [
    "contestResult2 = pd.Series([20,6,5],[\"Ömer\",\"Ayşe\",\"Yasemin\"])\n",
    "contestResult2"
   ]
  },
  {
   "cell_type": "markdown",
   "id": "e6ca65c6",
   "metadata": {},
   "source": [
    "### Call the Value"
   ]
  },
  {
   "cell_type": "code",
   "execution_count": 9,
   "id": "b11732c8",
   "metadata": {},
   "outputs": [
    {
     "data": {
      "text/plain": [
       "10"
      ]
     },
     "execution_count": 9,
     "metadata": {},
     "output_type": "execute_result"
    }
   ],
   "source": [
    "contestResult[\"Ömer\"]"
   ]
  },
  {
   "cell_type": "markdown",
   "id": "9cd585c2",
   "metadata": {},
   "source": [
    "### Summing series\n",
    "->Let's sum the series that have same indexes"
   ]
  },
  {
   "cell_type": "code",
   "execution_count": 10,
   "id": "454b023e",
   "metadata": {},
   "outputs": [
    {
     "data": {
      "text/plain": [
       "Ömer       30\n",
       "Ayşe       11\n",
       "Yasemin     6\n",
       "dtype: int64"
      ]
     },
     "execution_count": 10,
     "metadata": {},
     "output_type": "execute_result"
    }
   ],
   "source": [
    "totalResult = contestResult+contestResult2\n",
    "totalResult"
   ]
  },
  {
   "cell_type": "markdown",
   "id": "7dd38b2f",
   "metadata": {},
   "source": [
    "->Let's sum the series that have different indexes"
   ]
  },
  {
   "cell_type": "code",
   "execution_count": 11,
   "id": "cc1ef676",
   "metadata": {},
   "outputs": [
    {
     "data": {
      "text/plain": [
       "Ayşe        7.0\n",
       "Yaren       NaN\n",
       "Yasemin     NaN\n",
       "Ömer       20.0\n",
       "dtype: float64"
      ]
     },
     "execution_count": 11,
     "metadata": {},
     "output_type": "execute_result"
    }
   ],
   "source": [
    "contestResult = pd.Series([10,5,1],[\"Ömer\",\"Ayşe\",\"Yasemin\"])\n",
    "contestResult2 = pd.Series([10,2,6],[\"Ömer\",\"Ayşe\",\"Yaren\"])\n",
    "totalResult = contestResult+contestResult2\n",
    "totalResult"
   ]
  },
  {
   "cell_type": "markdown",
   "id": "c0f41d32",
   "metadata": {},
   "source": [
    "It just summed the values in both places."
   ]
  }
 ],
 "metadata": {
  "kernelspec": {
   "display_name": "Python 3",
   "language": "python",
   "name": "python3"
  },
  "language_info": {
   "codemirror_mode": {
    "name": "ipython",
    "version": 3
   },
   "file_extension": ".py",
   "mimetype": "text/x-python",
   "name": "python",
   "nbconvert_exporter": "python",
   "pygments_lexer": "ipython3",
   "version": "3.8.8"
  }
 },
 "nbformat": 4,
 "nbformat_minor": 5
}
