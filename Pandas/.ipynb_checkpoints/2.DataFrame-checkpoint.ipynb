{
 "cells": [
  {
   "cell_type": "code",
   "execution_count": 48,
   "id": "af433a27",
   "metadata": {},
   "outputs": [],
   "source": [
    "import numpy as np\n",
    "import pandas as pd"
   ]
  },
  {
   "cell_type": "code",
   "execution_count": 49,
   "id": "a0759e96",
   "metadata": {},
   "outputs": [
    {
     "data": {
      "text/plain": [
       "array([[ 0.25939992,  0.22329171,  0.26408218],\n",
       "       [ 0.82480899, -0.45072922,  0.55022543],\n",
       "       [-0.03926033, -1.24863521,  0.63173485],\n",
       "       [-0.00652508, -0.5552945 , -0.37828752]])"
      ]
     },
     "execution_count": 49,
     "metadata": {},
     "output_type": "execute_result"
    }
   ],
   "source": [
    "data = np.random.randn(4,3)\n",
    "data"
   ]
  },
  {
   "cell_type": "code",
   "execution_count": 50,
   "id": "08bb14ac",
   "metadata": {},
   "outputs": [
    {
     "data": {
      "text/html": [
       "<div>\n",
       "<style scoped>\n",
       "    .dataframe tbody tr th:only-of-type {\n",
       "        vertical-align: middle;\n",
       "    }\n",
       "\n",
       "    .dataframe tbody tr th {\n",
       "        vertical-align: top;\n",
       "    }\n",
       "\n",
       "    .dataframe thead th {\n",
       "        text-align: right;\n",
       "    }\n",
       "</style>\n",
       "<table border=\"1\" class=\"dataframe\">\n",
       "  <thead>\n",
       "    <tr style=\"text-align: right;\">\n",
       "      <th></th>\n",
       "      <th>0</th>\n",
       "      <th>1</th>\n",
       "      <th>2</th>\n",
       "    </tr>\n",
       "  </thead>\n",
       "  <tbody>\n",
       "    <tr>\n",
       "      <th>0</th>\n",
       "      <td>0.259400</td>\n",
       "      <td>0.223292</td>\n",
       "      <td>0.264082</td>\n",
       "    </tr>\n",
       "    <tr>\n",
       "      <th>1</th>\n",
       "      <td>0.824809</td>\n",
       "      <td>-0.450729</td>\n",
       "      <td>0.550225</td>\n",
       "    </tr>\n",
       "    <tr>\n",
       "      <th>2</th>\n",
       "      <td>-0.039260</td>\n",
       "      <td>-1.248635</td>\n",
       "      <td>0.631735</td>\n",
       "    </tr>\n",
       "    <tr>\n",
       "      <th>3</th>\n",
       "      <td>-0.006525</td>\n",
       "      <td>-0.555294</td>\n",
       "      <td>-0.378288</td>\n",
       "    </tr>\n",
       "  </tbody>\n",
       "</table>\n",
       "</div>"
      ],
      "text/plain": [
       "          0         1         2\n",
       "0  0.259400  0.223292  0.264082\n",
       "1  0.824809 -0.450729  0.550225\n",
       "2 -0.039260 -1.248635  0.631735\n",
       "3 -0.006525 -0.555294 -0.378288"
      ]
     },
     "execution_count": 50,
     "metadata": {},
     "output_type": "execute_result"
    }
   ],
   "source": [
    "dataFrame = pd.DataFrame(data)\n",
    "dataFrame"
   ]
  },
  {
   "cell_type": "code",
   "execution_count": 51,
   "id": "08018ed5",
   "metadata": {},
   "outputs": [
    {
     "data": {
      "text/plain": [
       "0    0.259400\n",
       "1    0.824809\n",
       "2   -0.039260\n",
       "3   -0.006525\n",
       "Name: 0, dtype: float64"
      ]
     },
     "execution_count": 51,
     "metadata": {},
     "output_type": "execute_result"
    }
   ],
   "source": [
    "dataFrame[0]   #first Coloumn"
   ]
  },
  {
   "cell_type": "code",
   "execution_count": 52,
   "id": "4b2d86aa",
   "metadata": {},
   "outputs": [
    {
     "data": {
      "text/plain": [
       "pandas.core.series.Series"
      ]
     },
     "execution_count": 52,
     "metadata": {},
     "output_type": "execute_result"
    }
   ],
   "source": [
    "type(dataFrame[0])"
   ]
  },
  {
   "cell_type": "code",
   "execution_count": 53,
   "id": "6292983f",
   "metadata": {},
   "outputs": [
    {
     "data": {
      "text/html": [
       "<div>\n",
       "<style scoped>\n",
       "    .dataframe tbody tr th:only-of-type {\n",
       "        vertical-align: middle;\n",
       "    }\n",
       "\n",
       "    .dataframe tbody tr th {\n",
       "        vertical-align: top;\n",
       "    }\n",
       "\n",
       "    .dataframe thead th {\n",
       "        text-align: right;\n",
       "    }\n",
       "</style>\n",
       "<table border=\"1\" class=\"dataframe\">\n",
       "  <thead>\n",
       "    <tr style=\"text-align: right;\">\n",
       "      <th></th>\n",
       "      <th>Age</th>\n",
       "      <th>Salary</th>\n",
       "      <th>BirthYear</th>\n",
       "    </tr>\n",
       "  </thead>\n",
       "  <tbody>\n",
       "    <tr>\n",
       "      <th>Ömer</th>\n",
       "      <td>0.259400</td>\n",
       "      <td>0.223292</td>\n",
       "      <td>0.264082</td>\n",
       "    </tr>\n",
       "    <tr>\n",
       "      <th>Beytullah</th>\n",
       "      <td>0.824809</td>\n",
       "      <td>-0.450729</td>\n",
       "      <td>0.550225</td>\n",
       "    </tr>\n",
       "    <tr>\n",
       "      <th>Yaren</th>\n",
       "      <td>-0.039260</td>\n",
       "      <td>-1.248635</td>\n",
       "      <td>0.631735</td>\n",
       "    </tr>\n",
       "    <tr>\n",
       "      <th>Emin</th>\n",
       "      <td>-0.006525</td>\n",
       "      <td>-0.555294</td>\n",
       "      <td>-0.378288</td>\n",
       "    </tr>\n",
       "  </tbody>\n",
       "</table>\n",
       "</div>"
      ],
      "text/plain": [
       "                Age    Salary  BirthYear\n",
       "Ömer       0.259400  0.223292   0.264082\n",
       "Beytullah  0.824809 -0.450729   0.550225\n",
       "Yaren     -0.039260 -1.248635   0.631735\n",
       "Emin      -0.006525 -0.555294  -0.378288"
      ]
     },
     "execution_count": 53,
     "metadata": {},
     "output_type": "execute_result"
    }
   ],
   "source": [
    "newDataFrame = pd.DataFrame(data,index=[\"Ömer\",\"Beytullah\",\"Yaren\",\"Emin\"],columns=[\"Age\",\"Salary\",\"BirthYear\"])\n",
    "newDataFrame"
   ]
  },
  {
   "cell_type": "code",
   "execution_count": 54,
   "id": "f4196abd",
   "metadata": {},
   "outputs": [
    {
     "data": {
      "text/plain": [
       "Ömer         0.259400\n",
       "Beytullah    0.824809\n",
       "Yaren       -0.039260\n",
       "Emin        -0.006525\n",
       "Name: Age, dtype: float64"
      ]
     },
     "execution_count": 54,
     "metadata": {},
     "output_type": "execute_result"
    }
   ],
   "source": [
    "newDataFrame[\"Age\"] "
   ]
  },
  {
   "cell_type": "code",
   "execution_count": 55,
   "id": "09882412",
   "metadata": {},
   "outputs": [
    {
     "data": {
      "text/html": [
       "<div>\n",
       "<style scoped>\n",
       "    .dataframe tbody tr th:only-of-type {\n",
       "        vertical-align: middle;\n",
       "    }\n",
       "\n",
       "    .dataframe tbody tr th {\n",
       "        vertical-align: top;\n",
       "    }\n",
       "\n",
       "    .dataframe thead th {\n",
       "        text-align: right;\n",
       "    }\n",
       "</style>\n",
       "<table border=\"1\" class=\"dataframe\">\n",
       "  <thead>\n",
       "    <tr style=\"text-align: right;\">\n",
       "      <th></th>\n",
       "      <th>Age</th>\n",
       "      <th>Salary</th>\n",
       "    </tr>\n",
       "  </thead>\n",
       "  <tbody>\n",
       "    <tr>\n",
       "      <th>Ömer</th>\n",
       "      <td>0.259400</td>\n",
       "      <td>0.223292</td>\n",
       "    </tr>\n",
       "    <tr>\n",
       "      <th>Beytullah</th>\n",
       "      <td>0.824809</td>\n",
       "      <td>-0.450729</td>\n",
       "    </tr>\n",
       "    <tr>\n",
       "      <th>Yaren</th>\n",
       "      <td>-0.039260</td>\n",
       "      <td>-1.248635</td>\n",
       "    </tr>\n",
       "    <tr>\n",
       "      <th>Emin</th>\n",
       "      <td>-0.006525</td>\n",
       "      <td>-0.555294</td>\n",
       "    </tr>\n",
       "  </tbody>\n",
       "</table>\n",
       "</div>"
      ],
      "text/plain": [
       "                Age    Salary\n",
       "Ömer       0.259400  0.223292\n",
       "Beytullah  0.824809 -0.450729\n",
       "Yaren     -0.039260 -1.248635\n",
       "Emin      -0.006525 -0.555294"
      ]
     },
     "execution_count": 55,
     "metadata": {},
     "output_type": "execute_result"
    }
   ],
   "source": [
    "newDataFrame[[\"Age\",\"Salary\"]]"
   ]
  },
  {
   "cell_type": "code",
   "execution_count": 56,
   "id": "fbc65905",
   "metadata": {},
   "outputs": [
    {
     "data": {
      "text/plain": [
       "Age          0.259400\n",
       "Salary       0.223292\n",
       "BirthYear    0.264082\n",
       "Name: Ömer, dtype: float64"
      ]
     },
     "execution_count": 56,
     "metadata": {},
     "output_type": "execute_result"
    }
   ],
   "source": [
    "newDataFrame.loc[\"Ömer\"]   #get row/index"
   ]
  },
  {
   "cell_type": "code",
   "execution_count": 57,
   "id": "8b6838bb",
   "metadata": {},
   "outputs": [
    {
     "data": {
      "text/plain": [
       "Age          0.824809\n",
       "Salary      -0.450729\n",
       "BirthYear    0.550225\n",
       "Name: Beytullah, dtype: float64"
      ]
     },
     "execution_count": 57,
     "metadata": {},
     "output_type": "execute_result"
    }
   ],
   "source": [
    "newDataFrame.iloc[1]    #get row/index by index number"
   ]
  },
  {
   "cell_type": "markdown",
   "id": "f0d58ba1",
   "metadata": {},
   "source": [
    "## Data Frame Indexes"
   ]
  },
  {
   "cell_type": "markdown",
   "id": "30a9640b",
   "metadata": {},
   "source": [
    "#### Adding coloumn"
   ]
  },
  {
   "cell_type": "code",
   "execution_count": 58,
   "id": "24d319ba",
   "metadata": {},
   "outputs": [
    {
     "data": {
      "text/html": [
       "<div>\n",
       "<style scoped>\n",
       "    .dataframe tbody tr th:only-of-type {\n",
       "        vertical-align: middle;\n",
       "    }\n",
       "\n",
       "    .dataframe tbody tr th {\n",
       "        vertical-align: top;\n",
       "    }\n",
       "\n",
       "    .dataframe thead th {\n",
       "        text-align: right;\n",
       "    }\n",
       "</style>\n",
       "<table border=\"1\" class=\"dataframe\">\n",
       "  <thead>\n",
       "    <tr style=\"text-align: right;\">\n",
       "      <th></th>\n",
       "      <th>Age</th>\n",
       "      <th>Salary</th>\n",
       "      <th>BirthYear</th>\n",
       "      <th>Retirement Age</th>\n",
       "    </tr>\n",
       "  </thead>\n",
       "  <tbody>\n",
       "    <tr>\n",
       "      <th>Ömer</th>\n",
       "      <td>0.259400</td>\n",
       "      <td>0.223292</td>\n",
       "      <td>0.264082</td>\n",
       "      <td>0.518800</td>\n",
       "    </tr>\n",
       "    <tr>\n",
       "      <th>Beytullah</th>\n",
       "      <td>0.824809</td>\n",
       "      <td>-0.450729</td>\n",
       "      <td>0.550225</td>\n",
       "      <td>1.649618</td>\n",
       "    </tr>\n",
       "    <tr>\n",
       "      <th>Yaren</th>\n",
       "      <td>-0.039260</td>\n",
       "      <td>-1.248635</td>\n",
       "      <td>0.631735</td>\n",
       "      <td>-0.078521</td>\n",
       "    </tr>\n",
       "    <tr>\n",
       "      <th>Emin</th>\n",
       "      <td>-0.006525</td>\n",
       "      <td>-0.555294</td>\n",
       "      <td>-0.378288</td>\n",
       "      <td>-0.013050</td>\n",
       "    </tr>\n",
       "  </tbody>\n",
       "</table>\n",
       "</div>"
      ],
      "text/plain": [
       "                Age    Salary  BirthYear  Retirement Age\n",
       "Ömer       0.259400  0.223292   0.264082        0.518800\n",
       "Beytullah  0.824809 -0.450729   0.550225        1.649618\n",
       "Yaren     -0.039260 -1.248635   0.631735       -0.078521\n",
       "Emin      -0.006525 -0.555294  -0.378288       -0.013050"
      ]
     },
     "execution_count": 58,
     "metadata": {},
     "output_type": "execute_result"
    }
   ],
   "source": [
    "newDataFrame[\"Retirement Age\"]= newDataFrame[\"Age\"]+newDataFrame[\"Age\"]\n",
    "newDataFrame"
   ]
  },
  {
   "cell_type": "markdown",
   "id": "bc2aa5f8",
   "metadata": {},
   "source": [
    "#### Drop/Delete Coloumn"
   ]
  },
  {
   "cell_type": "code",
   "execution_count": 59,
   "id": "f753b867",
   "metadata": {},
   "outputs": [
    {
     "data": {
      "text/html": [
       "<div>\n",
       "<style scoped>\n",
       "    .dataframe tbody tr th:only-of-type {\n",
       "        vertical-align: middle;\n",
       "    }\n",
       "\n",
       "    .dataframe tbody tr th {\n",
       "        vertical-align: top;\n",
       "    }\n",
       "\n",
       "    .dataframe thead th {\n",
       "        text-align: right;\n",
       "    }\n",
       "</style>\n",
       "<table border=\"1\" class=\"dataframe\">\n",
       "  <thead>\n",
       "    <tr style=\"text-align: right;\">\n",
       "      <th></th>\n",
       "      <th>Age</th>\n",
       "      <th>Salary</th>\n",
       "      <th>BirthYear</th>\n",
       "    </tr>\n",
       "  </thead>\n",
       "  <tbody>\n",
       "    <tr>\n",
       "      <th>Ömer</th>\n",
       "      <td>0.259400</td>\n",
       "      <td>0.223292</td>\n",
       "      <td>0.264082</td>\n",
       "    </tr>\n",
       "    <tr>\n",
       "      <th>Beytullah</th>\n",
       "      <td>0.824809</td>\n",
       "      <td>-0.450729</td>\n",
       "      <td>0.550225</td>\n",
       "    </tr>\n",
       "    <tr>\n",
       "      <th>Yaren</th>\n",
       "      <td>-0.039260</td>\n",
       "      <td>-1.248635</td>\n",
       "      <td>0.631735</td>\n",
       "    </tr>\n",
       "    <tr>\n",
       "      <th>Emin</th>\n",
       "      <td>-0.006525</td>\n",
       "      <td>-0.555294</td>\n",
       "      <td>-0.378288</td>\n",
       "    </tr>\n",
       "  </tbody>\n",
       "</table>\n",
       "</div>"
      ],
      "text/plain": [
       "                Age    Salary  BirthYear\n",
       "Ömer       0.259400  0.223292   0.264082\n",
       "Beytullah  0.824809 -0.450729   0.550225\n",
       "Yaren     -0.039260 -1.248635   0.631735\n",
       "Emin      -0.006525 -0.555294  -0.378288"
      ]
     },
     "execution_count": 59,
     "metadata": {},
     "output_type": "execute_result"
    }
   ],
   "source": [
    "newDataFrame.drop(\"Retirement Age\",axis=1) #axis=0 row, axis= coloumn"
   ]
  },
  {
   "cell_type": "code",
   "execution_count": 60,
   "id": "ac8171ab",
   "metadata": {},
   "outputs": [
    {
     "data": {
      "text/html": [
       "<div>\n",
       "<style scoped>\n",
       "    .dataframe tbody tr th:only-of-type {\n",
       "        vertical-align: middle;\n",
       "    }\n",
       "\n",
       "    .dataframe tbody tr th {\n",
       "        vertical-align: top;\n",
       "    }\n",
       "\n",
       "    .dataframe thead th {\n",
       "        text-align: right;\n",
       "    }\n",
       "</style>\n",
       "<table border=\"1\" class=\"dataframe\">\n",
       "  <thead>\n",
       "    <tr style=\"text-align: right;\">\n",
       "      <th></th>\n",
       "      <th>Age</th>\n",
       "      <th>Salary</th>\n",
       "      <th>BirthYear</th>\n",
       "      <th>Retirement Age</th>\n",
       "    </tr>\n",
       "  </thead>\n",
       "  <tbody>\n",
       "    <tr>\n",
       "      <th>Ömer</th>\n",
       "      <td>0.259400</td>\n",
       "      <td>0.223292</td>\n",
       "      <td>0.264082</td>\n",
       "      <td>0.518800</td>\n",
       "    </tr>\n",
       "    <tr>\n",
       "      <th>Beytullah</th>\n",
       "      <td>0.824809</td>\n",
       "      <td>-0.450729</td>\n",
       "      <td>0.550225</td>\n",
       "      <td>1.649618</td>\n",
       "    </tr>\n",
       "    <tr>\n",
       "      <th>Yaren</th>\n",
       "      <td>-0.039260</td>\n",
       "      <td>-1.248635</td>\n",
       "      <td>0.631735</td>\n",
       "      <td>-0.078521</td>\n",
       "    </tr>\n",
       "    <tr>\n",
       "      <th>Emin</th>\n",
       "      <td>-0.006525</td>\n",
       "      <td>-0.555294</td>\n",
       "      <td>-0.378288</td>\n",
       "      <td>-0.013050</td>\n",
       "    </tr>\n",
       "  </tbody>\n",
       "</table>\n",
       "</div>"
      ],
      "text/plain": [
       "                Age    Salary  BirthYear  Retirement Age\n",
       "Ömer       0.259400  0.223292   0.264082        0.518800\n",
       "Beytullah  0.824809 -0.450729   0.550225        1.649618\n",
       "Yaren     -0.039260 -1.248635   0.631735       -0.078521\n",
       "Emin      -0.006525 -0.555294  -0.378288       -0.013050"
      ]
     },
     "execution_count": 60,
     "metadata": {},
     "output_type": "execute_result"
    }
   ],
   "source": [
    "newDataFrame"
   ]
  },
  {
   "cell_type": "code",
   "execution_count": 61,
   "id": "ad07b19b",
   "metadata": {},
   "outputs": [
    {
     "data": {
      "text/html": [
       "<div>\n",
       "<style scoped>\n",
       "    .dataframe tbody tr th:only-of-type {\n",
       "        vertical-align: middle;\n",
       "    }\n",
       "\n",
       "    .dataframe tbody tr th {\n",
       "        vertical-align: top;\n",
       "    }\n",
       "\n",
       "    .dataframe thead th {\n",
       "        text-align: right;\n",
       "    }\n",
       "</style>\n",
       "<table border=\"1\" class=\"dataframe\">\n",
       "  <thead>\n",
       "    <tr style=\"text-align: right;\">\n",
       "      <th></th>\n",
       "      <th>Age</th>\n",
       "      <th>Salary</th>\n",
       "      <th>BirthYear</th>\n",
       "      <th>Retirement Age</th>\n",
       "    </tr>\n",
       "  </thead>\n",
       "  <tbody>\n",
       "    <tr>\n",
       "      <th>Ömer</th>\n",
       "      <td>0.259400</td>\n",
       "      <td>0.223292</td>\n",
       "      <td>0.264082</td>\n",
       "      <td>0.518800</td>\n",
       "    </tr>\n",
       "    <tr>\n",
       "      <th>Beytullah</th>\n",
       "      <td>0.824809</td>\n",
       "      <td>-0.450729</td>\n",
       "      <td>0.550225</td>\n",
       "      <td>1.649618</td>\n",
       "    </tr>\n",
       "    <tr>\n",
       "      <th>Yaren</th>\n",
       "      <td>-0.039260</td>\n",
       "      <td>-1.248635</td>\n",
       "      <td>0.631735</td>\n",
       "      <td>-0.078521</td>\n",
       "    </tr>\n",
       "  </tbody>\n",
       "</table>\n",
       "</div>"
      ],
      "text/plain": [
       "                Age    Salary  BirthYear  Retirement Age\n",
       "Ömer       0.259400  0.223292   0.264082        0.518800\n",
       "Beytullah  0.824809 -0.450729   0.550225        1.649618\n",
       "Yaren     -0.039260 -1.248635   0.631735       -0.078521"
      ]
     },
     "execution_count": 61,
     "metadata": {},
     "output_type": "execute_result"
    }
   ],
   "source": [
    "newDataFrame.drop(\"Emin\")"
   ]
  },
  {
   "cell_type": "code",
   "execution_count": 62,
   "id": "cf5d9225",
   "metadata": {},
   "outputs": [
    {
     "data": {
      "text/html": [
       "<div>\n",
       "<style scoped>\n",
       "    .dataframe tbody tr th:only-of-type {\n",
       "        vertical-align: middle;\n",
       "    }\n",
       "\n",
       "    .dataframe tbody tr th {\n",
       "        vertical-align: top;\n",
       "    }\n",
       "\n",
       "    .dataframe thead th {\n",
       "        text-align: right;\n",
       "    }\n",
       "</style>\n",
       "<table border=\"1\" class=\"dataframe\">\n",
       "  <thead>\n",
       "    <tr style=\"text-align: right;\">\n",
       "      <th></th>\n",
       "      <th>Age</th>\n",
       "      <th>Salary</th>\n",
       "      <th>BirthYear</th>\n",
       "      <th>Retirement Age</th>\n",
       "    </tr>\n",
       "  </thead>\n",
       "  <tbody>\n",
       "    <tr>\n",
       "      <th>Ömer</th>\n",
       "      <td>0.259400</td>\n",
       "      <td>0.223292</td>\n",
       "      <td>0.264082</td>\n",
       "      <td>0.518800</td>\n",
       "    </tr>\n",
       "    <tr>\n",
       "      <th>Beytullah</th>\n",
       "      <td>0.824809</td>\n",
       "      <td>-0.450729</td>\n",
       "      <td>0.550225</td>\n",
       "      <td>1.649618</td>\n",
       "    </tr>\n",
       "    <tr>\n",
       "      <th>Yaren</th>\n",
       "      <td>-0.039260</td>\n",
       "      <td>-1.248635</td>\n",
       "      <td>0.631735</td>\n",
       "      <td>-0.078521</td>\n",
       "    </tr>\n",
       "    <tr>\n",
       "      <th>Emin</th>\n",
       "      <td>-0.006525</td>\n",
       "      <td>-0.555294</td>\n",
       "      <td>-0.378288</td>\n",
       "      <td>-0.013050</td>\n",
       "    </tr>\n",
       "  </tbody>\n",
       "</table>\n",
       "</div>"
      ],
      "text/plain": [
       "                Age    Salary  BirthYear  Retirement Age\n",
       "Ömer       0.259400  0.223292   0.264082        0.518800\n",
       "Beytullah  0.824809 -0.450729   0.550225        1.649618\n",
       "Yaren     -0.039260 -1.248635   0.631735       -0.078521\n",
       "Emin      -0.006525 -0.555294  -0.378288       -0.013050"
      ]
     },
     "execution_count": 62,
     "metadata": {},
     "output_type": "execute_result"
    }
   ],
   "source": [
    "newDataFrame"
   ]
  },
  {
   "cell_type": "code",
   "execution_count": 63,
   "id": "57e2f600",
   "metadata": {},
   "outputs": [],
   "source": [
    "newDataFrame.drop(\"Retirement Age\",axis=1,inplace=True) #permanently delete"
   ]
  },
  {
   "cell_type": "code",
   "execution_count": 64,
   "id": "26fca6ea",
   "metadata": {},
   "outputs": [
    {
     "data": {
      "text/plain": [
       "0.2593999176964488"
      ]
     },
     "execution_count": 64,
     "metadata": {},
     "output_type": "execute_result"
    }
   ],
   "source": [
    "newDataFrame.loc[\"Ömer\"][\"Age\"]"
   ]
  },
  {
   "cell_type": "code",
   "execution_count": 65,
   "id": "a2ecb4a3",
   "metadata": {},
   "outputs": [
    {
     "data": {
      "text/html": [
       "<div>\n",
       "<style scoped>\n",
       "    .dataframe tbody tr th:only-of-type {\n",
       "        vertical-align: middle;\n",
       "    }\n",
       "\n",
       "    .dataframe tbody tr th {\n",
       "        vertical-align: top;\n",
       "    }\n",
       "\n",
       "    .dataframe thead th {\n",
       "        text-align: right;\n",
       "    }\n",
       "</style>\n",
       "<table border=\"1\" class=\"dataframe\">\n",
       "  <thead>\n",
       "    <tr style=\"text-align: right;\">\n",
       "      <th></th>\n",
       "      <th>Age</th>\n",
       "      <th>Salary</th>\n",
       "      <th>BirthYear</th>\n",
       "    </tr>\n",
       "  </thead>\n",
       "  <tbody>\n",
       "    <tr>\n",
       "      <th>Ömer</th>\n",
       "      <td>False</td>\n",
       "      <td>False</td>\n",
       "      <td>False</td>\n",
       "    </tr>\n",
       "    <tr>\n",
       "      <th>Beytullah</th>\n",
       "      <td>False</td>\n",
       "      <td>True</td>\n",
       "      <td>False</td>\n",
       "    </tr>\n",
       "    <tr>\n",
       "      <th>Yaren</th>\n",
       "      <td>True</td>\n",
       "      <td>True</td>\n",
       "      <td>False</td>\n",
       "    </tr>\n",
       "    <tr>\n",
       "      <th>Emin</th>\n",
       "      <td>True</td>\n",
       "      <td>True</td>\n",
       "      <td>True</td>\n",
       "    </tr>\n",
       "  </tbody>\n",
       "</table>\n",
       "</div>"
      ],
      "text/plain": [
       "             Age  Salary  BirthYear\n",
       "Ömer       False   False      False\n",
       "Beytullah  False    True      False\n",
       "Yaren       True    True      False\n",
       "Emin        True    True       True"
      ]
     },
     "execution_count": 65,
     "metadata": {},
     "output_type": "execute_result"
    }
   ],
   "source": [
    "newDataFrame <0"
   ]
  },
  {
   "cell_type": "code",
   "execution_count": 66,
   "id": "ec1057b1",
   "metadata": {},
   "outputs": [
    {
     "data": {
      "text/html": [
       "<div>\n",
       "<style scoped>\n",
       "    .dataframe tbody tr th:only-of-type {\n",
       "        vertical-align: middle;\n",
       "    }\n",
       "\n",
       "    .dataframe tbody tr th {\n",
       "        vertical-align: top;\n",
       "    }\n",
       "\n",
       "    .dataframe thead th {\n",
       "        text-align: right;\n",
       "    }\n",
       "</style>\n",
       "<table border=\"1\" class=\"dataframe\">\n",
       "  <thead>\n",
       "    <tr style=\"text-align: right;\">\n",
       "      <th></th>\n",
       "      <th>Age</th>\n",
       "      <th>Salary</th>\n",
       "      <th>BirthYear</th>\n",
       "    </tr>\n",
       "  </thead>\n",
       "  <tbody>\n",
       "    <tr>\n",
       "      <th>Ömer</th>\n",
       "      <td>False</td>\n",
       "      <td>False</td>\n",
       "      <td>False</td>\n",
       "    </tr>\n",
       "    <tr>\n",
       "      <th>Beytullah</th>\n",
       "      <td>False</td>\n",
       "      <td>True</td>\n",
       "      <td>False</td>\n",
       "    </tr>\n",
       "    <tr>\n",
       "      <th>Yaren</th>\n",
       "      <td>True</td>\n",
       "      <td>True</td>\n",
       "      <td>False</td>\n",
       "    </tr>\n",
       "    <tr>\n",
       "      <th>Emin</th>\n",
       "      <td>True</td>\n",
       "      <td>True</td>\n",
       "      <td>True</td>\n",
       "    </tr>\n",
       "  </tbody>\n",
       "</table>\n",
       "</div>"
      ],
      "text/plain": [
       "             Age  Salary  BirthYear\n",
       "Ömer       False   False      False\n",
       "Beytullah  False    True      False\n",
       "Yaren       True    True      False\n",
       "Emin        True    True       True"
      ]
     },
     "execution_count": 66,
     "metadata": {},
     "output_type": "execute_result"
    }
   ],
   "source": [
    "booleanFrame = newDataFrame <0\n",
    "booleanFrame"
   ]
  },
  {
   "cell_type": "code",
   "execution_count": 67,
   "id": "f3f1b205",
   "metadata": {},
   "outputs": [
    {
     "data": {
      "text/html": [
       "<div>\n",
       "<style scoped>\n",
       "    .dataframe tbody tr th:only-of-type {\n",
       "        vertical-align: middle;\n",
       "    }\n",
       "\n",
       "    .dataframe tbody tr th {\n",
       "        vertical-align: top;\n",
       "    }\n",
       "\n",
       "    .dataframe thead th {\n",
       "        text-align: right;\n",
       "    }\n",
       "</style>\n",
       "<table border=\"1\" class=\"dataframe\">\n",
       "  <thead>\n",
       "    <tr style=\"text-align: right;\">\n",
       "      <th></th>\n",
       "      <th>Age</th>\n",
       "      <th>Salary</th>\n",
       "      <th>BirthYear</th>\n",
       "    </tr>\n",
       "  </thead>\n",
       "  <tbody>\n",
       "    <tr>\n",
       "      <th>Ömer</th>\n",
       "      <td>NaN</td>\n",
       "      <td>NaN</td>\n",
       "      <td>NaN</td>\n",
       "    </tr>\n",
       "    <tr>\n",
       "      <th>Beytullah</th>\n",
       "      <td>NaN</td>\n",
       "      <td>-0.450729</td>\n",
       "      <td>NaN</td>\n",
       "    </tr>\n",
       "    <tr>\n",
       "      <th>Yaren</th>\n",
       "      <td>-0.039260</td>\n",
       "      <td>-1.248635</td>\n",
       "      <td>NaN</td>\n",
       "    </tr>\n",
       "    <tr>\n",
       "      <th>Emin</th>\n",
       "      <td>-0.006525</td>\n",
       "      <td>-0.555294</td>\n",
       "      <td>-0.378288</td>\n",
       "    </tr>\n",
       "  </tbody>\n",
       "</table>\n",
       "</div>"
      ],
      "text/plain": [
       "                Age    Salary  BirthYear\n",
       "Ömer            NaN       NaN        NaN\n",
       "Beytullah       NaN -0.450729        NaN\n",
       "Yaren     -0.039260 -1.248635        NaN\n",
       "Emin      -0.006525 -0.555294  -0.378288"
      ]
     },
     "execution_count": 67,
     "metadata": {},
     "output_type": "execute_result"
    }
   ],
   "source": [
    "newDataFrame[booleanFrame]"
   ]
  },
  {
   "cell_type": "code",
   "execution_count": 68,
   "id": "9a7add26",
   "metadata": {},
   "outputs": [
    {
     "data": {
      "text/html": [
       "<div>\n",
       "<style scoped>\n",
       "    .dataframe tbody tr th:only-of-type {\n",
       "        vertical-align: middle;\n",
       "    }\n",
       "\n",
       "    .dataframe tbody tr th {\n",
       "        vertical-align: top;\n",
       "    }\n",
       "\n",
       "    .dataframe thead th {\n",
       "        text-align: right;\n",
       "    }\n",
       "</style>\n",
       "<table border=\"1\" class=\"dataframe\">\n",
       "  <thead>\n",
       "    <tr style=\"text-align: right;\">\n",
       "      <th></th>\n",
       "      <th>Age</th>\n",
       "      <th>Salary</th>\n",
       "      <th>BirthYear</th>\n",
       "    </tr>\n",
       "  </thead>\n",
       "  <tbody>\n",
       "    <tr>\n",
       "      <th>Ömer</th>\n",
       "      <td>NaN</td>\n",
       "      <td>NaN</td>\n",
       "      <td>NaN</td>\n",
       "    </tr>\n",
       "    <tr>\n",
       "      <th>Beytullah</th>\n",
       "      <td>NaN</td>\n",
       "      <td>-0.450729</td>\n",
       "      <td>NaN</td>\n",
       "    </tr>\n",
       "    <tr>\n",
       "      <th>Yaren</th>\n",
       "      <td>-0.039260</td>\n",
       "      <td>-1.248635</td>\n",
       "      <td>NaN</td>\n",
       "    </tr>\n",
       "    <tr>\n",
       "      <th>Emin</th>\n",
       "      <td>-0.006525</td>\n",
       "      <td>-0.555294</td>\n",
       "      <td>-0.378288</td>\n",
       "    </tr>\n",
       "  </tbody>\n",
       "</table>\n",
       "</div>"
      ],
      "text/plain": [
       "                Age    Salary  BirthYear\n",
       "Ömer            NaN       NaN        NaN\n",
       "Beytullah       NaN -0.450729        NaN\n",
       "Yaren     -0.039260 -1.248635        NaN\n",
       "Emin      -0.006525 -0.555294  -0.378288"
      ]
     },
     "execution_count": 68,
     "metadata": {},
     "output_type": "execute_result"
    }
   ],
   "source": [
    "newDataFrame[newDataFrame<0]"
   ]
  },
  {
   "cell_type": "code",
   "execution_count": 69,
   "id": "72d40e73",
   "metadata": {},
   "outputs": [
    {
     "data": {
      "text/html": [
       "<div>\n",
       "<style scoped>\n",
       "    .dataframe tbody tr th:only-of-type {\n",
       "        vertical-align: middle;\n",
       "    }\n",
       "\n",
       "    .dataframe tbody tr th {\n",
       "        vertical-align: top;\n",
       "    }\n",
       "\n",
       "    .dataframe thead th {\n",
       "        text-align: right;\n",
       "    }\n",
       "</style>\n",
       "<table border=\"1\" class=\"dataframe\">\n",
       "  <thead>\n",
       "    <tr style=\"text-align: right;\">\n",
       "      <th></th>\n",
       "      <th>Age</th>\n",
       "      <th>Salary</th>\n",
       "      <th>BirthYear</th>\n",
       "    </tr>\n",
       "  </thead>\n",
       "  <tbody>\n",
       "    <tr>\n",
       "      <th>Yaren</th>\n",
       "      <td>-0.039260</td>\n",
       "      <td>-1.248635</td>\n",
       "      <td>0.631735</td>\n",
       "    </tr>\n",
       "    <tr>\n",
       "      <th>Emin</th>\n",
       "      <td>-0.006525</td>\n",
       "      <td>-0.555294</td>\n",
       "      <td>-0.378288</td>\n",
       "    </tr>\n",
       "  </tbody>\n",
       "</table>\n",
       "</div>"
      ],
      "text/plain": [
       "            Age    Salary  BirthYear\n",
       "Yaren -0.039260 -1.248635   0.631735\n",
       "Emin  -0.006525 -0.555294  -0.378288"
      ]
     },
     "execution_count": 69,
     "metadata": {},
     "output_type": "execute_result"
    }
   ],
   "source": [
    "newDataFrame[newDataFrame[\"Age\"]<0]"
   ]
  },
  {
   "cell_type": "markdown",
   "id": "848ae1b1",
   "metadata": {},
   "source": [
    "### Changing Index"
   ]
  },
  {
   "cell_type": "code",
   "execution_count": 70,
   "id": "38e947f8",
   "metadata": {},
   "outputs": [
    {
     "data": {
      "text/html": [
       "<div>\n",
       "<style scoped>\n",
       "    .dataframe tbody tr th:only-of-type {\n",
       "        vertical-align: middle;\n",
       "    }\n",
       "\n",
       "    .dataframe tbody tr th {\n",
       "        vertical-align: top;\n",
       "    }\n",
       "\n",
       "    .dataframe thead th {\n",
       "        text-align: right;\n",
       "    }\n",
       "</style>\n",
       "<table border=\"1\" class=\"dataframe\">\n",
       "  <thead>\n",
       "    <tr style=\"text-align: right;\">\n",
       "      <th></th>\n",
       "      <th>index</th>\n",
       "      <th>Age</th>\n",
       "      <th>Salary</th>\n",
       "      <th>BirthYear</th>\n",
       "    </tr>\n",
       "  </thead>\n",
       "  <tbody>\n",
       "    <tr>\n",
       "      <th>0</th>\n",
       "      <td>Ömer</td>\n",
       "      <td>0.259400</td>\n",
       "      <td>0.223292</td>\n",
       "      <td>0.264082</td>\n",
       "    </tr>\n",
       "    <tr>\n",
       "      <th>1</th>\n",
       "      <td>Beytullah</td>\n",
       "      <td>0.824809</td>\n",
       "      <td>-0.450729</td>\n",
       "      <td>0.550225</td>\n",
       "    </tr>\n",
       "    <tr>\n",
       "      <th>2</th>\n",
       "      <td>Yaren</td>\n",
       "      <td>-0.039260</td>\n",
       "      <td>-1.248635</td>\n",
       "      <td>0.631735</td>\n",
       "    </tr>\n",
       "    <tr>\n",
       "      <th>3</th>\n",
       "      <td>Emin</td>\n",
       "      <td>-0.006525</td>\n",
       "      <td>-0.555294</td>\n",
       "      <td>-0.378288</td>\n",
       "    </tr>\n",
       "  </tbody>\n",
       "</table>\n",
       "</div>"
      ],
      "text/plain": [
       "       index       Age    Salary  BirthYear\n",
       "0       Ömer  0.259400  0.223292   0.264082\n",
       "1  Beytullah  0.824809 -0.450729   0.550225\n",
       "2      Yaren -0.039260 -1.248635   0.631735\n",
       "3       Emin -0.006525 -0.555294  -0.378288"
      ]
     },
     "execution_count": 70,
     "metadata": {},
     "output_type": "execute_result"
    }
   ],
   "source": [
    "newDataFrame.reset_index()"
   ]
  },
  {
   "cell_type": "code",
   "execution_count": 71,
   "id": "39c6ea56",
   "metadata": {},
   "outputs": [
    {
     "data": {
      "text/html": [
       "<div>\n",
       "<style scoped>\n",
       "    .dataframe tbody tr th:only-of-type {\n",
       "        vertical-align: middle;\n",
       "    }\n",
       "\n",
       "    .dataframe tbody tr th {\n",
       "        vertical-align: top;\n",
       "    }\n",
       "\n",
       "    .dataframe thead th {\n",
       "        text-align: right;\n",
       "    }\n",
       "</style>\n",
       "<table border=\"1\" class=\"dataframe\">\n",
       "  <thead>\n",
       "    <tr style=\"text-align: right;\">\n",
       "      <th></th>\n",
       "      <th>Age</th>\n",
       "      <th>Salary</th>\n",
       "      <th>BirthYear</th>\n",
       "    </tr>\n",
       "  </thead>\n",
       "  <tbody>\n",
       "    <tr>\n",
       "      <th>Ömer</th>\n",
       "      <td>0.259400</td>\n",
       "      <td>0.223292</td>\n",
       "      <td>0.264082</td>\n",
       "    </tr>\n",
       "    <tr>\n",
       "      <th>Beytullah</th>\n",
       "      <td>0.824809</td>\n",
       "      <td>-0.450729</td>\n",
       "      <td>0.550225</td>\n",
       "    </tr>\n",
       "    <tr>\n",
       "      <th>Yaren</th>\n",
       "      <td>-0.039260</td>\n",
       "      <td>-1.248635</td>\n",
       "      <td>0.631735</td>\n",
       "    </tr>\n",
       "    <tr>\n",
       "      <th>Emin</th>\n",
       "      <td>-0.006525</td>\n",
       "      <td>-0.555294</td>\n",
       "      <td>-0.378288</td>\n",
       "    </tr>\n",
       "  </tbody>\n",
       "</table>\n",
       "</div>"
      ],
      "text/plain": [
       "                Age    Salary  BirthYear\n",
       "Ömer       0.259400  0.223292   0.264082\n",
       "Beytullah  0.824809 -0.450729   0.550225\n",
       "Yaren     -0.039260 -1.248635   0.631735\n",
       "Emin      -0.006525 -0.555294  -0.378288"
      ]
     },
     "execution_count": 71,
     "metadata": {},
     "output_type": "execute_result"
    }
   ],
   "source": [
    "newDataFrame"
   ]
  },
  {
   "cell_type": "code",
   "execution_count": 72,
   "id": "0c9aa1cb",
   "metadata": {},
   "outputs": [],
   "source": [
    "newIndexList= [\"Ö\",\"B\",\"Y\",\"E\"]"
   ]
  },
  {
   "cell_type": "code",
   "execution_count": 73,
   "id": "4e9fdcde",
   "metadata": {},
   "outputs": [
    {
     "data": {
      "text/html": [
       "<div>\n",
       "<style scoped>\n",
       "    .dataframe tbody tr th:only-of-type {\n",
       "        vertical-align: middle;\n",
       "    }\n",
       "\n",
       "    .dataframe tbody tr th {\n",
       "        vertical-align: top;\n",
       "    }\n",
       "\n",
       "    .dataframe thead th {\n",
       "        text-align: right;\n",
       "    }\n",
       "</style>\n",
       "<table border=\"1\" class=\"dataframe\">\n",
       "  <thead>\n",
       "    <tr style=\"text-align: right;\">\n",
       "      <th></th>\n",
       "      <th>Age</th>\n",
       "      <th>Salary</th>\n",
       "      <th>BirthYear</th>\n",
       "      <th>New Indexes</th>\n",
       "    </tr>\n",
       "  </thead>\n",
       "  <tbody>\n",
       "    <tr>\n",
       "      <th>Ömer</th>\n",
       "      <td>0.259400</td>\n",
       "      <td>0.223292</td>\n",
       "      <td>0.264082</td>\n",
       "      <td>Ö</td>\n",
       "    </tr>\n",
       "    <tr>\n",
       "      <th>Beytullah</th>\n",
       "      <td>0.824809</td>\n",
       "      <td>-0.450729</td>\n",
       "      <td>0.550225</td>\n",
       "      <td>B</td>\n",
       "    </tr>\n",
       "    <tr>\n",
       "      <th>Yaren</th>\n",
       "      <td>-0.039260</td>\n",
       "      <td>-1.248635</td>\n",
       "      <td>0.631735</td>\n",
       "      <td>Y</td>\n",
       "    </tr>\n",
       "    <tr>\n",
       "      <th>Emin</th>\n",
       "      <td>-0.006525</td>\n",
       "      <td>-0.555294</td>\n",
       "      <td>-0.378288</td>\n",
       "      <td>E</td>\n",
       "    </tr>\n",
       "  </tbody>\n",
       "</table>\n",
       "</div>"
      ],
      "text/plain": [
       "                Age    Salary  BirthYear New Indexes\n",
       "Ömer       0.259400  0.223292   0.264082           Ö\n",
       "Beytullah  0.824809 -0.450729   0.550225           B\n",
       "Yaren     -0.039260 -1.248635   0.631735           Y\n",
       "Emin      -0.006525 -0.555294  -0.378288           E"
      ]
     },
     "execution_count": 73,
     "metadata": {},
     "output_type": "execute_result"
    }
   ],
   "source": [
    "newDataFrame[\"New Indexes\"]= newIndexList\n",
    "newDataFrame"
   ]
  },
  {
   "cell_type": "code",
   "execution_count": 75,
   "id": "8098f0dd",
   "metadata": {},
   "outputs": [
    {
     "data": {
      "text/html": [
       "<div>\n",
       "<style scoped>\n",
       "    .dataframe tbody tr th:only-of-type {\n",
       "        vertical-align: middle;\n",
       "    }\n",
       "\n",
       "    .dataframe tbody tr th {\n",
       "        vertical-align: top;\n",
       "    }\n",
       "\n",
       "    .dataframe thead th {\n",
       "        text-align: right;\n",
       "    }\n",
       "</style>\n",
       "<table border=\"1\" class=\"dataframe\">\n",
       "  <thead>\n",
       "    <tr style=\"text-align: right;\">\n",
       "      <th></th>\n",
       "      <th>Age</th>\n",
       "      <th>Salary</th>\n",
       "      <th>BirthYear</th>\n",
       "    </tr>\n",
       "    <tr>\n",
       "      <th>New Indexes</th>\n",
       "      <th></th>\n",
       "      <th></th>\n",
       "      <th></th>\n",
       "    </tr>\n",
       "  </thead>\n",
       "  <tbody>\n",
       "    <tr>\n",
       "      <th>Ö</th>\n",
       "      <td>0.259400</td>\n",
       "      <td>0.223292</td>\n",
       "      <td>0.264082</td>\n",
       "    </tr>\n",
       "    <tr>\n",
       "      <th>B</th>\n",
       "      <td>0.824809</td>\n",
       "      <td>-0.450729</td>\n",
       "      <td>0.550225</td>\n",
       "    </tr>\n",
       "    <tr>\n",
       "      <th>Y</th>\n",
       "      <td>-0.039260</td>\n",
       "      <td>-1.248635</td>\n",
       "      <td>0.631735</td>\n",
       "    </tr>\n",
       "    <tr>\n",
       "      <th>E</th>\n",
       "      <td>-0.006525</td>\n",
       "      <td>-0.555294</td>\n",
       "      <td>-0.378288</td>\n",
       "    </tr>\n",
       "  </tbody>\n",
       "</table>\n",
       "</div>"
      ],
      "text/plain": [
       "                  Age    Salary  BirthYear\n",
       "New Indexes                               \n",
       "Ö            0.259400  0.223292   0.264082\n",
       "B            0.824809 -0.450729   0.550225\n",
       "Y           -0.039260 -1.248635   0.631735\n",
       "E           -0.006525 -0.555294  -0.378288"
      ]
     },
     "execution_count": 75,
     "metadata": {},
     "output_type": "execute_result"
    }
   ],
   "source": [
    "newDataFrame.set_index(\"New Indexes\") #own column just can be index"
   ]
  },
  {
   "cell_type": "code",
   "execution_count": 76,
   "id": "e263c07f",
   "metadata": {},
   "outputs": [
    {
     "data": {
      "text/html": [
       "<div>\n",
       "<style scoped>\n",
       "    .dataframe tbody tr th:only-of-type {\n",
       "        vertical-align: middle;\n",
       "    }\n",
       "\n",
       "    .dataframe tbody tr th {\n",
       "        vertical-align: top;\n",
       "    }\n",
       "\n",
       "    .dataframe thead th {\n",
       "        text-align: right;\n",
       "    }\n",
       "</style>\n",
       "<table border=\"1\" class=\"dataframe\">\n",
       "  <thead>\n",
       "    <tr style=\"text-align: right;\">\n",
       "      <th></th>\n",
       "      <th>Age</th>\n",
       "      <th>Salary</th>\n",
       "      <th>BirthYear</th>\n",
       "      <th>New Indexes</th>\n",
       "    </tr>\n",
       "  </thead>\n",
       "  <tbody>\n",
       "    <tr>\n",
       "      <th>Ömer</th>\n",
       "      <td>0.259400</td>\n",
       "      <td>0.223292</td>\n",
       "      <td>0.264082</td>\n",
       "      <td>Ö</td>\n",
       "    </tr>\n",
       "    <tr>\n",
       "      <th>Beytullah</th>\n",
       "      <td>0.824809</td>\n",
       "      <td>-0.450729</td>\n",
       "      <td>0.550225</td>\n",
       "      <td>B</td>\n",
       "    </tr>\n",
       "    <tr>\n",
       "      <th>Yaren</th>\n",
       "      <td>-0.039260</td>\n",
       "      <td>-1.248635</td>\n",
       "      <td>0.631735</td>\n",
       "      <td>Y</td>\n",
       "    </tr>\n",
       "    <tr>\n",
       "      <th>Emin</th>\n",
       "      <td>-0.006525</td>\n",
       "      <td>-0.555294</td>\n",
       "      <td>-0.378288</td>\n",
       "      <td>E</td>\n",
       "    </tr>\n",
       "  </tbody>\n",
       "</table>\n",
       "</div>"
      ],
      "text/plain": [
       "                Age    Salary  BirthYear New Indexes\n",
       "Ömer       0.259400  0.223292   0.264082           Ö\n",
       "Beytullah  0.824809 -0.450729   0.550225           B\n",
       "Yaren     -0.039260 -1.248635   0.631735           Y\n",
       "Emin      -0.006525 -0.555294  -0.378288           E"
      ]
     },
     "execution_count": 76,
     "metadata": {},
     "output_type": "execute_result"
    }
   ],
   "source": [
    "newDataFrame #of course, you should assign to variable or inplace = True"
   ]
  },
  {
   "cell_type": "markdown",
   "id": "2ae1a56d",
   "metadata": {},
   "source": [
    "### Multi Indexes"
   ]
  },
  {
   "cell_type": "code",
   "execution_count": 77,
   "id": "be93f919",
   "metadata": {},
   "outputs": [],
   "source": [
    "outerIndexses =[\"Simpson\",\"Simpson\",\"Simpson\",\"South Park\",\"South Park\",\"South Park\"]"
   ]
  },
  {
   "cell_type": "code",
   "execution_count": 78,
   "id": "366791aa",
   "metadata": {},
   "outputs": [],
   "source": [
    "innerIndexes=[\"Homer\",\"Bard\",\"Marge\",\"Cartman\",\"Kenny\",\"Kyle\"]"
   ]
  },
  {
   "cell_type": "code",
   "execution_count": 80,
   "id": "8b2a42c1",
   "metadata": {},
   "outputs": [
    {
     "data": {
      "text/plain": [
       "list"
      ]
     },
     "execution_count": 80,
     "metadata": {},
     "output_type": "execute_result"
    }
   ],
   "source": [
    "combinedIndexes = list(zip(outerIndexses,innerIndexes))\n",
    "type(combinedIndexes)\n",
    "combinedIndexes"
   ]
  },
  {
   "cell_type": "code",
   "execution_count": 82,
   "id": "b0704f97",
   "metadata": {},
   "outputs": [
    {
     "data": {
      "text/plain": [
       "MultiIndex([(   'Simpson',   'Homer'),\n",
       "            (   'Simpson',    'Bard'),\n",
       "            (   'Simpson',   'Marge'),\n",
       "            ('South Park', 'Cartman'),\n",
       "            ('South Park',   'Kenny'),\n",
       "            ('South Park',    'Kyle')],\n",
       "           )"
      ]
     },
     "execution_count": 82,
     "metadata": {},
     "output_type": "execute_result"
    }
   ],
   "source": [
    "combinedIndexes = pd.MultiIndex.from_tuples(combinedIndexes)\n",
    "type(combinedIndexes)\n",
    "combinedIndexes"
   ]
  },
  {
   "cell_type": "code",
   "execution_count": 84,
   "id": "5def6349",
   "metadata": {},
   "outputs": [
    {
     "data": {
      "text/plain": [
       "array([['A', '40'],\n",
       "       ['B', '40'],\n",
       "       ['c', '10'],\n",
       "       ['d', '10'],\n",
       "       ['e', '5'],\n",
       "       ['x', '4']], dtype='<U11')"
      ]
     },
     "execution_count": 84,
     "metadata": {},
     "output_type": "execute_result"
    }
   ],
   "source": [
    "info = np.array([[\"A\",40],[\"B\",40],[\"c\",10],[\"d\",10],[\"e\",5],[\"x\",4]])\n",
    "info"
   ]
  },
  {
   "cell_type": "code",
   "execution_count": 85,
   "id": "832ed40e",
   "metadata": {},
   "outputs": [],
   "source": [
    "cartoon = pd.DataFrame(info,index=combinedIndexes,columns=[\"Job\",\"Age\"])"
   ]
  },
  {
   "cell_type": "code",
   "execution_count": 86,
   "id": "2edfec32",
   "metadata": {},
   "outputs": [
    {
     "data": {
      "text/html": [
       "<div>\n",
       "<style scoped>\n",
       "    .dataframe tbody tr th:only-of-type {\n",
       "        vertical-align: middle;\n",
       "    }\n",
       "\n",
       "    .dataframe tbody tr th {\n",
       "        vertical-align: top;\n",
       "    }\n",
       "\n",
       "    .dataframe thead th {\n",
       "        text-align: right;\n",
       "    }\n",
       "</style>\n",
       "<table border=\"1\" class=\"dataframe\">\n",
       "  <thead>\n",
       "    <tr style=\"text-align: right;\">\n",
       "      <th></th>\n",
       "      <th></th>\n",
       "      <th>Job</th>\n",
       "      <th>Age</th>\n",
       "    </tr>\n",
       "  </thead>\n",
       "  <tbody>\n",
       "    <tr>\n",
       "      <th rowspan=\"3\" valign=\"top\">Simpson</th>\n",
       "      <th>Homer</th>\n",
       "      <td>A</td>\n",
       "      <td>40</td>\n",
       "    </tr>\n",
       "    <tr>\n",
       "      <th>Bard</th>\n",
       "      <td>B</td>\n",
       "      <td>40</td>\n",
       "    </tr>\n",
       "    <tr>\n",
       "      <th>Marge</th>\n",
       "      <td>c</td>\n",
       "      <td>10</td>\n",
       "    </tr>\n",
       "    <tr>\n",
       "      <th rowspan=\"3\" valign=\"top\">South Park</th>\n",
       "      <th>Cartman</th>\n",
       "      <td>d</td>\n",
       "      <td>10</td>\n",
       "    </tr>\n",
       "    <tr>\n",
       "      <th>Kenny</th>\n",
       "      <td>e</td>\n",
       "      <td>5</td>\n",
       "    </tr>\n",
       "    <tr>\n",
       "      <th>Kyle</th>\n",
       "      <td>x</td>\n",
       "      <td>4</td>\n",
       "    </tr>\n",
       "  </tbody>\n",
       "</table>\n",
       "</div>"
      ],
      "text/plain": [
       "                   Job Age\n",
       "Simpson    Homer     A  40\n",
       "           Bard      B  40\n",
       "           Marge     c  10\n",
       "South Park Cartman   d  10\n",
       "           Kenny     e   5\n",
       "           Kyle      x   4"
      ]
     },
     "execution_count": 86,
     "metadata": {},
     "output_type": "execute_result"
    }
   ],
   "source": [
    "cartoon"
   ]
  },
  {
   "cell_type": "code",
   "execution_count": 88,
   "id": "927189ef",
   "metadata": {},
   "outputs": [
    {
     "data": {
      "text/html": [
       "<div>\n",
       "<style scoped>\n",
       "    .dataframe tbody tr th:only-of-type {\n",
       "        vertical-align: middle;\n",
       "    }\n",
       "\n",
       "    .dataframe tbody tr th {\n",
       "        vertical-align: top;\n",
       "    }\n",
       "\n",
       "    .dataframe thead th {\n",
       "        text-align: right;\n",
       "    }\n",
       "</style>\n",
       "<table border=\"1\" class=\"dataframe\">\n",
       "  <thead>\n",
       "    <tr style=\"text-align: right;\">\n",
       "      <th></th>\n",
       "      <th>Job</th>\n",
       "      <th>Age</th>\n",
       "    </tr>\n",
       "  </thead>\n",
       "  <tbody>\n",
       "    <tr>\n",
       "      <th>Homer</th>\n",
       "      <td>A</td>\n",
       "      <td>40</td>\n",
       "    </tr>\n",
       "    <tr>\n",
       "      <th>Bard</th>\n",
       "      <td>B</td>\n",
       "      <td>40</td>\n",
       "    </tr>\n",
       "    <tr>\n",
       "      <th>Marge</th>\n",
       "      <td>c</td>\n",
       "      <td>10</td>\n",
       "    </tr>\n",
       "  </tbody>\n",
       "</table>\n",
       "</div>"
      ],
      "text/plain": [
       "      Job Age\n",
       "Homer   A  40\n",
       "Bard    B  40\n",
       "Marge   c  10"
      ]
     },
     "execution_count": 88,
     "metadata": {},
     "output_type": "execute_result"
    }
   ],
   "source": [
    "cartoon.loc[\"Simpson\"]"
   ]
  },
  {
   "cell_type": "code",
   "execution_count": 92,
   "id": "81d010df",
   "metadata": {
    "scrolled": false
   },
   "outputs": [
    {
     "data": {
      "text/plain": [
       "Job     A\n",
       "Age    40\n",
       "Name: (Simpson, Homer), dtype: object"
      ]
     },
     "execution_count": 92,
     "metadata": {},
     "output_type": "execute_result"
    }
   ],
   "source": [
    "cartoon.loc[\"Simpson\",\"Homer\"] "
   ]
  },
  {
   "cell_type": "markdown",
   "id": "8d099380",
   "metadata": {},
   "source": [
    "cartoon.loc[\"Simpson\",\"Homer\"] == cartoon.loc[\"Simpson\"].loc[\"Homer\"]"
   ]
  },
  {
   "cell_type": "code",
   "execution_count": 93,
   "id": "918ddd88",
   "metadata": {},
   "outputs": [
    {
     "data": {
      "text/plain": [
       "Job     A\n",
       "Age    40\n",
       "Name: Homer, dtype: object"
      ]
     },
     "execution_count": 93,
     "metadata": {},
     "output_type": "execute_result"
    }
   ],
   "source": [
    "cartoon.loc[\"Simpson\"].loc[\"Homer\"]"
   ]
  },
  {
   "cell_type": "code",
   "execution_count": null,
   "id": "b3cb77c9",
   "metadata": {},
   "outputs": [],
   "source": []
  }
 ],
 "metadata": {
  "kernelspec": {
   "display_name": "Python 3",
   "language": "python",
   "name": "python3"
  },
  "language_info": {
   "codemirror_mode": {
    "name": "ipython",
    "version": 3
   },
   "file_extension": ".py",
   "mimetype": "text/x-python",
   "name": "python",
   "nbconvert_exporter": "python",
   "pygments_lexer": "ipython3",
   "version": "3.8.8"
  }
 },
 "nbformat": 4,
 "nbformat_minor": 5
}
