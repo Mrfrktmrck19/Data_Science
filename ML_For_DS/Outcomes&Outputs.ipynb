{
  "nbformat": 4,
  "nbformat_minor": 0,
  "metadata": {
    "colab": {
      "provenance": [],
      "authorship_tag": "ABX9TyPbVIi63pV/su7XZoaaLezS",
      "include_colab_link": true
    },
    "kernelspec": {
      "name": "python3",
      "display_name": "Python 3"
    },
    "language_info": {
      "name": "python"
    }
  },
  "cells": [
    {
      "cell_type": "markdown",
      "metadata": {
        "id": "view-in-github",
        "colab_type": "text"
      },
      "source": [
        "<a href=\"https://colab.research.google.com/github/Mrfrktmrck19/Data_Science/blob/master/ML_For_DS/Outcomes%26Outputs.ipynb\" target=\"_parent\"><img src=\"https://colab.research.google.com/assets/colab-badge.svg\" alt=\"Open In Colab\"/></a>"
      ]
    },
    {
      "cell_type": "markdown",
      "source": [
        "Bağlamı doğru anlamak için basit bir örnekle başlayalım. Billy'nin 5. doğum günü olduğunu düşünün. Yerel bir pastaneye gidiyorsunuz ve parti sabahı için Örümcek Adam temalı bir pasta sipariş ediyorsunuz.\n",
        "\n",
        "Bir grup insana bu işlemin sonucunu sorsam, çoğu kişi sonucun doğum günü pastası olduğunu söyleyecektir. Bu doğru değildir.\n",
        "\n",
        "Bunun sonucu mutlu bir doğum günü çocuğu ve bir grup mutlu, pasta dolu 5 yaşındaki çocuk olacaktır. Pastanın kendisi, fırın tarafından sağlanan çıktıdır. Pasta lezzetli olmasaydı ya da fırın istenen Örümcek Adam yerine peri temalı bir pasta getirseydi, o zaman istenen sonuç -mutlu çocuklar- büyük olasılıkla elde edilemeyecekti.\n"
      ],
      "metadata": {
        "id": "oXT73qci7gh0"
      }
    },
    {
      "cell_type": "markdown",
      "source": [
        "## İş Sonuçlarının (Outcome) ve Çıktılarının (Output) Tanımlanması"
      ],
      "metadata": {
        "id": "TP9C_eaj9Ewd"
      }
    },
    {
      "cell_type": "markdown",
      "source": [
        "Olaya iş, yani business, açısından bakıldığında verilebilecek tanımlamalar:\n",
        "* **Sonuç:** işin bizden beklediği, istediği ya da başarılmasına ihtiyaç duyulan nihai durum.\n",
        "* **Çıktı:** Çıktılar, sonuçların oluşmasında katkıda bulunan etkiler, olaylar ya da nesnelerdir.\n",
        "<br><br>\n",
        "İş hayatından örnekle: istenilen sonuç, müşteri memnuniyeti ise çıktıalrda bu memnuniyeti yerine getirmede kullanılan nesneler ya da olaylardır. Hızlı Kargo Teslim Uygulaması, Online Sipariş Sistemi... Bu uygulamalar, müşteri memnniyetine hizmet etmiş oluyor, dolayısıyla sonuca.\n",
        "<br><br>\n",
        "İş dünyasında genellikle sonuçlar, sizin müşterlerinizin sizin sunduğunuz uygulamalardan elde edeceği faydalar olarak belirlenir. Çıktılarda bu uygulamalar olur."
      ],
      "metadata": {
        "id": "xY8R7OWz9z0q"
      }
    },
    {
      "cell_type": "code",
      "source": [
        " "
      ],
      "metadata": {
        "id": "gp_0pC_69DkO"
      },
      "execution_count": null,
      "outputs": []
    }
  ]
}