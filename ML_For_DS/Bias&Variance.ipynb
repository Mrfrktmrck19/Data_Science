{
  "nbformat": 4,
  "nbformat_minor": 0,
  "metadata": {
    "colab": {
      "provenance": [],
      "authorship_tag": "ABX9TyOv5px0Fxt5723+IsYtUVYs",
      "include_colab_link": true
    },
    "kernelspec": {
      "name": "python3",
      "display_name": "Python 3"
    },
    "language_info": {
      "name": "python"
    }
  },
  "cells": [
    {
      "cell_type": "markdown",
      "metadata": {
        "id": "view-in-github",
        "colab_type": "text"
      },
      "source": [
        "<a href=\"https://colab.research.google.com/github/Mrfrktmrck19/Data_Science/blob/master/ML_For_DS/Bias%26Variance.ipynb\" target=\"_parent\"><img src=\"https://colab.research.google.com/assets/colab-badge.svg\" alt=\"Open In Colab\"/></a>"
      ]
    },
    {
      "cell_type": "markdown",
      "source": [
        "# BIAS & VARIANCE (Around the Overfitting and Underfitting)"
      ],
      "metadata": {
        "id": "mw6nXCghVMYq"
      }
    },
    {
      "cell_type": "markdown",
      "source": [
        "Black Box (*Explainability & Interpretability*) - Output (*Çıktı*) & (*Outcome*) konuları, bu makaleye giriş için gereklidir. \n",
        "\n",
        "Bir ML modeli Black Box olmamalıdır. Hangi feature'ın sonucu ne kadar etkilediği ve neden - sonuç ilişkisinin kurulabildiği bir model, kurumların ve firmaların istediği bir türdür. Black Box'ı engellemenin yollarından biride sahip olduğun veri setini iyi anlama yani eğilimlerini, dağılımını ve ileride göreceğimiz ve makalenin de asıl konusu olan bias (ön yargı/yanlılık) ile variance (varyans) inceleme. \n",
        "\n",
        "Bias & variance sadece Black Box'ın önüne geçmede değil, over/under fitting gibi bir kaç alanda daha da kullanılır. Ne işe yarıyorsun kısa cevabı ise veri setinin durumunu/eğilimini anlama diyebiliriz. Bir Data Scientist içinse kısa bir açıklama tabiiki yetmez :) Gelin uzun olmayan, gayet açıklayıcı, gereksiz laf kalabalığına girmeden hem yeni başlayan biri hem de uzman olupta tekrar etmek isteyenler için konuyu ele alalım."
      ],
      "metadata": {
        "id": "ToNh0TLJVYsS"
      }
    },
    {
      "cell_type": "markdown",
      "source": [
        "## Makine Öğrenmesi'nde Bias(Ön Yargı/Yanlılık) Nedir"
      ],
      "metadata": {
        "id": "BMHj8v-AclGN"
      }
    },
    {
      "cell_type": "markdown",
      "source": [
        "**Bias, bir fikrin lehine veya aleyhine göre algoritmanın sonucunun çarptırılması (skewness) durumudur.**\n",
        "\n",
        "Genel açıdan bakarsak veri bilimciler ve makine öğrenmesi mühendisleri bir duruma göre YANLILIK istemez. Sonucun bağımsız olmasını, modelin herhangi bir yöne eğiliminin olamamsını yani tarasız olamsını isteriz. Bir hakimin, bir mahkumun lehinde düşünüp duruşma salonuna girmesini hangi otorite ister ya da hakimin sürekli davalıların akeyhinde duruşmaya yaklaşmasını? Bu hakime yanlış fikirler elde edinmesine ve kararın yanlış bir sonuca bağlanmasını sağlayabilir Yuakrıdaki sosyal hayat örneği gibi iş dünyası örneklerinde de bir modelin ve veri setinin bir yöne eğilimli olmasını istemeyiz.\n",
        "\n",
        "Bias, makine öğrenimi süreçlerinde yanlış varsayımalar (assumption) yüzünden makine öğrenmesi modelinin içerisind meydana gelen bir hata olarak kabul edilir.Bias'i, model tahmini ile gerçek değer arasındaki hata olarak ele alabiliriz. Ayrıca modelin, eğitim veri seti ile ne kadar uyuştuğunu da gösterir.\n",
        "\n",
        "* Bir model yüksek seviyede Bias'e (yanlılık diye çevirmek şimdi daha mantıklı hale gelecek) sahipse, veri seti ile uyum gösteremez. Bunu, derste bir konuda kafası bir yere takılıp sürekli \"böyle olması gerekmiyor muydu\" diyen öğrencinin, öğretmenin anlattığı şeyleri anlamamasına benzetebilirsiniz.\n",
        "* Düşük biasli (ön yargılı/yanlı) modelin ise eğitim veri setine daha ii uyum sağlayabilecektir. Bunu da öğrencinin kafasındaki ön yargılara takılamdan hocanın dediklerini dinleyip anlaması olarak düşünebilirsin.\n",
        "\n",
        "Yüksek Bias'e sahip olan bir model:\n",
        "* Veri setinin eğilimlerini(trend) yakalayamaz.\n",
        "* Underfitting'e (aşşğıda açıklanacak) sebep olur.\n",
        "* Daha genelleştirilmiş, basit cevaplar üretecek. Kredi Riski ML modeli için son derece kötü bir durum.\n",
        "* Test edildiğinde yüksek hata oranı döndürür."
      ],
      "metadata": {
        "id": "P0hjPAifcilR"
      }
    },
    {
      "cell_type": "markdown",
      "source": [
        "## Makine Öğrenmesinde Variance (Varyans) Nedir"
      ],
      "metadata": {
        "id": "zLElY1lucrhU"
      }
    },
    {
      "cell_type": "markdown",
      "source": [
        "**Varyans, eğitim setinin farklı kısımlarını kullanırken modelin ürettiği sonuçlardaki farklılığı ifade eder.**\n",
        "\n",
        "Basitçe, verilen veri setine göre modelin ürettiği sonuçlar arasındaki farklılıklardır. Varyans, genelde fazla feature'a sahip karmaşık modellerde görülür. \n",
        "\n",
        "Bias ile variance arasında ters bir ilişki de vardır:\n",
        "* Bir model eğer yüksek varyansa sahipse, düşük bias'i olur.\n",
        "* Bir model eğer yüksek bias'e sahipse, düşük varyansı olur.\n",
        "\n",
        "Bu konu, modelin esnekliği ile ilgilidir. Yüksek varyans sıkı, ensek olmayan bir modele sebep olurken yüksek bias ise aşırı esnek bir modele sebep olur. Yüksek varyansı, öğretmenin öğrenciye gösterdiği problem çözme tekniğini ezberlemesine benzetebilirsin. Bu öğrenci o çözme yöntemini ezberlediğinde bire bir diğer sorularda çözemeyecektir. Bu sorudan kaynaklı bir hata değildir, öğrencinin sıkı sıkıya o yolu denemesi/ezberlemesiyle ilgilidir.\n",
        "\n",
        "Yüksek varyansa sahip bir model:\n",
        "* Veri setinde gürültü/ kirlilik barındırır.\n",
        "* Overfitting'e (aşşağıda anlatılmıştır) sebep olur.\n",
        "* Model çok karmaşık/komplekstir.\n",
        "* Öğrendiği veri setiyle test edildiğinde başarı oranı yüksek, test veri setiyle test edildiğinde ise başarı oranı düşük olacaktır.\n",
        "\n"
      ],
      "metadata": {
        "id": "Ng-JZcBkc797"
      }
    },
    {
      "cell_type": "markdown",
      "source": [
        "## Overfitting (Aşırı Öğrenme/Ezberleme) & Underfitting (Öğrenememe) Problemleri"
      ],
      "metadata": {
        "id": "78LwXf_ff6_g"
      }
    },
    {
      "cell_type": "markdown",
      "source": [
        "Overfitting ve underfitting kavramları, modelin veri setiyle neden eşleşemediğinin iki göstergesidir. Yani veri setiyle modelimiz eşleşemiyorsa ya underfitting ya da overfitting durumlarından birinden kaynaklandığını ve ele alınması gerektiğini düşünmemiz gerekiyor.\n",
        "\n",
        "* Underfitting, veri modelinin gerektiği kadar karmaşık olamadığı ya da yetersiz eğitim veri setinin olduğu durumlarda ortaya çıkan **veri seti ile modelin eşleşememe durumudur**.\n",
        "* Overfitting, modelin var olmayan verileri eşleştirmeye çalıştırmasıyla ilgilidir. (Burada overfittingin fazla uydurma - fazla uyum olarakta çevirildiğini hatırlatmak isterim). Bu durum, modelin neredeyse tüm veri noktalarıyla eşleşeceği ve eğitim veri kümelerinde iyi performans göstereceği son derece karmaşık modellerle uğraşırken ortaya çıkar. Ancak model, sonucu doğru bir şekilde tahmin etmek için test veri setindeki veri noktasını genelleştiremeyecektir. Eğitim veri setiyle aşırı uyum sağladığı için test verilerini anlayamacak tüde olan bir **veri seti ile modelin eşleşememe durumudur.**\n",
        "\n"
      ],
      "metadata": {
        "id": "_chh6QXogFw_"
      }
    },
    {
      "cell_type": "markdown",
      "source": [
        "## Bias VS Variance"
      ],
      "metadata": {
        "id": "3gtiKa9WjytC"
      }
    },
    {
      "cell_type": "markdown",
      "source": [
        "Daha önceden dediklerimizi birleştirirsek: Bias, underfittinge; variance ise overfittinge sebep oluyor. Ayrıca bias ile variance ters ilişkiliydi bu da bir modelde biri yüksekken diğerinin düşük olması gibi durumlara itiyordu. **Bir modelde bias ve variance ancak ikiside orta değerlerdeyse eş durumda olabilir! İkiside yüksek ya da ikiside alçak olamaz!**"
      ],
      "metadata": {
        "id": "DNK6ZalQj3Gv"
      }
    },
    {
      "cell_type": "markdown",
      "source": [
        "Bir Veri Mühendisi bir veri setinin bir modele daha iyi uymasını sağlamak için modeli modifiye ederken bias düşük olacak şekilde hareket eder. Fakat biasi azaltırken varianceı arttıracaktır. Bu yol, modelin veri setine uyumunu arttıracakken üretilen tahminlerin sonucunun doğruluğunu azaltacaktır.\n",
        "\n",
        "Benzer durum variance arttırılıp bias azaltılırkende yaşanacaktır. Modelin sonuçları doğru bulma olasılığını arttırmak için biasi arttırdığımızda bu seferde model giderek genelleştirilmiş, basit cevaplar üretecek, daha da sonrası model veri setiyle uyuşamayıp yanlış tahminler yapacaktır.\n",
        "\n",
        "Bias ve variance arasında önemli bir denge var. Fakat bilinmesi gereken önemli bir konu da var: Yüksek variancea sahip olan bir model, her zaman için kötü bir model değildir. ML algoitmaları bazı farklılıklar işleyebilmelidir.\n",
        "\n",
        "* Modelin karmaşıklğını arttırmak çözüm için çokta iyi değildir. Bu yol, biasi azaltırken varyansı arttırır ve sonuçların yanlış çıkma olasılığını arttırır.\n",
        "* Eğitim veri setini arttırmak ise iyi bir çözümdür. Böylelikle hem modelin karmaşıklığı daha doğal artmış olur hem de bias ve variance dengesi sağlanabilir. Hem variance arttırlmadığı için hatalı sonuçlar dönmez hem de bias arttırılmadığı için veri seti ile model daha iyi eşleşebilir.\n",
        "\n",
        "Büyük veri setleri, algoritmanın verileri genelleştirmesi için daha fazla veri nokası sunar. Bununla birlikte, işlem veri setinin artırılmasıyla ilgili en önemli sorun, yetersiz uyum veya düşük yanlılık modellerinin eğitim veri setine o kadar da duyarlı olmamasıdır. Bu nedenle, yüksek varyanslı ve yüksek önyargılı modellerle başa çıkmak söz konusu olduğunda veri artırmak tercih edilen çözümdür."
      ],
      "metadata": {
        "id": "Yhq7_gcDzlne"
      }
    },
    {
      "cell_type": "markdown",
      "source": [
        "Yaygin olarak kullanilan algoritmaların davranışları:\n",
        "\n",
        "* Linear Regression: Yüksek Bias, Düşük Variance => Underfitting \n",
        "* Decision Tree: Düşük Bias, Yüksek Variance => Overfitting\n",
        "* Bagging: Düşük Bias, Yüksek Variance => Underfitting (Decision Tree'den daha turarlı)\n",
        "* Rondem Forest: Düşük Bias, Yüksek Variance => Overfitting (Decision Tree ve Bagging'den daha tutarlı.)\n",
        "\n"
      ],
      "metadata": {
        "id": "pBUJVfoR3PPv"
      }
    },
    {
      "cell_type": "markdown",
      "source": [
        "## Özet"
      ],
      "metadata": {
        "id": "KcmAVk7T46yf"
      }
    },
    {
      "cell_type": "markdown",
      "source": [
        "Bias, ML modelinde tutarlı hatalar yaratır ve bu da belirli bir gereksinim için uygun olmayan daha basit bir ML modelini temsil eder.\n",
        "\n",
        "Öte yandan varyans, var olmayan eğilimleri veya veri noktalarını görerek yanlış tahminlere yol açan varyans hataları yaratır.\n"
      ],
      "metadata": {
        "id": "0TT3HZXf4-Im"
      }
    },
    {
      "cell_type": "markdown",
      "source": [
        "Kaynakça: https://www.bmc.com/blogs/bias-variance-machine-learning/#:~:text=What%20is%20bias%20in%20machine,assumptions%20in%20the%20ML%20process."
      ],
      "metadata": {
        "id": "RZGXTQLr5ZB4"
      }
    },
    {
      "cell_type": "code",
      "source": [],
      "metadata": {
        "id": "buRzm_wnVviy"
      },
      "execution_count": null,
      "outputs": []
    }
  ]
}