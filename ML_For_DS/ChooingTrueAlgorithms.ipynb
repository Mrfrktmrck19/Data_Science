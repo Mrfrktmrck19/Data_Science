{
  "nbformat": 4,
  "nbformat_minor": 0,
  "metadata": {
    "colab": {
      "provenance": [],
      "authorship_tag": "ABX9TyNftlYzbxdsUEmwcqidysZE",
      "include_colab_link": true
    },
    "kernelspec": {
      "name": "python3",
      "display_name": "Python 3"
    },
    "language_info": {
      "name": "python"
    }
  },
  "cells": [
    {
      "cell_type": "markdown",
      "metadata": {
        "id": "view-in-github",
        "colab_type": "text"
      },
      "source": [
        "<a href=\"https://colab.research.google.com/github/Mrfrktmrck19/Data_Science/blob/master/ML_For_DS/ChooingTrueAlgorithms.ipynb\" target=\"_parent\"><img src=\"https://colab.research.google.com/assets/colab-badge.svg\" alt=\"Open In Colab\"/></a>"
      ]
    },
    {
      "cell_type": "markdown",
      "source": [
        "# Bir Proe için Doğru ML Algoritması Seçimi\n",
        "\n"
      ],
      "metadata": {
        "id": "rqG_eJKOxZYx"
      }
    },
    {
      "cell_type": "markdown",
      "source": [
        "Farklı türdeki ML algoritmalarını öğrenmek, projen için doğru ML algoritmasını seçmene tek başına yardımcı olmayacaktır. Doğru algoritmayı seçmek için gerekenleri aşşağıda beş farklı başlıkta ele alacağız.\n",
        "\n",
        "Önemli Not: Bu yazıda, temel Öğrenme Algoritmaları olan Supervised - Unsupervised - Reinforcment öğrenme algoritmaları ve alt başlıkları hakkında kıyaslama yapılmıştır. SPM, KNN, ANN gibi öğrenme algortmaları tekniklerine girilmemiştir."
      ],
      "metadata": {
        "id": "KeSBC782xqLK"
      }
    },
    {
      "cell_type": "markdown",
      "source": [
        "## 1. Projenin Hedefini/Amacını Anlamak"
      ],
      "metadata": {
        "id": "PWORhz0ryrig"
      }
    },
    {
      "cell_type": "markdown",
      "source": [
        "Her öğrenme algoritmasının belli görevler üzerinde uzmanlaştığını zaten görmüştük. Bu yüzden seninde ilk başta, çözmeye çalıştığın projeni iyi anlaman gerekiyor.\n",
        "<br><br>\n",
        "Ne tür bir çıktıya (output) ihtiyacın var? Geçmiş veriler üzerinde tahmin yapmak için mi bir algoritma istiyorsu? O zaman en mantıklısı SUpervised Forecasting Algoritmaları.\n",
        "<br><br>\n",
        "Düşük çözünürlülükte bile resim tanıma (image recognation) yapabilen bir model mi geliştirmek istiyorsun? O zaman Boyutsal Azaltma (Dimensionalty Reduction) ile Sınıflandırma (classification) algoritmalarını kombine edip kullan. Evet farklı algoritmaları kombine edip kllanabiliyorsun.\n",
        "<br><br>\n",
        "Modeline yeni satranç, dama, go gibi yeni bir oyun mu öğretmek istiyorsun? O zaman Pekiştirmeli Öğrenme (Reinforcement Learning) algoritmasına yönelmelisin.\n",
        "<br><br>\n",
        "Gördüğün üzere, öğrenme algoritmaları belirli görevler için ortya çıkmış. Sende proje çıktılarınıi proje kapsamını iyi anlarsan hangi başlıkları kullanman gerektiğine karar vereblirsin."
      ],
      "metadata": {
        "id": "FgfuhnmMywpn"
      }
    },
    {
      "cell_type": "markdown",
      "source": [
        "## 2. Elinizdeki Verileri Boyutuna, İşlenmesine ve Etiketlenme Gereksinimine Göre Analiz Edin"
      ],
      "metadata": {
        "id": "ez-6P_hB08nf"
      }
    },
    {
      "cell_type": "markdown",
      "source": [
        "Ne tür bir çıktı istiyoruz sorusunu cevapladığımızda, elimizdeki veri setinin nasıl olduğunu sormaya başlamamız gerekir.\n",
        "<br><br>\n",
        "Elimdeki veri nasıl? Ham veri mi(raw data), işlenmesi gerekiyor mu? Yanlı mı (bias), kirli mi (dirty) ve yapılandırılmamış mı(unstructed)? Ya da elimizde etiketlenmiş büyük bir veri seti mi var? Elimizde yeterli veri varmı ya da (hatta sıfırdan) veri toplamamız gerekiyor mı? Verilerinizi eğitim için önişlemeye tutmanız gerekiyor mu ya da şu anda başlamaya hazır mısınız?\n",
        "<br><br>\n",
        "Yetersiz, düşük kaliteli, yapılandırılmamış veriler büyük Denetimli Öğrenme projeleri için kötü seçimdir. Eğer vaktiniz varsa bunları önişleme tutmalı, yoksa da Denetimsiz Öğrenme'ye yönelmelisiniz. Fakat Denetimsiz Öğrenmenin kısıtları unutulmamalı."
      ],
      "metadata": {
        "id": "KsaLJGmp1jDW"
      }
    },
    {
      "cell_type": "markdown",
      "source": [
        "## 3. Öğrenme Zamanı ve Hızını Değerlendirin"
      ],
      "metadata": {
        "id": "eYx3d22x3gai"
      }
    },
    {
      "cell_type": "markdown",
      "source": [
        "Zaman kısıtınızı iyi değerlendirmeli ve projenizdeki öğrenme türü iyi seçilmelidir."
      ],
      "metadata": {
        "id": "-8qafjF-3mRR"
      }
    },
    {
      "cell_type": "markdown",
      "source": [
        "## 4. Verinizin Doğrusallığını Anlayın"
      ],
      "metadata": {
        "id": "EVg10fyM4Da5"
      }
    },
    {
      "cell_type": "markdown",
      "source": [
        "Eğer elinizdeki veriler doğrusal/Lineer ise, Doğrusal Algoritmalara yönelmek daha mantıklıdır. Çünkü Lineer Algoritmalar, anlaışması kolay (Black Box Kavramına başka bir yazıda değindim) ve eğitimi hızlıdır.\n",
        "<br><br>\n",
        "Ancak elinzideki veri çok yönlü, çok boyutlu, komplex ve çok fazla kesişen korelasyona sahipse Lineer Algoritmalar etkili bir çözüm sunamaz."
      ],
      "metadata": {
        "id": "Ow4eIwwx4WjB"
      }
    },
    {
      "cell_type": "markdown",
      "source": [
        "## 5. Kullanlacak Parametre Ve Özellik Sayısına Karar Verin"
      ],
      "metadata": {
        "id": "JeC_9FXL5A-b"
      }
    },
    {
      "cell_type": "markdown",
      "source": [
        "AI modelin ne kadar komplex ve ne kadar kesin olmalı? Uzun süre eğitilen modeller genellikle daha kesin ve doğru sonuçlar verir (overfitingi bir kenara bırakırsak). Zamanınız yoksa, ilişkisi az olan özellikleri çıkartmak faydalı olacaktır. Ancak algortimanın anlaşılabilmesi için uzun eğitim süresi, fazlaca parametre ve özellik daha eklemek, anlaşıması ve yorumlanamsını daha kolay bir hale getirecektir."
      ],
      "metadata": {
        "id": "SF0d_Xct52IU"
      }
    },
    {
      "cell_type": "markdown",
      "source": [
        "Your input (the data: is it collected/sufficient/processed/annotated?)\n",
        "Your output (what goal do you pursue?)\n",
        "Your field of study (how linear or complex the data is?)\n",
        "Your limitations (can you spare time and resources?)\n",
        "Your preferences (what features do you absolutely need for success?)\n",
        "Doğru ML modelinin seçimi aslında zor bir konudur. Özellikle de bu alanda fazla deneyimi olmayanlar için. Fakat öğrenme algoritmalarının hangi görevler için tasarlandıklarını bilmek ve kendi projeni iyi anlamak, sana doğru algoritmayı seçmende yardımcı olacaktır. Konu başlıkları hakkında mümkün olduğunca çok şey açıklamaya çalışın:\n",
        "* Sahip olduğun veri (yeterli mi, işlenmişmi, etiketli mi)\n",
        "* Ne tür bir çıktı istiyorsun\n",
        "* Lineer mi yoksa komplex verilerin olduğu bir çalışma alanın mı var\n",
        "* Sınırların, kısıtlamalrın neler (zaman ve kaynak ayırabiiyor musun)\n",
        "* Önceliklerin neler (Gerçekten hangi özelliklere/featurelara) ihtiyacın var"
      ],
      "metadata": {
        "id": "xUz_HZwf583W"
      }
    },
    {
      "cell_type": "code",
      "source": [],
      "metadata": {
        "id": "fOwQz8faxl7W"
      },
      "execution_count": null,
      "outputs": []
    }
  ]
}