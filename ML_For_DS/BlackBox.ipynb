{
  "nbformat": 4,
  "nbformat_minor": 0,
  "metadata": {
    "colab": {
      "provenance": [],
      "authorship_tag": "ABX9TyM5v4UZNuoZrgRwriYFwulp",
      "include_colab_link": true
    },
    "kernelspec": {
      "name": "python3",
      "display_name": "Python 3"
    },
    "language_info": {
      "name": "python"
    }
  },
  "cells": [
    {
      "cell_type": "markdown",
      "metadata": {
        "id": "view-in-github",
        "colab_type": "text"
      },
      "source": [
        "<a href=\"https://colab.research.google.com/github/Mrfrktmrck19/Data_Science/blob/master/ML_For_DS/BlackBox.ipynb\" target=\"_parent\"><img src=\"https://colab.research.google.com/assets/colab-badge.svg\" alt=\"Open In Colab\"/></a>"
      ]
    },
    {
      "cell_type": "markdown",
      "source": [
        "# Makine Öğrenmesinin Kapalı Kutusu: Yorumlanabilirlik (Interpretability) ve Açıklanabilirlik (Explainability)"
      ],
      "metadata": {
        "id": "ntcOODiOBTSB"
      }
    },
    {
      "cell_type": "markdown",
      "source": [
        "Interpretability yani yorumlanabilirlik, bir Makine Öğrenmesi Modeli'nin ne kadar kesinlik/doğruluk ile bir sonucu bir sebeble ilişkilendirebildiğidir.\n",
        "\n",
        "Explainability yani Açıklanabilirlik ise, genellikle Derin Ağlarda gizli olan parametrelerin sonuçları gerekçelendirme kabiliyeti ile ilgilidir.\n",
        "\n",
        "Bu makalede şu konuları kavrayacağız:\n",
        "* Yorumlanabilirlik, Açıklanabilirlikten ne kadar farklıdır\n",
        "* Neden bir modelin Açıklanabilir ve/ya da Yorumlanabilir olması gerekebilir\n",
        "* Black Box sorununu kim ve nasıl çözer/çözülür.\n",
        "\n",
        "Yorumlanabilirlik: Bir makine öğrenimi modelinin nedeni ve sonucu belirleme becerisi <br>\n",
        "Açıklanabilirlik: Bir düğümün ne temsil ettiği ve onun model performansına etkisi/önemi."
      ],
      "metadata": {
        "id": "GwK0vH-jRJIC"
      }
    },
    {
      "cell_type": "markdown",
      "source": [
        "## Yorumlanabilirlik Nedir"
      ],
      "metadata": {
        "id": "LBizmOeLUbJ3"
      }
    },
    {
      "cell_type": "markdown",
      "source": [
        "Kadınlar erkeklerden daha az mı stresli? Yüksek ses sağırlığı hızlandıır mı? Eğer bir Makine Öğrenimi Modeli bu ilişkiler etrafında bir model oluşturabiliyorsa yorumlanabilirdir.\n",
        "<br>\n",
        "Daha öncedende bahsedildiği gibi, neden ve sonuç arasında bir ilişki kurma yeteneğidir. Yüksek yorumlanabilirlik her zaman gerekli değildir. Örneğin bir insana X filmi izlediyse Y filmini de seveceğini düşünüp önermek; seçim sonuçlarının açıklanabilirliği kadar önemli değildir. Muhafazakaların oranı fazla ise sağ eğilimli partilerin daha fazla oy alacağı tahmin edilir, işte bu gibi örnekler açıklanabilirliğin yüksek olması gereken durumlardır.\n"
      ],
      "metadata": {
        "id": "raJYjep-VaKX"
      }
    },
    {
      "cell_type": "markdown",
      "source": [
        "## Açıklanabilirlik Nedir?"
      ],
      "metadata": {
        "id": "3FOL2EVKNzjX"
      }
    },
    {
      "cell_type": "markdown",
      "source": [
        "Bir veri seti düşünelim, Sonucunda diyabet olup olmadığımızı döndüren. Featurelarıda yaş, vücut kitle indexi, ne kadardır sigara içtiği, hayatındaki stres düzeyi... Bir Feature'ın sonucu ne kadar etkiledği-ne kadar önemli olduğu- korelasyonunun ne olduğunu- söylemesidir açıklanabilirlik.\n",
        "<br><br>\n",
        "BMI, diyabet olmasıyla %40 ilişkili, yaş %30 ilişkili gibi cümleler açıklanabilirlik örnekleridir. Çünkü birer, sonucu etkileyen featureların oranlarıdır.\n",
        "<br><br>\n",
        "ML modellerin en büyük sorunu Black Box olması. Bunun sebebi; boş parametrelere daha önceden ayarlanan değerlerin atılmasını sağlayan ML algoritmalarıdır. Örnek olarakta meşhur BackPropagation Algoritmasının Error Fonksiyonu."
      ],
      "metadata": {
        "id": "8B4TzHx6N4Pn"
      }
    },
    {
      "cell_type": "markdown",
      "source": [
        "Kaynakça: https://www.bmc.com/blogs/machine-learning-interpretability-vs-explainability/"
      ],
      "metadata": {
        "id": "apWkv3Y1BQFp"
      }
    }
  ]
}