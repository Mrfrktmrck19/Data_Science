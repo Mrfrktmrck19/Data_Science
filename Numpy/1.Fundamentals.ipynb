{
 "cells": [
  {
   "cell_type": "markdown",
   "id": "189f1b76",
   "metadata": {},
   "source": [
    "# Numpy"
   ]
  },
  {
   "cell_type": "markdown",
   "id": "3eff94a6",
   "metadata": {},
   "source": [
    "This lesson we are gonna study Numpy library for Data Analysis and Data Science"
   ]
  },
  {
   "cell_type": "code",
   "execution_count": 1,
   "id": "dbc35476",
   "metadata": {},
   "outputs": [],
   "source": [
    "import numpy as np"
   ]
  },
  {
   "cell_type": "markdown",
   "id": "50a94d5a",
   "metadata": {},
   "source": [
    "### numpy array"
   ]
  },
  {
   "cell_type": "code",
   "execution_count": 8,
   "id": "f02362d3",
   "metadata": {},
   "outputs": [
    {
     "name": "stdout",
     "output_type": "stream",
     "text": [
      "<class 'list'>\n",
      "[0, 1, 2, 3, 4, 5, 6, 7, 8, 9]\n"
     ]
    }
   ],
   "source": [
    "myList = list(range(10))\n",
    "print(type(myList))\n",
    "print(myList)"
   ]
  },
  {
   "cell_type": "code",
   "execution_count": null,
   "id": "4af99a7b",
   "metadata": {},
   "outputs": [],
   "source": []
  }
 ],
 "metadata": {
  "kernelspec": {
   "display_name": "Python 3",
   "language": "python",
   "name": "python3"
  },
  "language_info": {
   "codemirror_mode": {
    "name": "ipython",
    "version": 3
   },
   "file_extension": ".py",
   "mimetype": "text/x-python",
   "name": "python",
   "nbconvert_exporter": "python",
   "pygments_lexer": "ipython3",
   "version": "3.8.8"
  }
 },
 "nbformat": 4,
 "nbformat_minor": 5
}
