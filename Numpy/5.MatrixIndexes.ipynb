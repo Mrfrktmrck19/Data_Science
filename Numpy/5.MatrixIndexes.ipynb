{
 "cells": [
  {
   "cell_type": "markdown",
   "id": "e81d5c6e",
   "metadata": {},
   "source": [
    "# Matrix Indexes"
   ]
  },
  {
   "cell_type": "code",
   "execution_count": 1,
   "id": "bec5d14b",
   "metadata": {},
   "outputs": [],
   "source": [
    "import numpy as np"
   ]
  },
  {
   "cell_type": "code",
   "execution_count": 2,
   "id": "cb9c17fe",
   "metadata": {},
   "outputs": [],
   "source": [
    "myMatrix = [[1,2,3],[4,5,6],[7,8,9]]\n",
    "myNumpyMatrix = np.array(myMatrix)"
   ]
  },
  {
   "cell_type": "code",
   "execution_count": 3,
   "id": "c73fc2a6",
   "metadata": {},
   "outputs": [
    {
     "data": {
      "text/plain": [
       "array([[1, 2, 3],\n",
       "       [4, 5, 6],\n",
       "       [7, 8, 9]])"
      ]
     },
     "execution_count": 3,
     "metadata": {},
     "output_type": "execute_result"
    }
   ],
   "source": [
    "myNumpyMatrix"
   ]
  },
  {
   "cell_type": "code",
   "execution_count": 4,
   "id": "a4de1d00",
   "metadata": {},
   "outputs": [
    {
     "data": {
      "text/plain": [
       "array([1, 2, 3])"
      ]
     },
     "execution_count": 4,
     "metadata": {},
     "output_type": "execute_result"
    }
   ],
   "source": [
    "myNumpyMatrix[0]  ##row"
   ]
  },
  {
   "cell_type": "code",
   "execution_count": 5,
   "id": "ec5720f7",
   "metadata": {},
   "outputs": [
    {
     "data": {
      "text/plain": [
       "2"
      ]
     },
     "execution_count": 5,
     "metadata": {},
     "output_type": "execute_result"
    }
   ],
   "source": [
    "myNumpyMatrix[0][1]  ##row,coll"
   ]
  },
  {
   "cell_type": "markdown",
   "id": "92e9a2b5",
   "metadata": {},
   "source": [
    "Note: myNumpyMatrix[0][1] == myNumpyMatrix[0,1]"
   ]
  },
  {
   "cell_type": "code",
   "execution_count": 8,
   "id": "05cc5fb9",
   "metadata": {},
   "outputs": [
    {
     "data": {
      "text/plain": [
       "array([6, 9])"
      ]
     },
     "execution_count": 8,
     "metadata": {},
     "output_type": "execute_result"
    }
   ],
   "source": [
    "myNumpyMatrix[1:,2]   "
   ]
  },
  {
   "cell_type": "code",
   "execution_count": 7,
   "id": "48fb8d5c",
   "metadata": {},
   "outputs": [
    {
     "data": {
      "text/plain": [
       "array([5, 6])"
      ]
     },
     "execution_count": 7,
     "metadata": {},
     "output_type": "execute_result"
    }
   ],
   "source": [
    "myNumpyMatrix[1,1:]"
   ]
  },
  {
   "cell_type": "code",
   "execution_count": 10,
   "id": "c3fc3ab4",
   "metadata": {},
   "outputs": [
    {
     "data": {
      "text/plain": [
       "array([4, 5])"
      ]
     },
     "execution_count": 10,
     "metadata": {},
     "output_type": "execute_result"
    }
   ],
   "source": [
    "myNumpyMatrix[1,:2]         #not include finish index"
   ]
  },
  {
   "cell_type": "code",
   "execution_count": 11,
   "id": "a80e1a2b",
   "metadata": {},
   "outputs": [],
   "source": [
    "myMatrix2 = [[0,1,2,3,4],[5,6,7,8,9],[10,11,12,13,14],[15,16,17,18,19],[20,21,22,23,24]]\n",
    "MyNumpyMatrix2 = np.array(myMatrix2)"
   ]
  },
  {
   "cell_type": "code",
   "execution_count": 13,
   "id": "9b2a2e85",
   "metadata": {},
   "outputs": [
    {
     "data": {
      "text/plain": [
       "array([[ 0,  1,  2,  3,  4],\n",
       "       [ 5,  6,  7,  8,  9],\n",
       "       [10, 11, 12, 13, 14],\n",
       "       [15, 16, 17, 18, 19],\n",
       "       [20, 21, 22, 23, 24]])"
      ]
     },
     "execution_count": 13,
     "metadata": {},
     "output_type": "execute_result"
    }
   ],
   "source": [
    "MyNumpyMatrix2"
   ]
  },
  {
   "cell_type": "code",
   "execution_count": 14,
   "id": "b7e42f16",
   "metadata": {},
   "outputs": [
    {
     "data": {
      "text/plain": [
       "array([[ 0,  1,  2,  3,  4],\n",
       "       [10, 11, 12, 13, 14],\n",
       "       [20, 21, 22, 23, 24]])"
      ]
     },
     "execution_count": 14,
     "metadata": {},
     "output_type": "execute_result"
    }
   ],
   "source": [
    "MyNumpyMatrix2[[0,2,4]]    ##0.2.4. rows, "
   ]
  }
 ],
 "metadata": {
  "kernelspec": {
   "display_name": "Python 3",
   "language": "python",
   "name": "python3"
  },
  "language_info": {
   "codemirror_mode": {
    "name": "ipython",
    "version": 3
   },
   "file_extension": ".py",
   "mimetype": "text/x-python",
   "name": "python",
   "nbconvert_exporter": "python",
   "pygments_lexer": "ipython3",
   "version": "3.8.8"
  }
 },
 "nbformat": 4,
 "nbformat_minor": 5
}
