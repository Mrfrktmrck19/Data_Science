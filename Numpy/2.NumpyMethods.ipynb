{
 "cells": [
  {
   "cell_type": "markdown",
   "id": "6ea11b15",
   "metadata": {},
   "source": [
    "# Numpy Methods"
   ]
  },
  {
   "cell_type": "markdown",
   "id": "d6cb2c44",
   "metadata": {},
   "source": [
    "### 1. arange"
   ]
  },
  {
   "cell_type": "code",
   "execution_count": 2,
   "id": "d31399c1",
   "metadata": {},
   "outputs": [],
   "source": [
    "import numpy as np"
   ]
  },
  {
   "cell_type": "code",
   "execution_count": 4,
   "id": "1abe2b72",
   "metadata": {},
   "outputs": [
    {
     "name": "stdout",
     "output_type": "stream",
     "text": [
      "<class 'numpy.ndarray'>\n",
      "[0 1 2 3 4 5 6 7 8 9]\n"
     ]
    }
   ],
   "source": [
    "myNumpyList = np.arange(0,10)\n",
    "print(type(myNumpyList))\n",
    "print(myNumpyList)"
   ]
  },
  {
   "cell_type": "code",
   "execution_count": 7,
   "id": "9b47e5f6",
   "metadata": {},
   "outputs": [
    {
     "name": "stdout",
     "output_type": "stream",
     "text": [
      "<class 'numpy.ndarray'>\n",
      "[0 2 4 6 8]\n"
     ]
    }
   ],
   "source": [
    "myNumpyList = np.arange(0,10,2) ##two-steps\n",
    "print(type(myNumpyList))\n",
    "print(myNumpyList)"
   ]
  },
  {
   "cell_type": "markdown",
   "id": "685fc04d",
   "metadata": {},
   "source": [
    "### 2.zeros"
   ]
  },
  {
   "cell_type": "markdown",
   "id": "f64dd228",
   "metadata": {},
   "source": [
    "it just makes an array that consist of zeros."
   ]
  },
  {
   "cell_type": "code",
   "execution_count": 11,
   "id": "0fe684cc",
   "metadata": {},
   "outputs": [
    {
     "name": "stdout",
     "output_type": "stream",
     "text": [
      "<class 'numpy.ndarray'>\n",
      "[0. 0. 0. 0. 0.]\n"
     ]
    }
   ],
   "source": [
    "myNumpyList = np.zeros(5)  ##Parameter = how many zeros do u want\n",
    "print(type(myNumpyList))\n",
    "print(myNumpyList)"
   ]
  },
  {
   "cell_type": "code",
   "execution_count": 12,
   "id": "6164bd47",
   "metadata": {},
   "outputs": [
    {
     "name": "stdout",
     "output_type": "stream",
     "text": [
      "<class 'numpy.ndarray'>\n",
      "[[0. 0.]\n",
      " [0. 0.]]\n"
     ]
    }
   ],
   "source": [
    "myNumpyList = np.zeros((2,2))  ## a two by two matrix\n",
    "print(type(myNumpyList))\n",
    "print(myNumpyList)"
   ]
  },
  {
   "cell_type": "markdown",
   "id": "ede297b9",
   "metadata": {},
   "source": [
    "### 3.ones"
   ]
  },
  {
   "cell_type": "markdown",
   "id": "520110f4",
   "metadata": {},
   "source": [
    "it just makes an array that consist of ones."
   ]
  },
  {
   "cell_type": "code",
   "execution_count": 13,
   "id": "bb8163b8",
   "metadata": {},
   "outputs": [
    {
     "name": "stdout",
     "output_type": "stream",
     "text": [
      "<class 'numpy.ndarray'>\n",
      "[1. 1. 1. 1. 1.]\n"
     ]
    }
   ],
   "source": [
    "myNumpyList = np.ones(5)\n",
    "print(type(myNumpyList))\n",
    "print(myNumpyList)"
   ]
  },
  {
   "cell_type": "code",
   "execution_count": 14,
   "id": "6a86adac",
   "metadata": {},
   "outputs": [
    {
     "name": "stdout",
     "output_type": "stream",
     "text": [
      "<class 'numpy.ndarray'>\n",
      "[[1. 1. 1. 1. 1.]\n",
      " [1. 1. 1. 1. 1.]\n",
      " [1. 1. 1. 1. 1.]\n",
      " [1. 1. 1. 1. 1.]\n",
      " [1. 1. 1. 1. 1.]]\n"
     ]
    }
   ],
   "source": [
    "myNumpyList = np.ones((5,5))\n",
    "print(type(myNumpyList))\n",
    "print(myNumpyList)"
   ]
  },
  {
   "cell_type": "markdown",
   "id": "2d73203e",
   "metadata": {},
   "source": [
    "### 3.linspace"
   ]
  },
  {
   "cell_type": "markdown",
   "id": "6dbebcf7",
   "metadata": {},
   "source": [
    "each space has an equal distance. <br/>\n",
    "Note: mostly you will Use this func at Data Science."
   ]
  },
  {
   "cell_type": "code",
   "execution_count": 4,
   "id": "f711d690",
   "metadata": {},
   "outputs": [
    {
     "name": "stdout",
     "output_type": "stream",
     "text": [
      "<class 'numpy.ndarray'>\n",
      "[ 0.  5. 10. 15. 20.]\n"
     ]
    }
   ],
   "source": [
    "myNumpyList = np.linspace(0,20,5)  ##make an five-element array between of 0 and 20\n",
    "print(type(myNumpyList))\n",
    "print(myNumpyList)"
   ]
  },
  {
   "cell_type": "code",
   "execution_count": 19,
   "id": "c2b5a8f9",
   "metadata": {},
   "outputs": [
    {
     "name": "stdout",
     "output_type": "stream",
     "text": [
      "<class 'numpy.ndarray'>\n",
      "[ 0.          2.22222222  4.44444444  6.66666667  8.88888889 11.11111111\n",
      " 13.33333333 15.55555556 17.77777778 20.        ]\n"
     ]
    }
   ],
   "source": [
    "myNumpyList = np.linspace(0,20,10)  ##make an ten-element array between of 0 and 20\n",
    "print(type(myNumpyList))\n",
    "print(myNumpyList)"
   ]
  },
  {
   "cell_type": "code",
   "execution_count": 20,
   "id": "d272ad52",
   "metadata": {},
   "outputs": [
    {
     "name": "stdout",
     "output_type": "stream",
     "text": [
      "<class 'numpy.ndarray'>\n",
      "[ 0.  2.  4.  6.  8. 10. 12. 14. 16. 18. 20.]\n"
     ]
    }
   ],
   "source": [
    "myNumpyList = np.linspace(0,20,11)  ##make an eleven-element array between of 0 and 20\n",
    "print(type(myNumpyList))\n",
    "print(myNumpyList)"
   ]
  },
  {
   "cell_type": "code",
   "execution_count": 28,
   "id": "78b19ea4",
   "metadata": {},
   "outputs": [
    {
     "name": "stdout",
     "output_type": "stream",
     "text": [
      "<class 'numpy.ndarray'>\n",
      "[ 1.  2.  3.  4.  5.  6.  7.  8.  9. 10. 11. 12. 13. 14. 15. 16. 17. 18.\n",
      " 19. 20.]\n"
     ]
    }
   ],
   "source": [
    "myNumpyList = np.linspace(1,20,20)  ##make an twenty-element array between of 0 and 20\n",
    "print(type(myNumpyList))\n",
    "print(myNumpyList)"
   ]
  },
  {
   "cell_type": "markdown",
   "id": "c97283af",
   "metadata": {},
   "source": [
    "### 4.eye"
   ]
  },
  {
   "cell_type": "code",
   "execution_count": 31,
   "id": "dc2caeee",
   "metadata": {},
   "outputs": [
    {
     "data": {
      "text/plain": [
       "array([[1., 0., 0., 0., 0.],\n",
       "       [0., 1., 0., 0., 0.],\n",
       "       [0., 0., 1., 0., 0.],\n",
       "       [0., 0., 0., 1., 0.],\n",
       "       [0., 0., 0., 0., 1.]])"
      ]
     },
     "execution_count": 31,
     "metadata": {},
     "output_type": "execute_result"
    }
   ],
   "source": [
    "np.eye(5)"
   ]
  },
  {
   "cell_type": "markdown",
   "id": "2e5c305d",
   "metadata": {},
   "source": [
    "### 5.random"
   ]
  },
  {
   "cell_type": "markdown",
   "id": "0b6ff8d2",
   "metadata": {},
   "source": [
    "#### 4.1 random.rand()"
   ]
  },
  {
   "cell_type": "markdown",
   "id": "0ca5499e",
   "metadata": {},
   "source": [
    "it generates numpy array that consist of random numbers."
   ]
  },
  {
   "cell_type": "code",
   "execution_count": 33,
   "id": "c804b978",
   "metadata": {},
   "outputs": [
    {
     "data": {
      "text/plain": [
       "array([0.55962076, 0.98717845, 0.2327944 , 0.6111573 , 0.32128128,\n",
       "       0.83543985, 0.93849841, 0.56018017])"
      ]
     },
     "execution_count": 33,
     "metadata": {},
     "output_type": "execute_result"
    }
   ],
   "source": [
    "np.random.rand(8)"
   ]
  },
  {
   "cell_type": "code",
   "execution_count": 34,
   "id": "0618fe2c",
   "metadata": {},
   "outputs": [
    {
     "data": {
      "text/plain": [
       "array([[0.66944154, 0.24615179, 0.52646502, 0.93938031],\n",
       "       [0.75914836, 0.57196691, 0.71961451, 0.64320695],\n",
       "       [0.23139699, 0.19217937, 0.09402497, 0.0193277 ],\n",
       "       [0.48044548, 0.29781336, 0.32568222, 0.6120245 ]])"
      ]
     },
     "execution_count": 34,
     "metadata": {},
     "output_type": "execute_result"
    }
   ],
   "source": [
    "np.random.rand(4,4)"
   ]
  },
  {
   "cell_type": "markdown",
   "id": "a7897b13",
   "metadata": {},
   "source": [
    "### 4.2 np.random.randint()"
   ]
  },
  {
   "cell_type": "markdown",
   "id": "f6a164c5",
   "metadata": {},
   "source": [
    "it generates random number. As you know from randomlibrary."
   ]
  },
  {
   "cell_type": "code",
   "execution_count": 38,
   "id": "a8565c7b",
   "metadata": {},
   "outputs": [
    {
     "data": {
      "text/plain": [
       "1"
      ]
     },
     "execution_count": 38,
     "metadata": {},
     "output_type": "execute_result"
    }
   ],
   "source": [
    "np.random.randint(1,10)  ##Generates between the specified values. ten not include"
   ]
  },
  {
   "cell_type": "code",
   "execution_count": 40,
   "id": "39e6859e",
   "metadata": {},
   "outputs": [
    {
     "data": {
      "text/plain": [
       "array([5, 8])"
      ]
     },
     "execution_count": 40,
     "metadata": {},
     "output_type": "execute_result"
    }
   ],
   "source": [
    "np.random.randint(1,10,2) #it generates a random list that has two elements"
   ]
  },
  {
   "cell_type": "code",
   "execution_count": null,
   "id": "8e79b6f2",
   "metadata": {},
   "outputs": [],
   "source": []
  }
 ],
 "metadata": {
  "kernelspec": {
   "display_name": "Python 3",
   "language": "python",
   "name": "python3"
  },
  "language_info": {
   "codemirror_mode": {
    "name": "ipython",
    "version": 3
   },
   "file_extension": ".py",
   "mimetype": "text/x-python",
   "name": "python",
   "nbconvert_exporter": "python",
   "pygments_lexer": "ipython3",
   "version": "3.8.8"
  }
 },
 "nbformat": 4,
 "nbformat_minor": 5
}
