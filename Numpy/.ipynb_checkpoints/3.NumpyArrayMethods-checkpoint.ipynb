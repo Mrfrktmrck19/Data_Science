{
 "cells": [
  {
   "cell_type": "markdown",
   "id": "16067441",
   "metadata": {},
   "source": [
    "# Numpy Array Methods"
   ]
  },
  {
   "cell_type": "markdown",
   "id": "c1471176",
   "metadata": {},
   "source": [
    "### 1.reshape"
   ]
  },
  {
   "cell_type": "code",
   "execution_count": 8,
   "id": "918c9526",
   "metadata": {},
   "outputs": [],
   "source": [
    "import numpy as np"
   ]
  },
  {
   "cell_type": "code",
   "execution_count": 15,
   "id": "13914043",
   "metadata": {},
   "outputs": [],
   "source": [
    "myNumpyList = np.arange(1,31)\n"
   ]
  },
  {
   "cell_type": "code",
   "execution_count": 16,
   "id": "08749519",
   "metadata": {},
   "outputs": [
    {
     "data": {
      "text/plain": [
       "array([[ 1,  2,  3,  4,  5,  6],\n",
       "       [ 7,  8,  9, 10, 11, 12],\n",
       "       [13, 14, 15, 16, 17, 18],\n",
       "       [19, 20, 21, 22, 23, 24],\n",
       "       [25, 26, 27, 28, 29, 30]])"
      ]
     },
     "execution_count": 16,
     "metadata": {},
     "output_type": "execute_result"
    }
   ],
   "source": [
    "myNumpyList.reshape(5,6)"
   ]
  },
  {
   "cell_type": "markdown",
   "id": "8b0b7a85",
   "metadata": {},
   "source": [
    "I can convert my array to another shape. I mean, i can generate new fake datas."
   ]
  },
  {
   "cell_type": "markdown",
   "id": "07299f9e",
   "metadata": {},
   "source": [
    "### 2.max & min"
   ]
  },
  {
   "cell_type": "code",
   "execution_count": 20,
   "id": "a53c4a38",
   "metadata": {},
   "outputs": [
    {
     "data": {
      "text/plain": [
       "30"
      ]
     },
     "execution_count": 20,
     "metadata": {},
     "output_type": "execute_result"
    }
   ],
   "source": [
    "myNumpyList.max()\n"
   ]
  },
  {
   "cell_type": "code",
   "execution_count": 19,
   "id": "46adccab",
   "metadata": {},
   "outputs": [
    {
     "data": {
      "text/plain": [
       "1"
      ]
     },
     "execution_count": 19,
     "metadata": {},
     "output_type": "execute_result"
    }
   ],
   "source": [
    "myNumpyList.min()"
   ]
  },
  {
   "cell_type": "markdown",
   "id": "3b7d3b3a",
   "metadata": {},
   "source": [
    "### 3.argmax& argmin (what is the index of max/min value) "
   ]
  },
  {
   "cell_type": "code",
   "execution_count": 21,
   "id": "57a5fbc7",
   "metadata": {},
   "outputs": [
    {
     "data": {
      "text/plain": [
       "29"
      ]
     },
     "execution_count": 21,
     "metadata": {},
     "output_type": "execute_result"
    }
   ],
   "source": [
    "myNumpyList.argmax()"
   ]
  },
  {
   "cell_type": "code",
   "execution_count": 35,
   "id": "47545804",
   "metadata": {},
   "outputs": [
    {
     "data": {
      "text/plain": [
       "0"
      ]
     },
     "execution_count": 35,
     "metadata": {},
     "output_type": "execute_result"
    }
   ],
   "source": [
    "myNumpyList.argmin()"
   ]
  },
  {
   "cell_type": "markdown",
   "id": "891223d4",
   "metadata": {},
   "source": [
    "### 4.shape"
   ]
  },
  {
   "cell_type": "code",
   "execution_count": 37,
   "id": "95f86abc",
   "metadata": {},
   "outputs": [],
   "source": [
    "myNumpyList = myNumpyList.reshape(5,6)"
   ]
  },
  {
   "cell_type": "code",
   "execution_count": 38,
   "id": "40a6d93e",
   "metadata": {},
   "outputs": [
    {
     "data": {
      "text/plain": [
       "array([[ 1,  2,  3,  4,  5,  6],\n",
       "       [ 7,  8,  9, 10, 11, 12],\n",
       "       [13, 14, 15, 16, 17, 18],\n",
       "       [19, 20, 21, 22, 23, 24],\n",
       "       [25, 26, 27, 28, 29, 30]])"
      ]
     },
     "execution_count": 38,
     "metadata": {},
     "output_type": "execute_result"
    }
   ],
   "source": [
    "myNumpyList"
   ]
  },
  {
   "cell_type": "code",
   "execution_count": 39,
   "id": "2f3f04e6",
   "metadata": {},
   "outputs": [
    {
     "data": {
      "text/plain": [
       "(5, 6)"
      ]
     },
     "execution_count": 39,
     "metadata": {},
     "output_type": "execute_result"
    }
   ],
   "source": [
    "myNumpyList.shape  ##it shows shape of array (row,coll)"
   ]
  }
 ],
 "metadata": {
  "kernelspec": {
   "display_name": "Python 3",
   "language": "python",
   "name": "python3"
  },
  "language_info": {
   "codemirror_mode": {
    "name": "ipython",
    "version": 3
   },
   "file_extension": ".py",
   "mimetype": "text/x-python",
   "name": "python",
   "nbconvert_exporter": "python",
   "pygments_lexer": "ipython3",
   "version": "3.8.8"
  }
 },
 "nbformat": 4,
 "nbformat_minor": 5
}
