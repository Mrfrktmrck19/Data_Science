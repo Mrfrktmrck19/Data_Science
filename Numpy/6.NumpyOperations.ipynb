{
 "cells": [
  {
   "cell_type": "markdown",
   "id": "ff96c062",
   "metadata": {},
   "source": [
    "# Numpy Operations on Numpy Arrays"
   ]
  },
  {
   "cell_type": "markdown",
   "id": "21a81bd6",
   "metadata": {},
   "source": [
    "addition(+) subtraction(-) multiplication(*) division(/)..."
   ]
  },
  {
   "cell_type": "code",
   "execution_count": 1,
   "id": "d1978fd9",
   "metadata": {},
   "outputs": [],
   "source": [
    "import numpy as np"
   ]
  },
  {
   "cell_type": "code",
   "execution_count": 6,
   "id": "decfb054",
   "metadata": {},
   "outputs": [
    {
     "data": {
      "text/plain": [
       "array([66, 98, 73, 13, 25, 99, 90, 43, 75, 32, 88, 58, 62, 75, 94, 39, 55,\n",
       "        7, 22, 69])"
      ]
     },
     "execution_count": 6,
     "metadata": {},
     "output_type": "execute_result"
    }
   ],
   "source": [
    "newArray = np.random.randint(1,100,20)\n",
    "newArray"
   ]
  },
  {
   "cell_type": "code",
   "execution_count": 9,
   "id": "f12c8939",
   "metadata": {},
   "outputs": [],
   "source": [
    "resultArray=newArray>24"
   ]
  },
  {
   "cell_type": "code",
   "execution_count": 10,
   "id": "e542c5f7",
   "metadata": {},
   "outputs": [
    {
     "data": {
      "text/plain": [
       "array([ True,  True,  True, False,  True,  True,  True,  True,  True,\n",
       "        True,  True,  True,  True,  True,  True,  True,  True, False,\n",
       "       False,  True])"
      ]
     },
     "execution_count": 10,
     "metadata": {},
     "output_type": "execute_result"
    }
   ],
   "source": [
    "resultArray"
   ]
  },
  {
   "cell_type": "code",
   "execution_count": 11,
   "id": "675c0969",
   "metadata": {},
   "outputs": [
    {
     "data": {
      "text/plain": [
       "array([66, 98, 73, 13, 25, 99, 90, 43, 75, 32, 88, 58, 62, 75, 94, 39, 55,\n",
       "        7, 22, 69])"
      ]
     },
     "execution_count": 11,
     "metadata": {},
     "output_type": "execute_result"
    }
   ],
   "source": [
    "newArray"
   ]
  },
  {
   "cell_type": "code",
   "execution_count": 13,
   "id": "3e5c6585",
   "metadata": {},
   "outputs": [
    {
     "data": {
      "text/plain": [
       "array([66, 98, 73, 25, 99, 90, 43, 75, 32, 88, 58, 62, 75, 94, 39, 55, 69])"
      ]
     },
     "execution_count": 13,
     "metadata": {},
     "output_type": "execute_result"
    }
   ],
   "source": [
    "newArray[resultArray]   #shows true values"
   ]
  },
  {
   "cell_type": "code",
   "execution_count": 14,
   "id": "45099295",
   "metadata": {},
   "outputs": [],
   "source": [
    "array1 = np.arange(0,24)"
   ]
  },
  {
   "cell_type": "code",
   "execution_count": 16,
   "id": "f20b3630",
   "metadata": {},
   "outputs": [
    {
     "data": {
      "text/plain": [
       "array([ 0,  2,  4,  6,  8, 10, 12, 14, 16, 18, 20, 22, 24, 26, 28, 30, 32,\n",
       "       34, 36, 38, 40, 42, 44, 46])"
      ]
     },
     "execution_count": 16,
     "metadata": {},
     "output_type": "execute_result"
    }
   ],
   "source": [
    "array2=array1+array1\n",
    "array2"
   ]
  },
  {
   "cell_type": "code",
   "execution_count": 17,
   "id": "ee3f9982",
   "metadata": {},
   "outputs": [
    {
     "data": {
      "text/plain": [
       "array([  0,   1,   4,   9,  16,  25,  36,  49,  64,  81, 100, 121, 144,\n",
       "       169, 196, 225, 256, 289, 324, 361, 400, 441, 484, 529])"
      ]
     },
     "execution_count": 17,
     "metadata": {},
     "output_type": "execute_result"
    }
   ],
   "source": [
    "array2=array1*array1\n",
    "array2"
   ]
  },
  {
   "cell_type": "code",
   "execution_count": 18,
   "id": "d1d8edd2",
   "metadata": {},
   "outputs": [
    {
     "data": {
      "text/plain": [
       "array([0, 0, 0, 0, 0, 0, 0, 0, 0, 0, 0, 0, 0, 0, 0, 0, 0, 0, 0, 0, 0, 0,\n",
       "       0, 0])"
      ]
     },
     "execution_count": 18,
     "metadata": {},
     "output_type": "execute_result"
    }
   ],
   "source": [
    "array2=array1-array1\n",
    "array2"
   ]
  },
  {
   "cell_type": "code",
   "execution_count": 19,
   "id": "460f969f",
   "metadata": {},
   "outputs": [
    {
     "name": "stderr",
     "output_type": "stream",
     "text": [
      "<ipython-input-19-ae4a97a661ba>:1: RuntimeWarning: invalid value encountered in true_divide\n",
      "  array2=array1/array1\n"
     ]
    },
    {
     "data": {
      "text/plain": [
       "array([nan,  1.,  1.,  1.,  1.,  1.,  1.,  1.,  1.,  1.,  1.,  1.,  1.,\n",
       "        1.,  1.,  1.,  1.,  1.,  1.,  1.,  1.,  1.,  1.,  1.])"
      ]
     },
     "execution_count": 19,
     "metadata": {},
     "output_type": "execute_result"
    }
   ],
   "source": [
    "array2=array1/array1\n",
    "array2"
   ]
  },
  {
   "cell_type": "code",
   "execution_count": 20,
   "id": "12b9fdfd",
   "metadata": {},
   "outputs": [
    {
     "data": {
      "text/plain": [
       "2.23606797749979"
      ]
     },
     "execution_count": 20,
     "metadata": {},
     "output_type": "execute_result"
    }
   ],
   "source": [
    "np.sqrt(5)"
   ]
  }
 ],
 "metadata": {
  "kernelspec": {
   "display_name": "Python 3",
   "language": "python",
   "name": "python3"
  },
  "language_info": {
   "codemirror_mode": {
    "name": "ipython",
    "version": 3
   },
   "file_extension": ".py",
   "mimetype": "text/x-python",
   "name": "python",
   "nbconvert_exporter": "python",
   "pygments_lexer": "ipython3",
   "version": "3.8.8"
  }
 },
 "nbformat": 4,
 "nbformat_minor": 5
}
