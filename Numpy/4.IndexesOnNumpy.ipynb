{
 "cells": [
  {
   "cell_type": "markdown",
   "id": "3b15e2c1",
   "metadata": {},
   "source": [
    "# Indexes On Numpy"
   ]
  },
  {
   "cell_type": "code",
   "execution_count": 1,
   "id": "70a69032",
   "metadata": {},
   "outputs": [],
   "source": [
    "import numpy as np"
   ]
  },
  {
   "cell_type": "code",
   "execution_count": 2,
   "id": "86da08da",
   "metadata": {},
   "outputs": [],
   "source": [
    "myNumpyList = np.arange(0,15)"
   ]
  },
  {
   "cell_type": "code",
   "execution_count": 3,
   "id": "cc47503a",
   "metadata": {},
   "outputs": [
    {
     "data": {
      "text/plain": [
       "array([ 0,  1,  2,  3,  4,  5,  6,  7,  8,  9, 10, 11, 12, 13, 14])"
      ]
     },
     "execution_count": 3,
     "metadata": {},
     "output_type": "execute_result"
    }
   ],
   "source": [
    "myNumpyList"
   ]
  },
  {
   "cell_type": "code",
   "execution_count": 4,
   "id": "eb85ddc2",
   "metadata": {},
   "outputs": [
    {
     "data": {
      "text/plain": [
       "0"
      ]
     },
     "execution_count": 4,
     "metadata": {},
     "output_type": "execute_result"
    }
   ],
   "source": [
    "myNumpyList[0]"
   ]
  },
  {
   "cell_type": "code",
   "execution_count": 5,
   "id": "9cf429ca",
   "metadata": {},
   "outputs": [
    {
     "data": {
      "text/plain": [
       "array([3, 4])"
      ]
     },
     "execution_count": 5,
     "metadata": {},
     "output_type": "execute_result"
    }
   ],
   "source": [
    "myNumpyList[3:5]  ## works like a default indexes"
   ]
  },
  {
   "cell_type": "code",
   "execution_count": 9,
   "id": "259efb71",
   "metadata": {},
   "outputs": [
    {
     "data": {
      "text/plain": [
       "array([  0,   1,   2, -10, -10,   5,   6,   7,   8,   9,  10,  11,  12,\n",
       "        13,  14])"
      ]
     },
     "execution_count": 9,
     "metadata": {},
     "output_type": "execute_result"
    }
   ],
   "source": [
    "myNumpyList[3:5] = -10\n",
    "myNumpyList  ## third & fourth index became -10."
   ]
  },
  {
   "cell_type": "code",
   "execution_count": 11,
   "id": "369b8b27",
   "metadata": {},
   "outputs": [
    {
     "data": {
      "text/plain": [
       "array([4, 5, 6, 7, 8])"
      ]
     },
     "execution_count": 11,
     "metadata": {},
     "output_type": "execute_result"
    }
   ],
   "source": [
    "otherArray = np.arange(0,24)\n",
    "slicingArray = otherArray[4:9]\n",
    "slicingArray"
   ]
  },
  {
   "cell_type": "code",
   "execution_count": 13,
   "id": "4735df3e",
   "metadata": {},
   "outputs": [
    {
     "data": {
      "text/plain": [
       "array([700, 700, 700, 700, 700])"
      ]
     },
     "execution_count": 13,
     "metadata": {},
     "output_type": "execute_result"
    }
   ],
   "source": [
    "slicingArray[:]=700\n",
    "slicingArray"
   ]
  },
  {
   "cell_type": "code",
   "execution_count": 14,
   "id": "039a1aad",
   "metadata": {},
   "outputs": [
    {
     "data": {
      "text/plain": [
       "array([  0,   1,   2,   3, 700, 700, 700, 700, 700,   9,  10,  11,  12,\n",
       "        13,  14,  15,  16,  17,  18,  19,  20,  21,  22,  23])"
      ]
     },
     "execution_count": 14,
     "metadata": {},
     "output_type": "execute_result"
    }
   ],
   "source": [
    "otherArray     ##cause of references, you can handle using .copy()\n",
    "               "
   ]
  },
  {
   "cell_type": "markdown",
   "id": "4f8a28ba",
   "metadata": {},
   "source": [
    "===================================================================="
   ]
  },
  {
   "cell_type": "code",
   "execution_count": 22,
   "id": "8e386996",
   "metadata": {},
   "outputs": [
    {
     "data": {
      "text/plain": [
       "array([ 0,  1,  2,  3,  4,  5,  6,  7,  8,  9, 10, 11, 12, 13, 14, 15, 16,\n",
       "       17, 18, 19])"
      ]
     },
     "execution_count": 22,
     "metadata": {},
     "output_type": "execute_result"
    }
   ],
   "source": [
    "otherArray= np.arange(0,20)\n",
    "slicingArray = otherArray.copy()\n",
    "slicingArray[:]=20\n",
    "otherArray"
   ]
  },
  {
   "cell_type": "code",
   "execution_count": null,
   "id": "b724d0fd",
   "metadata": {},
   "outputs": [],
   "source": []
  }
 ],
 "metadata": {
  "kernelspec": {
   "display_name": "Python 3",
   "language": "python",
   "name": "python3"
  },
  "language_info": {
   "codemirror_mode": {
    "name": "ipython",
    "version": 3
   },
   "file_extension": ".py",
   "mimetype": "text/x-python",
   "name": "python",
   "nbconvert_exporter": "python",
   "pygments_lexer": "ipython3",
   "version": "3.8.8"
  }
 },
 "nbformat": 4,
 "nbformat_minor": 5
}
