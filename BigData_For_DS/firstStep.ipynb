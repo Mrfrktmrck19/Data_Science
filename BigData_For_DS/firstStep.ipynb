{
 "cells": [
  {
   "cell_type": "markdown",
   "id": "8a5a69f8-db20-43b2-8602-a7fc51353d96",
   "metadata": {},
   "source": [
    "### Bu notebookta bir projenin ilk adımları olarak:\n",
    "* Gerekli kütüphanlerin yüklenmesi ve kurulması\n",
    "* Bir sparkContexti oluşturumlası\n",
    "* Spark DataFrame üzerinde ufak veri manipülasyonları\n",
    "* Verilere nasıl ulaşılacağı\n",
    "\n",
    "mevcuttur"
   ]
  },
  {
   "cell_type": "code",
   "execution_count": 2,
   "id": "dbf5c195-3670-42c4-8e59-ad3af4d4be42",
   "metadata": {},
   "outputs": [
    {
     "name": "stdout",
     "output_type": "stream",
     "text": [
      "Requirement already satisfied: findspark in c:\\users\\mrfrk\\anaconda3\\lib\\site-packages (2.0.1)\n"
     ]
    }
   ],
   "source": [
    "!pip install findspark"
   ]
  },
  {
   "cell_type": "code",
   "execution_count": 4,
   "id": "e5f8964e-aa09-4bc0-ae46-96232955775e",
   "metadata": {},
   "outputs": [],
   "source": [
    "import findspark\n",
    "findspark.init(\"c:\\spark\")"
   ]
  },
  {
   "cell_type": "code",
   "execution_count": 5,
   "id": "2714d607-1f6a-4553-bd8a-c090f2ef982d",
   "metadata": {},
   "outputs": [],
   "source": [
    "import pyspark\n",
    "from pyspark import SparkContext\n",
    "from pyspark.sql import SparkSession\n",
    "from pyspark.conf import SparkConf"
   ]
  },
  {
   "cell_type": "code",
   "execution_count": 13,
   "id": "48780728-48ce-4e9b-8f51-527711dd31d7",
   "metadata": {},
   "outputs": [],
   "source": [
    "spark = SparkSession.builder \\\n",
    "                    .master(\"local\") \\\n",
    "                    .appName(\"churn_modelleing\") \\\n",
    "                    .getOrCreate()"
   ]
  },
  {
   "cell_type": "code",
   "execution_count": 17,
   "id": "a3ae7c8e-b518-4cb4-a0e0-0e9d1a6c0c64",
   "metadata": {},
   "outputs": [
    {
     "data": {
      "text/html": [
       "\n",
       "        <div>\n",
       "            <p><b>SparkContext</b></p>\n",
       "\n",
       "            <p><a href=\"http://RedBaron:4040\">Spark UI</a></p>\n",
       "\n",
       "            <dl>\n",
       "              <dt>Version</dt>\n",
       "                <dd><code>v3.3.2</code></dd>\n",
       "              <dt>Master</dt>\n",
       "                <dd><code>local</code></dd>\n",
       "              <dt>AppName</dt>\n",
       "                <dd><code>churn_modelleing</code></dd>\n",
       "            </dl>\n",
       "        </div>\n",
       "        "
      ],
      "text/plain": [
       "<SparkContext master=local appName=churn_modelleing>"
      ]
     },
     "execution_count": 17,
     "metadata": {},
     "output_type": "execute_result"
    }
   ],
   "source": [
    "sc = spark.sparkContext\n",
    "sc"
   ]
  },
  {
   "cell_type": "code",
   "execution_count": 21,
   "id": "fb9b8368-e430-47a2-8ee4-0721a40dc2c9",
   "metadata": {},
   "outputs": [
    {
     "data": {
      "text/plain": [
       "DataFrame[_c0: int, Names: string, Age: double, Total_Purchase: double, Account_Manager: int, Years: double, Num_Sites: double, Churn: int]"
      ]
     },
     "execution_count": 21,
     "metadata": {},
     "output_type": "execute_result"
    }
   ],
   "source": [
    "spark_df = spark.read.csv(\"churn.csv\",\n",
    "                      header = True,\n",
    "                      inferSchema = True,\n",
    "                      sep=\",\")\n",
    "spark_df.cache()"
   ]
  },
  {
   "cell_type": "code",
   "execution_count": 22,
   "id": "590615ba-9131-4fd0-995a-628b64b51288",
   "metadata": {},
   "outputs": [
    {
     "name": "stdout",
     "output_type": "stream",
     "text": [
      "root\n",
      " |-- _c0: integer (nullable = true)\n",
      " |-- Names: string (nullable = true)\n",
      " |-- Age: double (nullable = true)\n",
      " |-- Total_Purchase: double (nullable = true)\n",
      " |-- Account_Manager: integer (nullable = true)\n",
      " |-- Years: double (nullable = true)\n",
      " |-- Num_Sites: double (nullable = true)\n",
      " |-- Churn: integer (nullable = true)\n",
      "\n"
     ]
    }
   ],
   "source": [
    "spark_df.printSchema()"
   ]
  },
  {
   "cell_type": "code",
   "execution_count": 23,
   "id": "3105bb7c-f219-477f-a499-dbfef3b9538e",
   "metadata": {},
   "outputs": [
    {
     "name": "stdout",
     "output_type": "stream",
     "text": [
      "+---+----------------+----+--------------+---------------+-----+---------+-----+\n",
      "|_c0|           Names| Age|Total_Purchase|Account_Manager|Years|Num_Sites|Churn|\n",
      "+---+----------------+----+--------------+---------------+-----+---------+-----+\n",
      "|  0|Cameron Williams|42.0|       11066.8|              0| 7.22|      8.0|    1|\n",
      "|  1|   Kevin Mueller|41.0|      11916.22|              0|  6.5|     11.0|    1|\n",
      "|  2|     Eric Lozano|38.0|      12884.75|              0| 6.67|     12.0|    1|\n",
      "|  3|   Phillip White|42.0|       8010.76|              0| 6.71|     10.0|    1|\n",
      "|  4|  Cynthia Norton|37.0|       9191.58|              0| 5.56|      9.0|    1|\n",
      "|  5|Jessica Williams|48.0|      10356.02|              0| 5.12|      8.0|    1|\n",
      "|  6|     Eric Butler|44.0|      11331.58|              1| 5.23|     11.0|    1|\n",
      "|  7|   Zachary Walsh|32.0|       9885.12|              1| 6.92|      9.0|    1|\n",
      "|  8|     Ashlee Carr|43.0|       14062.6|              1| 5.46|     11.0|    1|\n",
      "|  9|  Jennifer Lynch|40.0|       8066.94|              1| 7.11|     11.0|    1|\n",
      "+---+----------------+----+--------------+---------------+-----+---------+-----+\n",
      "only showing top 10 rows\n",
      "\n"
     ]
    }
   ],
   "source": [
    "spark_df.show(10)"
   ]
  },
  {
   "cell_type": "code",
   "execution_count": 26,
   "id": "943a5fc8-f0ac-49f2-afc3-521b04281aaf",
   "metadata": {},
   "outputs": [
    {
     "name": "stdout",
     "output_type": "stream",
     "text": [
      "+---+----------------+----+--------------+---------------+-----+---------+-----+\n",
      "|_c0|           names| age|total_purchase|account_manager|years|num_sites|churn|\n",
      "+---+----------------+----+--------------+---------------+-----+---------+-----+\n",
      "|  0|Cameron Williams|42.0|       11066.8|              0| 7.22|      8.0|    1|\n",
      "|  1|   Kevin Mueller|41.0|      11916.22|              0|  6.5|     11.0|    1|\n",
      "|  2|     Eric Lozano|38.0|      12884.75|              0| 6.67|     12.0|    1|\n",
      "|  3|   Phillip White|42.0|       8010.76|              0| 6.71|     10.0|    1|\n",
      "|  4|  Cynthia Norton|37.0|       9191.58|              0| 5.56|      9.0|    1|\n",
      "+---+----------------+----+--------------+---------------+-----+---------+-----+\n",
      "only showing top 5 rows\n",
      "\n"
     ]
    }
   ],
   "source": [
    "## setting columns' name\n",
    "spark_df = spark_df.toDF(*[c.lower() for c in spark_df.columns])\n",
    "spark_df.show(5)"
   ]
  },
  {
   "cell_type": "markdown",
   "id": "bea570d2-3b77-4c82-91d4-4749c607b734",
   "metadata": {},
   "source": [
    "Kolon ismini değiştirme işlemini, spark_df'i Pandas DataFrame'e dönüştürüpte yapabiliriz. Tabii sadece kolon ismi değiştirme değil, her türlü veri manipülasyonunu böyle yapabilriiz.\n",
    "\n",
    "df.columns = map(str.lower, df.columns)"
   ]
  },
  {
   "cell_type": "code",
   "execution_count": 29,
   "id": "4d097b76-fec4-40ba-a6bf-4cbdb32fc7e0",
   "metadata": {},
   "outputs": [
    {
     "name": "stdout",
     "output_type": "stream",
     "text": [
      "Num of columns: 8\n",
      "Columns Name: ['_c0', 'names', 'age', 'total_purchase', 'account_manager', 'years', 'num_sites', 'churn']\n"
     ]
    }
   ],
   "source": [
    "print(f\"Num of columns: {len(spark_df.columns)}\")\n",
    "print(f\"Columns Name: {spark_df.columns}\")"
   ]
  },
  {
   "cell_type": "code",
   "execution_count": 30,
   "id": "c3d81c17-c681-4d82-b1e1-c33c353644cd",
   "metadata": {},
   "outputs": [
    {
     "data": {
      "text/plain": [
       "['index',\n",
       " 'names',\n",
       " 'age',\n",
       " 'total_purchase',\n",
       " 'account_manager',\n",
       " 'years',\n",
       " 'num_sites',\n",
       " 'churn']"
      ]
     },
     "execution_count": 30,
     "metadata": {},
     "output_type": "execute_result"
    }
   ],
   "source": [
    "## _c0 saçma bir isim, onun yerine direk index ifadesini kullanalım\n",
    "spark_df = spark_df.withColumnRenamed(\"_c0\",\"index\")\n",
    "spark_df.columns"
   ]
  },
  {
   "cell_type": "code",
   "execution_count": 31,
   "id": "cad5674b-26ca-4df4-b422-e4dce2661b29",
   "metadata": {},
   "outputs": [
    {
     "data": {
      "text/plain": [
       "900"
      ]
     },
     "execution_count": 31,
     "metadata": {},
     "output_type": "execute_result"
    }
   ],
   "source": [
    "## gözlem sayısı\n",
    "spark_df.count()"
   ]
  },
  {
   "cell_type": "code",
   "execution_count": 33,
   "id": "fb2669c3-5c61-4fbb-ac76-692b798c3ffa",
   "metadata": {},
   "outputs": [
    {
     "data": {
      "text/plain": [
       "900"
      ]
     },
     "execution_count": 33,
     "metadata": {},
     "output_type": "execute_result"
    }
   ],
   "source": [
    "## gözlemler uniqe mi? acaba bir gözlem iki kere girilmiş mi? distinct ile kontrol edelin.\n",
    "spark_df.distinct().count()"
   ]
  },
  {
   "cell_type": "markdown",
   "id": "7850fb01-80cd-413c-ad4b-60345db3f8db",
   "metadata": {},
   "source": [
    "Distinct fonksiyonu kullanınca 900 adet değer dönmesi demek: 900 tane eşsiz(uniqe) değer var demektir. Bizim gözlem sayımızda 900 olduğuna göre sorun yok.\n",
    "\n",
    "Peki gözlem değilde ya kullanıcılar birden fazla girildiyse? Buna \"Veri Çoklanması\" denir. Aynı kişinin verisi 1 gözlemde değilde birden fazla gözlemde verilmiş olabilir. Bak buradaki 2 tür durum var: biri, yukarıda bahsettiğimiz gibi, kişinin iki kere girilmesi. Bir diğeri ise kişinin iki işlem bilgisi vardır, ikisininde ayrı gözlemlerde olması. İlk sorunu yaşıyorsa tekrar edeni silmelisin. İkinci sorunu yaşıyorsan gözlemlri birleştirmelisin.\n",
    "\n",
    "Şİmdi aşşağıda kontrol edelim kişiler uniqe'mi:"
   ]
  },
  {
   "cell_type": "code",
   "execution_count": 34,
   "id": "038bbe7e-07f2-4bf9-8cf2-bf592dfadc72",
   "metadata": {},
   "outputs": [
    {
     "data": {
      "text/plain": [
       "899"
      ]
     },
     "execution_count": 34,
     "metadata": {},
     "output_type": "execute_result"
    }
   ],
   "source": [
    "spark_df.select(\"names\").distinct().count()"
   ]
  },
  {
   "cell_type": "markdown",
   "id": "c377c625-25f5-4311-a98c-e147d26dc047",
   "metadata": {},
   "source": [
    "899'a düştüğüne göre 1 veri çıkarılmış, yani aynı isimden 2 tane gözlem var. Ya Veri Çoklanması var ya da aynı isimden iki kişide olabilir.\n",
    "\n",
    "Not: Aşşağıdaki 5 hücreyi duplicate edilmiş verileri bulmak için oluşturdum ama bulamadım. Yine de güzel şeyler elde ettim :)"
   ]
  },
  {
   "cell_type": "code",
   "execution_count": 37,
   "id": "a413879f-013a-46f2-93b8-f0f8d4980b32",
   "metadata": {
    "collapsed": true,
    "jupyter": {
     "outputs_hidden": true
    },
    "tags": []
   },
   "outputs": [
    {
     "data": {
      "text/plain": [
       "['__class__',\n",
       " '__delattr__',\n",
       " '__dict__',\n",
       " '__dir__',\n",
       " '__doc__',\n",
       " '__eq__',\n",
       " '__format__',\n",
       " '__ge__',\n",
       " '__getattr__',\n",
       " '__getattribute__',\n",
       " '__getitem__',\n",
       " '__gt__',\n",
       " '__hash__',\n",
       " '__init__',\n",
       " '__init_subclass__',\n",
       " '__le__',\n",
       " '__lt__',\n",
       " '__module__',\n",
       " '__ne__',\n",
       " '__new__',\n",
       " '__reduce__',\n",
       " '__reduce_ex__',\n",
       " '__repr__',\n",
       " '__setattr__',\n",
       " '__sizeof__',\n",
       " '__str__',\n",
       " '__subclasshook__',\n",
       " '__weakref__',\n",
       " '_collect_as_arrow',\n",
       " '_jcols',\n",
       " '_jdf',\n",
       " '_jmap',\n",
       " '_joinAsOf',\n",
       " '_jseq',\n",
       " '_lazy_rdd',\n",
       " '_repr_html_',\n",
       " '_sc',\n",
       " '_schema',\n",
       " '_session',\n",
       " '_sort_cols',\n",
       " '_sql_ctx',\n",
       " '_support_repr_html',\n",
       " '_to_corrected_pandas_type',\n",
       " 'agg',\n",
       " 'alias',\n",
       " 'approxQuantile',\n",
       " 'cache',\n",
       " 'checkpoint',\n",
       " 'coalesce',\n",
       " 'colRegex',\n",
       " 'collect',\n",
       " 'columns',\n",
       " 'corr',\n",
       " 'count',\n",
       " 'cov',\n",
       " 'createGlobalTempView',\n",
       " 'createOrReplaceGlobalTempView',\n",
       " 'createOrReplaceTempView',\n",
       " 'createTempView',\n",
       " 'crossJoin',\n",
       " 'crosstab',\n",
       " 'cube',\n",
       " 'describe',\n",
       " 'distinct',\n",
       " 'drop',\n",
       " 'dropDuplicates',\n",
       " 'drop_duplicates',\n",
       " 'dropna',\n",
       " 'dtypes',\n",
       " 'exceptAll',\n",
       " 'explain',\n",
       " 'fillna',\n",
       " 'filter',\n",
       " 'first',\n",
       " 'foreach',\n",
       " 'foreachPartition',\n",
       " 'freqItems',\n",
       " 'groupBy',\n",
       " 'groupby',\n",
       " 'head',\n",
       " 'hint',\n",
       " 'inputFiles',\n",
       " 'intersect',\n",
       " 'intersectAll',\n",
       " 'isEmpty',\n",
       " 'isLocal',\n",
       " 'isStreaming',\n",
       " 'is_cached',\n",
       " 'join',\n",
       " 'limit',\n",
       " 'localCheckpoint',\n",
       " 'mapInArrow',\n",
       " 'mapInPandas',\n",
       " 'na',\n",
       " 'observe',\n",
       " 'orderBy',\n",
       " 'pandas_api',\n",
       " 'persist',\n",
       " 'printSchema',\n",
       " 'randomSplit',\n",
       " 'rdd',\n",
       " 'registerTempTable',\n",
       " 'repartition',\n",
       " 'repartitionByRange',\n",
       " 'replace',\n",
       " 'rollup',\n",
       " 'sameSemantics',\n",
       " 'sample',\n",
       " 'sampleBy',\n",
       " 'schema',\n",
       " 'select',\n",
       " 'selectExpr',\n",
       " 'semanticHash',\n",
       " 'show',\n",
       " 'sort',\n",
       " 'sortWithinPartitions',\n",
       " 'sparkSession',\n",
       " 'sql_ctx',\n",
       " 'stat',\n",
       " 'storageLevel',\n",
       " 'subtract',\n",
       " 'summary',\n",
       " 'tail',\n",
       " 'take',\n",
       " 'toDF',\n",
       " 'toJSON',\n",
       " 'toLocalIterator',\n",
       " 'toPandas',\n",
       " 'to_koalas',\n",
       " 'to_pandas_on_spark',\n",
       " 'transform',\n",
       " 'union',\n",
       " 'unionAll',\n",
       " 'unionByName',\n",
       " 'unpersist',\n",
       " 'where',\n",
       " 'withColumn',\n",
       " 'withColumnRenamed',\n",
       " 'withColumns',\n",
       " 'withMetadata',\n",
       " 'withWatermark',\n",
       " 'write',\n",
       " 'writeStream',\n",
       " 'writeTo']"
      ]
     },
     "execution_count": 37,
     "metadata": {},
     "output_type": "execute_result"
    }
   ],
   "source": [
    "dir(spark_df)"
   ]
  },
  {
   "cell_type": "code",
   "execution_count": 44,
   "id": "fac91126-8b41-48cb-8135-ab4329c93c21",
   "metadata": {
    "collapsed": true,
    "jupyter": {
     "outputs_hidden": true
    },
    "tags": []
   },
   "outputs": [
    {
     "name": "stdout",
     "output_type": "stream",
     "text": [
      "+----------------+-----+\n",
      "|           names|count|\n",
      "+----------------+-----+\n",
      "|    Patrick Bell|    1|\n",
      "|Patrick Robinson|    1|\n",
      "|   Chelsea Marsh|    1|\n",
      "+----------------+-----+\n",
      "only showing top 3 rows\n",
      "\n"
     ]
    }
   ],
   "source": [
    "spark_df.groupby(\"names\").count().select(\"names\",\"count\").show(3)"
   ]
  },
  {
   "cell_type": "code",
   "execution_count": 42,
   "id": "e42f0afd-3f1a-4a7a-8b74-0a34e3a95f7a",
   "metadata": {
    "collapsed": true,
    "jupyter": {
     "outputs_hidden": true
    },
    "tags": []
   },
   "outputs": [
    {
     "name": "stdout",
     "output_type": "stream",
     "text": [
      "+----------------+-----+\n",
      "|           names|count|\n",
      "+----------------+-----+\n",
      "|    Patrick Bell|    1|\n",
      "|Patrick Robinson|    1|\n",
      "|   Chelsea Marsh|    1|\n",
      "+----------------+-----+\n",
      "only showing top 3 rows\n",
      "\n"
     ]
    }
   ],
   "source": [
    "spark_df.groupby(\"names\").count().show(3)"
   ]
  },
  {
   "cell_type": "code",
   "execution_count": 52,
   "id": "3e6c15aa-fbe4-4b9a-8992-d30e5b8eb5d5",
   "metadata": {
    "collapsed": true,
    "jupyter": {
     "outputs_hidden": true
    },
    "tags": []
   },
   "outputs": [
    {
     "name": "stdout",
     "output_type": "stream",
     "text": [
      "+----+-----+\n",
      "| age|count|\n",
      "+----+-----+\n",
      "|49.0|   30|\n",
      "|29.0|    9|\n",
      "|47.0|   29|\n",
      "|42.0|   49|\n",
      "|44.0|   53|\n",
      "|35.0|   32|\n",
      "|39.0|   48|\n",
      "|37.0|   48|\n",
      "|34.0|   25|\n",
      "|25.0|    1|\n",
      "|36.0|   39|\n",
      "|41.0|   69|\n",
      "|56.0|    5|\n",
      "|50.0|   15|\n",
      "|45.0|   56|\n",
      "|31.0|   11|\n",
      "|58.0|    2|\n",
      "|51.0|   21|\n",
      "|48.0|   36|\n",
      "|22.0|    1|\n",
      "+----+-----+\n",
      "only showing top 20 rows\n",
      "\n"
     ]
    }
   ],
   "source": [
    "spark_df.groupby(\"age\").count().select(\"age\",\"count\").show()"
   ]
  },
  {
   "cell_type": "code",
   "execution_count": 54,
   "id": "886d0dce-1d85-43c7-a5fd-42b693107999",
   "metadata": {
    "collapsed": true,
    "jupyter": {
     "outputs_hidden": true
    },
    "tags": []
   },
   "outputs": [
    {
     "name": "stdout",
     "output_type": "stream",
     "text": [
      "+-----+-----+\n",
      "|churn|count|\n",
      "+-----+-----+\n",
      "|    1|  150|\n",
      "|    0|  750|\n",
      "+-----+-----+\n",
      "\n"
     ]
    }
   ],
   "source": [
    "spark_df.groupby(\"churn\").count().show()"
   ]
  },
  {
   "cell_type": "markdown",
   "id": "9d0402dd-9efa-47a2-906b-17f717df974b",
   "metadata": {},
   "source": [
    "Tekrar eden değerleri bulma için güzel bir yol:"
   ]
  },
  {
   "cell_type": "code",
   "execution_count": 55,
   "id": "546ea842-e198-439f-8b15-1930c69c31fb",
   "metadata": {},
   "outputs": [
    {
     "name": "stdout",
     "output_type": "stream",
     "text": [
      "+----------------+-----+\n",
      "|           names|count|\n",
      "+----------------+-----+\n",
      "|   Jennifer Wood|    2|\n",
      "|    Patrick Bell|    1|\n",
      "|   Chelsea Marsh|    1|\n",
      "|Patrick Robinson|    1|\n",
      "|     John Barber|    1|\n",
      "+----------------+-----+\n",
      "only showing top 5 rows\n",
      "\n"
     ]
    }
   ],
   "source": [
    "spark_df.groupby(\"names\").count().sort(\"count\", ascending = False).show(5)"
   ]
  },
  {
   "cell_type": "markdown",
   "id": "b132ecc8-7519-4ebc-a9b5-9ed10b9c9112",
   "metadata": {},
   "source": [
    "Gördüğün gibi tekrar edenleri çektik. Şimdi inceleyelim:"
   ]
  },
  {
   "cell_type": "code",
   "execution_count": 58,
   "id": "43a55d5f-49e3-4566-8275-38bebfc9db0d",
   "metadata": {},
   "outputs": [
    {
     "name": "stdout",
     "output_type": "stream",
     "text": [
      "+-----+-------------+----+--------------+---------------+-----+---------+-----+\n",
      "|index|        names| age|total_purchase|account_manager|years|num_sites|churn|\n",
      "+-----+-------------+----+--------------+---------------+-----+---------+-----+\n",
      "|   22|Jennifer Wood|35.0|       9381.12|              1| 6.78|     11.0|    1|\n",
      "|  439|Jennifer Wood|48.0|      11585.16|              0| 4.61|      9.0|    0|\n",
      "+-----+-------------+----+--------------+---------------+-----+---------+-----+\n",
      "\n"
     ]
    }
   ],
   "source": [
    "spark_df.filter(spark_df.names==\"Jennifer Wood\").show()"
   ]
  },
  {
   "cell_type": "markdown",
   "id": "eaa66fc5-2f87-4201-9d01-41689346e041",
   "metadata": {},
   "source": [
    "Yaşları farklı olduğu için biz bu gözlemlerin aynı isme sahip başka kişiler olduğunu anlıyoruz. Faka öğrenmek için duplicate verilerin nasıl silindiğini görelim"
   ]
  },
  {
   "cell_type": "code",
   "execution_count": 70,
   "id": "dcaba5b5-c90c-4c76-a28d-5c898cb7ee69",
   "metadata": {},
   "outputs": [
    {
     "name": "stdout",
     "output_type": "stream",
     "text": [
      "+----------------+-----+\n",
      "|           names|count|\n",
      "+----------------+-----+\n",
      "|    Patrick Bell|    1|\n",
      "|Patrick Robinson|    1|\n",
      "|   Chelsea Marsh|    1|\n",
      "|     John Barber|    1|\n",
      "|     Amber Evans|    1|\n",
      "+----------------+-----+\n",
      "only showing top 5 rows\n",
      "\n"
     ]
    }
   ],
   "source": [
    "spark_df.select(\"names\").dropDuplicates()\\\n",
    ".groupby(\"names\").count().sort(\"count\", ascending = False).show(5) # burada yaptığımız iş görselleştirme, duplice verileri silmeyi yukarıda yaptık"
   ]
  },
  {
   "cell_type": "code",
   "execution_count": 73,
   "id": "32c4db6b-3120-4e37-a54e-39af446157c1",
   "metadata": {},
   "outputs": [
    {
     "name": "stdout",
     "output_type": "stream",
     "text": [
      "+-----+-------------+----+--------------+---------------+-----+---------+-----+\n",
      "|index|        names| age|total_purchase|account_manager|years|num_sites|churn|\n",
      "+-----+-------------+----+--------------+---------------+-----+---------+-----+\n",
      "|   22|Jennifer Wood|35.0|       9381.12|              1| 6.78|     11.0|    1|\n",
      "|  439|Jennifer Wood|48.0|      11585.16|              0| 4.61|      9.0|    0|\n",
      "+-----+-------------+----+--------------+---------------+-----+---------+-----+\n",
      "\n"
     ]
    }
   ],
   "source": [
    "spark_df.filter(spark_df.names == \"Jennifer Wood\").show()   # yukarıdakini kaydetmedik o yüzden hala duplicate veri var olarak gözüküyor"
   ]
  },
  {
   "cell_type": "markdown",
   "id": "a73d55b6-980d-4a61-8791-5728f8e6a336",
   "metadata": {},
   "source": [
    "Duplicate veriler mutlaka gözlenmeli!!! Veri Çoklanması aynı gözlem verisinden mi kaynaklanıyor yoksa aynı kişinin farklı işlemleri farklı gözlemlere mi kaydedilmiş mutlaka bakılması ve sebeplerinin araştırılması gerekiyor."
   ]
  },
  {
   "cell_type": "code",
   "execution_count": 76,
   "id": "1d1d79b5-a723-41ad-a2bf-7f66efe6baa3",
   "metadata": {},
   "outputs": [
    {
     "name": "stdout",
     "output_type": "stream",
     "text": [
      "+-----+-----------+----+--------------+---------------+-----+---------+-----+\n",
      "|index|      names| age|total_purchase|account_manager|years|num_sites|churn|\n",
      "+-----+-----------+----+--------------+---------------+-----+---------+-----+\n",
      "|  456|Edwin Young|49.0|      10226.43|              0| 6.02|      8.0|    0|\n",
      "+-----+-----------+----+--------------+---------------+-----+---------+-----+\n",
      "\n"
     ]
    }
   ],
   "source": [
    "#herhangi bir gözleme ulaşmak istediğimizde. Bunu kendin çeşitlendirebilirsin.\n",
    "spark_df.where(spark_df.index == 456).show()"
   ]
  },
  {
   "cell_type": "markdown",
   "id": "2f296f9f-46c0-4083-91ce-d6c63eeba038",
   "metadata": {},
   "source": [
    "Gözlem birimine ulaştık ama içerisindeki değerlere ulaşıp kullanmak için onları nasıl spark_df'den çekebiliriz, başka bir bakışla: içerisindeki verileri nasıl kullanabileceğimiz hale getiririz?"
   ]
  },
  {
   "cell_type": "code",
   "execution_count": 79,
   "id": "5ff5a6e0-4d61-4dff-b7a3-ea07415c7d3a",
   "metadata": {},
   "outputs": [
    {
     "data": {
      "text/plain": [
       "'Jennifer Wood'"
      ]
     },
     "execution_count": 79,
     "metadata": {},
     "output_type": "execute_result"
    }
   ],
   "source": [
    "spark_df.where(spark_df.index == 439).collect()[0][\"names\"]"
   ]
  },
  {
   "cell_type": "code",
   "execution_count": 80,
   "id": "449cf876-347e-4cf8-9963-8a4b6ef5f684",
   "metadata": {},
   "outputs": [
    {
     "data": {
      "text/plain": [
       "str"
      ]
     },
     "execution_count": 80,
     "metadata": {},
     "output_type": "execute_result"
    }
   ],
   "source": [
    "type(spark_df.where(spark_df.index == 439).collect()[0][\"names\"])"
   ]
  },
  {
   "cell_type": "markdown",
   "id": "ee8ffee7-d76e-4ad4-b037-1caea6ece65f",
   "metadata": {},
   "source": [
    "İşte bu şekilde verileri çekip kullanabilirsin. collect() fonksiyonu sayesinde spark çıktılarını kullanabilir çıktılar olmasını sağladık."
   ]
  },
  {
   "cell_type": "code",
   "execution_count": 82,
   "id": "2e498471-a358-4768-bba1-a75b7b755eea",
   "metadata": {},
   "outputs": [],
   "source": [
    "first_person = spark_df.where(spark_df.index == 439).collect()[0][\"names\"]"
   ]
  },
  {
   "cell_type": "code",
   "execution_count": 83,
   "id": "dbf30a59-a0d5-491d-b9b0-b214786cfe3a",
   "metadata": {},
   "outputs": [
    {
     "name": "stdout",
     "output_type": "stream",
     "text": [
      "+-----+-------------+----+--------------+---------------+-----+---------+-----+\n",
      "|index|        names| age|total_purchase|account_manager|years|num_sites|churn|\n",
      "+-----+-------------+----+--------------+---------------+-----+---------+-----+\n",
      "|   22|Jennifer Wood|35.0|       9381.12|              1| 6.78|     11.0|    1|\n",
      "|  439|Jennifer Wood|48.0|      11585.16|              0| 4.61|      9.0|    0|\n",
      "+-----+-------------+----+--------------+---------------+-----+---------+-----+\n",
      "\n"
     ]
    }
   ],
   "source": [
    "spark_df.where(spark_df.names == first_person).show()"
   ]
  },
  {
   "cell_type": "markdown",
   "id": "345d4d03-107b-44da-8c7c-e096fe3ea868",
   "metadata": {},
   "source": [
    "Gibi kullanımlar yapabilir ya da saklayabilirsin."
   ]
  },
  {
   "cell_type": "code",
   "execution_count": null,
   "id": "cd397cd3-233a-4965-bc11-4fd2f551ee3d",
   "metadata": {},
   "outputs": [],
   "source": []
  }
 ],
 "metadata": {
  "kernelspec": {
   "display_name": "Python 3 (ipykernel)",
   "language": "python",
   "name": "python3"
  },
  "language_info": {
   "codemirror_mode": {
    "name": "ipython",
    "version": 3
   },
   "file_extension": ".py",
   "mimetype": "text/x-python",
   "name": "python",
   "nbconvert_exporter": "python",
   "pygments_lexer": "ipython3",
   "version": "3.9.12"
  }
 },
 "nbformat": 4,
 "nbformat_minor": 5
}
